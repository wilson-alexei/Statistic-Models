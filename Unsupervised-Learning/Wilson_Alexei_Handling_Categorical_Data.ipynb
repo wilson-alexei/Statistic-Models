{
  "nbformat": 4,
  "nbformat_minor": 0,
  "metadata": {
    "kernelspec": {
      "display_name": "Python 3",
      "language": "python",
      "name": "python3"
    },
    "language_info": {
      "codemirror_mode": {
        "name": "ipython",
        "version": 3
      },
      "file_extension": ".py",
      "mimetype": "text/x-python",
      "name": "python",
      "nbconvert_exporter": "python",
      "pygments_lexer": "ipython3",
      "version": "3.7.5"
    },
    "colab": {
      "provenance": []
    }
  },
  "cells": [
    {
      "cell_type": "markdown",
      "metadata": {
        "id": "YgqcN5LzbfFZ"
      },
      "source": [
        "# Handling Categorical Data in Python\n",
        "\n",
        "If you are familiar with machine learning, you will probably have encountered **categorical features** in many datasets. These generally include different categories or levels associated with the observation, which are non-numerical and thus need to be converted (*to numerical values*) so machines can process them.\n",
        "\n",
        "In this tutorial, you’ll learn the common tricks to handle this type of data and preprocess it to build machine learning models with them. More specifically, you will learn:\n",
        "\n",
        "- The difference between **categorical** and **continuous** data in your dataset and identifying the type of data.\n",
        "- to do **basic exploration** of such data to extract information from it.\n",
        "- You will learn more about various **encoding techniques** in machine learning for categorical data in Python."
      ]
    },
    {
      "cell_type": "markdown",
      "metadata": {
        "id": "EiJg3oFfbfFa"
      },
      "source": [
        "## Identifying Categorical Data: Nominal, Ordinal and Continuous\n",
        "\n",
        "Categorical features can only take on a limited, and usually fixed, number of possible values. For example, if a dataset is about information related to users, then you will typically find features like *country*, *gender*, *age group*, etc. Alternatively, if the data you're working with is related to products, you will find features like product type, manufacturer, seller and so on.\n",
        "\n",
        "These are all categorical features in your dataset. These features are typically stored as **text values** which represent various traits of the observations. For example, gender is described as **Male (M)** or **Female (F)**, product type could be described as electronics, apparels, food etc.\n",
        "\n",
        "Note that these type of features where the categories are only labeled without any order of precedence are called nominal features.\n",
        "\n",
        "Features which have some order associated with them are called ordinal features. For example, a feature like economic status, with three categories: *low*, *medium* and *high*, which have an order associated with them.\n",
        "\n",
        "There are also continuous features. These are numeric variables that have an infinite number of values between any two values. A continuous variable can be numeric or a date/time.\n",
        "\n",
        "Regardless of what the value is used for, the challenge is determining how to use this data in the analysis because of the following constraints:\n",
        "\n",
        "- Categorical features may have a very large number of levels, known as **high cardinality**, (for example, cities or URLs), where most of the levels appear in a relatively small number of instances.\n",
        "- Many machine learning models, such as regression or SVM, are algebraic. This means that their input must be **numerical**. To use these models, categories must be transformed into numbers first, before you can apply the learning algorithm on them.\n",
        "- While some ML packages or libraries might transform categorical data to numeric automatically based on some default embedding method, many other ML packages don’t support such inputs.\n",
        "- For the machine, categorical data doesn’t contain the same context or information that humans can easily associate and understand. For example, when looking at a feature called `City` with three cities `New York`, `New Jersey` and `New Delhi`, humans can infer that `New York` is closely related to `New Jersey` as they are from same country, while `New York` and ``New Delhi`` are much different. But for the model, `New York`, `New Jersey` and `New Delhi`, are just three different levels (possible values) of the same feature `City`. If you don’t specify the additional contextual information, it will be impossible for the model to differentiate between highly different levels.\n",
        "\n",
        "You therefore are faced with the challenge of figuring out how to turn these text values into numerical values for further processing and unmask lots of interesting information which these features might hide. Typically, any standard work-flow in feature engineering involves some form of transformation of these categorical values into numeric labels and then applying some encoding scheme on these values."
      ]
    },
    {
      "cell_type": "markdown",
      "metadata": {
        "id": "-BLR_-PTbfFb"
      },
      "source": [
        "## General Exploration steps for Categorical Data\n",
        "In this section, you'll focus on dealing with categorical features in the `pnwflights14` dataset, but you can apply the same procedure to all kinds of datasets. `pnwflights14` is a modified version of Hadley Wickham's `nycflights13` dataset and contains information about all flights that departed from the two major airports of the Pacific Northwest (PNW), SEA in Seattle and PDX in Portland, in 2014: 162,049 flights in total.\n",
        "\n",
        "To help understand what causes delays, it also includes a number of other useful datasets:\n",
        "\n",
        "- `weather`: the hourly meterological data for each airport\n",
        "- `planes`: constructor information about each plane\n",
        "- `airports`: airport names and locations\n",
        "- `airlines`: translation between two letter carrier codes and names\n",
        "\n",
        "The datasets can be found [here](https://github.com/ismayc/pnwflights14).\n",
        "\n",
        "Since it's always a good idea to understand before starting working on it, you'll briefly explore the data! To do this, you will first import the basic libraries that you will be using throughout the tutorial, namely `pandas`, `numpy` and `copy`.\n",
        "\n",
        "Also make sure that you set Matplotlib to plot inline, which means that the outputted plot will appear immediately under each code cell."
      ]
    },
    {
      "cell_type": "code",
      "metadata": {
        "id": "Tj5SRl8ybfFc"
      },
      "source": [
        "import pandas as pd\n",
        "import numpy as np\n",
        "import copy\n",
        "%matplotlib inline"
      ],
      "execution_count": null,
      "outputs": []
    },
    {
      "cell_type": "markdown",
      "metadata": {
        "id": "WDD5NPqKbfFf"
      },
      "source": [
        "Next you will read the flights dataset in a **pandas DataFrame** with `read_csv()` and check the contents with the `.head()` method."
      ]
    },
    {
      "cell_type": "code",
      "metadata": {
        "id": "FLwty0cwbfFg",
        "colab": {
          "base_uri": "https://localhost:8080/",
          "height": 224
        },
        "outputId": "519b6fe5-b38d-4673-d03d-bdfc4a50de18"
      },
      "source": [
        "df_flights = pd.read_csv('https://raw.githubusercontent.com/DrJieTao/ba545-docs/master/data/flights.csv')\n",
        "\n",
        "df_flights.head()\n"
      ],
      "execution_count": null,
      "outputs": [
        {
          "output_type": "execute_result",
          "data": {
            "text/html": [
              "<div>\n",
              "<style scoped>\n",
              "    .dataframe tbody tr th:only-of-type {\n",
              "        vertical-align: middle;\n",
              "    }\n",
              "\n",
              "    .dataframe tbody tr th {\n",
              "        vertical-align: top;\n",
              "    }\n",
              "\n",
              "    .dataframe thead th {\n",
              "        text-align: right;\n",
              "    }\n",
              "</style>\n",
              "<table border=\"1\" class=\"dataframe\">\n",
              "  <thead>\n",
              "    <tr style=\"text-align: right;\">\n",
              "      <th></th>\n",
              "      <th>year</th>\n",
              "      <th>month</th>\n",
              "      <th>day</th>\n",
              "      <th>dep_time</th>\n",
              "      <th>dep_delay</th>\n",
              "      <th>arr_time</th>\n",
              "      <th>arr_delay</th>\n",
              "      <th>carrier</th>\n",
              "      <th>tailnum</th>\n",
              "      <th>flight</th>\n",
              "      <th>origin</th>\n",
              "      <th>dest</th>\n",
              "      <th>air_time</th>\n",
              "      <th>distance</th>\n",
              "      <th>hour</th>\n",
              "      <th>minute</th>\n",
              "    </tr>\n",
              "  </thead>\n",
              "  <tbody>\n",
              "    <tr>\n",
              "      <th>0</th>\n",
              "      <td>2014</td>\n",
              "      <td>1</td>\n",
              "      <td>1</td>\n",
              "      <td>1.0</td>\n",
              "      <td>96.0</td>\n",
              "      <td>235.0</td>\n",
              "      <td>70.0</td>\n",
              "      <td>AS</td>\n",
              "      <td>N508AS</td>\n",
              "      <td>145</td>\n",
              "      <td>PDX</td>\n",
              "      <td>ANC</td>\n",
              "      <td>194.0</td>\n",
              "      <td>1542</td>\n",
              "      <td>0.0</td>\n",
              "      <td>1.0</td>\n",
              "    </tr>\n",
              "    <tr>\n",
              "      <th>1</th>\n",
              "      <td>2014</td>\n",
              "      <td>1</td>\n",
              "      <td>1</td>\n",
              "      <td>4.0</td>\n",
              "      <td>-6.0</td>\n",
              "      <td>738.0</td>\n",
              "      <td>-23.0</td>\n",
              "      <td>US</td>\n",
              "      <td>N195UW</td>\n",
              "      <td>1830</td>\n",
              "      <td>SEA</td>\n",
              "      <td>CLT</td>\n",
              "      <td>252.0</td>\n",
              "      <td>2279</td>\n",
              "      <td>0.0</td>\n",
              "      <td>4.0</td>\n",
              "    </tr>\n",
              "    <tr>\n",
              "      <th>2</th>\n",
              "      <td>2014</td>\n",
              "      <td>1</td>\n",
              "      <td>1</td>\n",
              "      <td>8.0</td>\n",
              "      <td>13.0</td>\n",
              "      <td>548.0</td>\n",
              "      <td>-4.0</td>\n",
              "      <td>UA</td>\n",
              "      <td>N37422</td>\n",
              "      <td>1609</td>\n",
              "      <td>PDX</td>\n",
              "      <td>IAH</td>\n",
              "      <td>201.0</td>\n",
              "      <td>1825</td>\n",
              "      <td>0.0</td>\n",
              "      <td>8.0</td>\n",
              "    </tr>\n",
              "    <tr>\n",
              "      <th>3</th>\n",
              "      <td>2014</td>\n",
              "      <td>1</td>\n",
              "      <td>1</td>\n",
              "      <td>28.0</td>\n",
              "      <td>-2.0</td>\n",
              "      <td>800.0</td>\n",
              "      <td>-23.0</td>\n",
              "      <td>US</td>\n",
              "      <td>N547UW</td>\n",
              "      <td>466</td>\n",
              "      <td>PDX</td>\n",
              "      <td>CLT</td>\n",
              "      <td>251.0</td>\n",
              "      <td>2282</td>\n",
              "      <td>0.0</td>\n",
              "      <td>28.0</td>\n",
              "    </tr>\n",
              "    <tr>\n",
              "      <th>4</th>\n",
              "      <td>2014</td>\n",
              "      <td>1</td>\n",
              "      <td>1</td>\n",
              "      <td>34.0</td>\n",
              "      <td>44.0</td>\n",
              "      <td>325.0</td>\n",
              "      <td>43.0</td>\n",
              "      <td>AS</td>\n",
              "      <td>N762AS</td>\n",
              "      <td>121</td>\n",
              "      <td>SEA</td>\n",
              "      <td>ANC</td>\n",
              "      <td>201.0</td>\n",
              "      <td>1448</td>\n",
              "      <td>0.0</td>\n",
              "      <td>34.0</td>\n",
              "    </tr>\n",
              "  </tbody>\n",
              "</table>\n",
              "</div>"
            ],
            "text/plain": [
              "   year  month  day  dep_time  dep_delay  ...  dest  air_time distance hour  minute\n",
              "0  2014      1    1       1.0       96.0  ...   ANC     194.0     1542  0.0     1.0\n",
              "1  2014      1    1       4.0       -6.0  ...   CLT     252.0     2279  0.0     4.0\n",
              "2  2014      1    1       8.0       13.0  ...   IAH     201.0     1825  0.0     8.0\n",
              "3  2014      1    1      28.0       -2.0  ...   CLT     251.0     2282  0.0    28.0\n",
              "4  2014      1    1      34.0       44.0  ...   ANC     201.0     1448  0.0    34.0\n",
              "\n",
              "[5 rows x 16 columns]"
            ]
          },
          "metadata": {
            "tags": []
          },
          "execution_count": 2
        }
      ]
    },
    {
      "cell_type": "markdown",
      "metadata": {
        "id": "pASNbKCebfFm"
      },
      "source": [
        "As you will probably notice, the DataFrame above contains all kinds of information about flights like year, departure delay, arrival time, carrier, destination, etc."
      ]
    },
    {
      "cell_type": "markdown",
      "metadata": {
        "id": "aY0Qk5etbfFm"
      },
      "source": [
        "The next step is to gather some information about different column in your DataFrame. You can do so by using `.info()`, which basically gives you information about the number of rows, columns, column data types, memory usage, etc."
      ]
    },
    {
      "cell_type": "code",
      "metadata": {
        "id": "odMRHArSbfFn",
        "colab": {
          "base_uri": "https://localhost:8080/"
        },
        "outputId": "d958d0d7-3f6d-42dd-ed8e-f94911e65c54"
      },
      "source": [
        "df_flights.info()"
      ],
      "execution_count": null,
      "outputs": [
        {
          "output_type": "stream",
          "text": [
            "<class 'pandas.core.frame.DataFrame'>\n",
            "RangeIndex: 162049 entries, 0 to 162048\n",
            "Data columns (total 16 columns):\n",
            " #   Column     Non-Null Count   Dtype  \n",
            "---  ------     --------------   -----  \n",
            " 0   year       162049 non-null  int64  \n",
            " 1   month      162049 non-null  int64  \n",
            " 2   day        162049 non-null  int64  \n",
            " 3   dep_time   161192 non-null  float64\n",
            " 4   dep_delay  161192 non-null  float64\n",
            " 5   arr_time   161061 non-null  float64\n",
            " 6   arr_delay  160748 non-null  float64\n",
            " 7   carrier    162049 non-null  object \n",
            " 8   tailnum    161801 non-null  object \n",
            " 9   flight     162049 non-null  int64  \n",
            " 10  origin     162049 non-null  object \n",
            " 11  dest       162049 non-null  object \n",
            " 12  air_time   160748 non-null  float64\n",
            " 13  distance   162049 non-null  int64  \n",
            " 14  hour       161192 non-null  float64\n",
            " 15  minute     161192 non-null  float64\n",
            "dtypes: float64(7), int64(5), object(4)\n",
            "memory usage: 19.8+ MB\n"
          ],
          "name": "stdout"
        }
      ]
    },
    {
      "cell_type": "markdown",
      "metadata": {
        "id": "2TBRTVcTbfFp"
      },
      "source": [
        "As you already knew, columns like `year`, `month` and `day` are read as integers, and `dep_time`, `dep_delay` etc. are read as floats.\n",
        "\n",
        "The columns with object `dtype` are the possible **categorical** features in your dataset.\n",
        "\n",
        "The reason why you would say that these categorical features are 'possible' is because you **should NOT** completely rely on `.info()` to get the real data type of the values of a feature, as some missing values that are represented as strings in a continuous feature can coerce it to read them as `object` dtypes.\n",
        "\n",
        "That's why it's always a good idea to investigate your raw dataset thoroughly and then think about cleaning it.\n",
        "\n",
        "One of the most common ways to analyze the relationship between a categorical feature and a continuous feature is to plot a boxplot. The boxplot is a simple way of representing statistical data on a plot in which a rectangle is drawn to represent the second and third quartiles, usually with a vertical line inside to indicate the median value. The lower and upper quartiles are shown as horizontal lines at either side of the rectangle.\n",
        "\n",
        "You can plot a boxplot by invoking `.boxplot()` on your DataFrame. Here, you will plot a boxplot of the `dep_time` column with respect to the two origin of the flights from `PDX` and `SEA`."
      ]
    },
    {
      "cell_type": "code",
      "metadata": {
        "id": "VuKJBrc_bfFq",
        "colab": {
          "base_uri": "https://localhost:8080/",
          "height": 446
        },
        "outputId": "aa48b18e-e10e-4254-d4b6-27aa9856ac98"
      },
      "source": [
        "df_flights.boxplot('dep_time','origin',rot = 30,figsize=(5,6))"
      ],
      "execution_count": null,
      "outputs": [
        {
          "output_type": "execute_result",
          "data": {
            "text/plain": [
              "<matplotlib.axes._subplots.AxesSubplot at 0x7faaf5c151d0>"
            ]
          },
          "metadata": {
            "tags": []
          },
          "execution_count": 4
        },
        {
          "output_type": "display_data",
          "data": {
            "image/png": "[encoded data removed]",
            "text/plain": [
              "<Figure size 360x432 with 1 Axes>"
            ]
          },
          "metadata": {
            "tags": [],
            "needs_background": "light"
          }
        }
      ]
    },
    {
      "cell_type": "markdown",
      "metadata": {
        "id": "k57wQI50bfFt"
      },
      "source": [
        "As you will only be dealing with categorical features in this tutorial, it's better to filter them out. You can create a separate DataFrame consisting of only these features by running the following command. The method `.copy()` is used here so that any changes made in new DataFrame don't get reflected in the original one.\n",
        "\n",
        "**NOTE**: it is always a good practice to make a copy of the dataset when you want to change it."
      ]
    },
    {
      "cell_type": "code",
      "metadata": {
        "id": "gLdZTn64bfFu"
      },
      "source": [
        "cat_df_flights = df_flights.select_dtypes(include=['object']).copy()"
      ],
      "execution_count": null,
      "outputs": []
    },
    {
      "cell_type": "markdown",
      "metadata": {
        "id": "W5lrIO25bfFw"
      },
      "source": [
        "Again, use the `.head()` method to check if you have filtered the required columns."
      ]
    },
    {
      "cell_type": "code",
      "metadata": {
        "id": "KeqXTHEdbfFx",
        "colab": {
          "base_uri": "https://localhost:8080/",
          "height": 204
        },
        "outputId": "b0c4ea8a-23ad-42a5-bb8b-890cb63471a6"
      },
      "source": [
        "cat_df_flights.head()"
      ],
      "execution_count": null,
      "outputs": [
        {
          "output_type": "execute_result",
          "data": {
            "text/html": [
              "<div>\n",
              "<style scoped>\n",
              "    .dataframe tbody tr th:only-of-type {\n",
              "        vertical-align: middle;\n",
              "    }\n",
              "\n",
              "    .dataframe tbody tr th {\n",
              "        vertical-align: top;\n",
              "    }\n",
              "\n",
              "    .dataframe thead th {\n",
              "        text-align: right;\n",
              "    }\n",
              "</style>\n",
              "<table border=\"1\" class=\"dataframe\">\n",
              "  <thead>\n",
              "    <tr style=\"text-align: right;\">\n",
              "      <th></th>\n",
              "      <th>carrier</th>\n",
              "      <th>tailnum</th>\n",
              "      <th>origin</th>\n",
              "      <th>dest</th>\n",
              "    </tr>\n",
              "  </thead>\n",
              "  <tbody>\n",
              "    <tr>\n",
              "      <th>0</th>\n",
              "      <td>AS</td>\n",
              "      <td>N508AS</td>\n",
              "      <td>PDX</td>\n",
              "      <td>ANC</td>\n",
              "    </tr>\n",
              "    <tr>\n",
              "      <th>1</th>\n",
              "      <td>US</td>\n",
              "      <td>N195UW</td>\n",
              "      <td>SEA</td>\n",
              "      <td>CLT</td>\n",
              "    </tr>\n",
              "    <tr>\n",
              "      <th>2</th>\n",
              "      <td>UA</td>\n",
              "      <td>N37422</td>\n",
              "      <td>PDX</td>\n",
              "      <td>IAH</td>\n",
              "    </tr>\n",
              "    <tr>\n",
              "      <th>3</th>\n",
              "      <td>US</td>\n",
              "      <td>N547UW</td>\n",
              "      <td>PDX</td>\n",
              "      <td>CLT</td>\n",
              "    </tr>\n",
              "    <tr>\n",
              "      <th>4</th>\n",
              "      <td>AS</td>\n",
              "      <td>N762AS</td>\n",
              "      <td>SEA</td>\n",
              "      <td>ANC</td>\n",
              "    </tr>\n",
              "  </tbody>\n",
              "</table>\n",
              "</div>"
            ],
            "text/plain": [
              "  carrier tailnum origin dest\n",
              "0      AS  N508AS    PDX  ANC\n",
              "1      US  N195UW    SEA  CLT\n",
              "2      UA  N37422    PDX  IAH\n",
              "3      US  N547UW    PDX  CLT\n",
              "4      AS  N762AS    SEA  ANC"
            ]
          },
          "metadata": {
            "tags": []
          },
          "execution_count": 6
        }
      ]
    },
    {
      "cell_type": "markdown",
      "metadata": {
        "id": "CUsgINZZbfF2"
      },
      "source": [
        "One of the most common data pre-processing steps is to check for **null** values in the dataset. You can get the total number of missing values in the DataFrame by the following one liner code:"
      ]
    },
    {
      "cell_type": "code",
      "metadata": {
        "id": "_4qt8pi9bfF3",
        "colab": {
          "base_uri": "https://localhost:8080/"
        },
        "outputId": "1a70a5ae-425e-47ca-cd18-ad5086798e4e"
      },
      "source": [
        "cat_df_flights.isnull().values.sum()"
      ],
      "execution_count": null,
      "outputs": [
        {
          "output_type": "execute_result",
          "data": {
            "text/plain": [
              "248"
            ]
          },
          "metadata": {
            "tags": []
          },
          "execution_count": 7
        }
      ]
    },
    {
      "cell_type": "markdown",
      "metadata": {
        "id": "EAALISOsbfF5"
      },
      "source": [
        "Let's also check the column-wise distribution of null values:"
      ]
    },
    {
      "cell_type": "code",
      "metadata": {
        "id": "yIptNB_4bfF6",
        "colab": {
          "base_uri": "https://localhost:8080/"
        },
        "outputId": "1a21090d-c4cf-48b3-c7fd-011cbc75965e"
      },
      "source": [
        "cat_df_flights.isnull().sum()"
      ],
      "execution_count": null,
      "outputs": [
        {
          "output_type": "execute_result",
          "data": {
            "text/plain": [
              "carrier      0\n",
              "tailnum    248\n",
              "origin       0\n",
              "dest         0\n",
              "dtype: int64"
            ]
          },
          "metadata": {
            "tags": []
          },
          "execution_count": 8
        }
      ]
    },
    {
      "cell_type": "markdown",
      "metadata": {
        "id": "aFIkrkyMbfF9"
      },
      "source": [
        "It seems that only the `tailnum` column has null values. You can do a **mode imputation** for those null values. The function `fillna()` is handy for such operations.\n",
        "\n",
        "Note the chaining of method `.value_counts()` in the code below. This returns the frequency distribution of each category in the feature, and then selecting the top category, which is the mode, with the `.index` attribute.\n",
        "\n"
      ]
    },
    {
      "cell_type": "code",
      "metadata": {
        "id": "x0WuEGuNbfF9"
      },
      "source": [
        "cat_df_flights = cat_df_flights.fillna(cat_df_flights['tailnum'].value_counts().index[0])"
      ],
      "execution_count": null,
      "outputs": []
    },
    {
      "cell_type": "markdown",
      "metadata": {
        "id": "iNrHLcvQbfF_"
      },
      "source": [
        "Tip: read more about method chaining with pandas [here](https://www.datacamp.com/community/tutorials/pandas-idiomatic).\n",
        "\n",
        "Let's check the number of null values after imputation should result in a zero count."
      ]
    },
    {
      "cell_type": "code",
      "metadata": {
        "id": "rPYLQvqibfGA",
        "colab": {
          "base_uri": "https://localhost:8080/"
        },
        "outputId": "c55f25d6-da47-4e37-9b16-0718ac0cb01a"
      },
      "source": [
        "cat_df_flights.isnull().values.sum()"
      ],
      "execution_count": null,
      "outputs": [
        {
          "output_type": "execute_result",
          "data": {
            "text/plain": [
              "0"
            ]
          },
          "metadata": {
            "tags": []
          },
          "execution_count": 10
        }
      ]
    },
    {
      "cell_type": "markdown",
      "metadata": {
        "id": "bG4fm_nRbfGC"
      },
      "source": [
        "There are several ways of checking if there is any null value in a dataset - please use them when you are doing your own EDA.\n",
        "\n",
        "Also, NULL values are not the only *missing* values we want/need to deal with - for instance, a `-1` value in the `age` column is also missing."
      ]
    },
    {
      "cell_type": "markdown",
      "metadata": {
        "id": "G-5wzpfNbfGD"
      },
      "source": [
        "Another Exploratory Data Analysis (EDA) step that you might want to do on categorical features is the frequency distribution of categories within the feature, which can be done with the `.value_counts()` method as described earlier."
      ]
    },
    {
      "cell_type": "code",
      "metadata": {
        "id": "uDa9RxGVbfGD",
        "colab": {
          "base_uri": "https://localhost:8080/"
        },
        "outputId": "fa74434c-4e30-49ac-accd-7eb51d60a204"
      },
      "source": [
        "cat_df_flights['carrier'].value_counts()"
      ],
      "execution_count": null,
      "outputs": [
        {
          "output_type": "execute_result",
          "data": {
            "text/plain": [
              "AS    62460\n",
              "WN    23355\n",
              "OO    18710\n",
              "DL    16716\n",
              "UA    16671\n",
              "AA     7586\n",
              "US     5946\n",
              "B6     3540\n",
              "VX     3272\n",
              "F9     2698\n",
              "HA     1095\n",
              "Name: carrier, dtype: int64"
            ]
          },
          "metadata": {
            "tags": []
          },
          "execution_count": 11
        }
      ]
    },
    {
      "cell_type": "markdown",
      "metadata": {
        "id": "IWGW_L2IbfGH"
      },
      "source": [
        "To know the count of distinct categories within the feature you can chain the previous code with the `.count()` method:"
      ]
    },
    {
      "cell_type": "code",
      "metadata": {
        "id": "JeKOLGtwbfGI",
        "colab": {
          "base_uri": "https://localhost:8080/"
        },
        "outputId": "3a6ef381-8bdb-4741-852d-96a036ca2ee1"
      },
      "source": [
        "cat_df_flights['carrier'].value_counts().count()"
      ],
      "execution_count": null,
      "outputs": [
        {
          "output_type": "execute_result",
          "data": {
            "text/plain": [
              "11"
            ]
          },
          "metadata": {
            "tags": []
          },
          "execution_count": 12
        }
      ]
    },
    {
      "cell_type": "markdown",
      "metadata": {
        "id": "7mpO3lyObfGK"
      },
      "source": [
        "Visual exploration is the most effective way to extract information between variables.\n",
        "\n",
        "Below is a basic template to plot a barplot of the frequency distribution of a categorical feature using the `seaborn` package, which shows the frequency distribution of the `carrier` column. You can play with different arguments to change the look of the plot. If you want to learn more about seaborn, you can take a look at this [tutorial](https://www.datacamp.com/community/tutorials/seaborn-python-tutorial)."
      ]
    },
    {
      "cell_type": "code",
      "metadata": {
        "id": "b531YcTAbfGL",
        "colab": {
          "base_uri": "https://localhost:8080/",
          "height": 355
        },
        "outputId": "8ad0a359-f982-4dfe-8687-2f3ee2f1eebb"
      },
      "source": [
        "%matplotlib inline\n",
        "import seaborn as sns\n",
        "import matplotlib.pyplot as plt\n",
        "plt.style.use('ggplot')\n",
        "carrier_count = cat_df_flights['carrier'].value_counts()\n",
        "sns.set(style=\"darkgrid\")\n",
        "sns.barplot(carrier_count.index, carrier_count.values, alpha=0.9)\n",
        "plt.title('Frequency Distribution of Carriers')\n",
        "plt.ylabel('Number of Occurrences', fontsize=12)\n",
        "plt.xlabel('Carrier', fontsize=12)\n",
        "plt.show()"
      ],
      "execution_count": null,
      "outputs": [
        {
          "output_type": "stream",
          "text": [
            "/usr/local/lib/python3.6/dist-packages/seaborn/_decorators.py:43: FutureWarning: Pass the following variables as keyword args: x, y. From version 0.12, the only valid positional argument will be `data`, and passing other arguments without an explicit keyword will result in an error or misinterpretation.\n",
            "  FutureWarning\n"
          ],
          "name": "stderr"
        },
        {
          "output_type": "display_data",
          "data": {
            "image/png": "[encoded data removed]",
            "text/plain": [
              "<Figure size 432x288 with 1 Axes>"
            ]
          },
          "metadata": {
            "tags": []
          }
        }
      ]
    },
    {
      "cell_type": "markdown",
      "metadata": {
        "id": "yDKGjyqjbfGN"
      },
      "source": [
        "Similarly, you could plot a pie chart with the `matplotlib` library to get the same information. The `labels` list below holds the category names from the `carrier` column:"
      ]
    },
    {
      "cell_type": "code",
      "metadata": {
        "id": "nPRsgYagbfGN",
        "colab": {
          "base_uri": "https://localhost:8080/",
          "height": 257
        },
        "outputId": "7cb67bd2-a902-424c-a6d5-46c3709c875e"
      },
      "source": [
        "labels = cat_df_flights['carrier'].astype('category').cat.categories.tolist()\n",
        "counts = cat_df_flights['carrier'].value_counts()\n",
        "sizes = [counts[var_cat] for var_cat in labels]\n",
        "fig1, ax1 = plt.subplots()\n",
        "ax1.pie(sizes, labels=labels, autopct='%1.1f%%', shadow=True) #autopct is show the % on plot\n",
        "ax1.axis('equal')\n",
        "plt.show()"
      ],
      "execution_count": null,
      "outputs": [
        {
          "output_type": "display_data",
          "data": {
            "image/png": "[encoded data removed]",
            "text/plain": [
              "<Figure size 432x288 with 1 Axes>"
            ]
          },
          "metadata": {
            "tags": []
          }
        }
      ]
    },
    {
      "cell_type": "markdown",
      "metadata": {
        "id": "H49W58tWbfGQ"
      },
      "source": [
        "## Encoding Categorical Data\n",
        "\n",
        "You will now learn different techniques to encode the categorical features to numeric quantities. To keep it simple, you will apply these encoding methods only on the `carrier` column. However, the same approach can be extended to all columns.\n",
        "\n",
        "The techniques that you'll cover are the following:\n",
        "\n",
        "- Replacing values\n",
        "- Encoding labels\n",
        "- One-Hot encoding\n",
        "- Binary encoding\n",
        "- Backward difference encoding\n",
        "- Miscellaneous features\n",
        "\n",
        "### Replace Values\n",
        "Let's start with the most basic method, which is just replacing the categories with the desired numbers. This can be achieved with the help of the `replace()` function in `pandas`. The idea is that you have the liberty to choose whatever numbers you want to assign to the categories according to the business use case.\n",
        "\n",
        "You will now create a dictionary which contains mapping numbers for each category in the `carrier` column:"
      ]
    },
    {
      "cell_type": "code",
      "metadata": {
        "id": "hPeFnKsmbfGR"
      },
      "source": [
        "replace_map = {'carrier': {'AA': 1, 'AS': 2, 'B6': 3, 'DL': 4,\n",
        "                                  'F9': 5, 'HA': 6, 'OO': 7 , 'UA': 8 , 'US': 9,'VX': 10,'WN': 11}}\n"
      ],
      "execution_count": null,
      "outputs": []
    },
    {
      "cell_type": "markdown",
      "metadata": {
        "id": "9POKMjmcbfGT"
      },
      "source": [
        "Note that defining a mapping via a hard coded dictionary is easy when the number of categories is low, like in this case which is `11`. You can achieve the same mapping with the help of [dictionary comprehensions](https://www.datacamp.com/community/tutorials/python-dictionary-comprehension) as shown below. This will be useful when the categories count is high and you don't want to type out each mapping. You will store the category names in a list called `labels` and then `zip` it to a seqeunce of numbers and iterate over it."
      ]
    },
    {
      "cell_type": "code",
      "metadata": {
        "id": "CGA13a2MbfGU",
        "colab": {
          "base_uri": "https://localhost:8080/"
        },
        "outputId": "919dac2f-0f0b-45dc-b5de-67338bd73ed8"
      },
      "source": [
        "labels = cat_df_flights['carrier'].astype('category').cat.categories.tolist()\n",
        "replace_map_comp = {'carrier' : {k: v for k,v in zip(labels,list(range(1,len(labels)+1)))}}\n",
        "\n",
        "print(replace_map_comp)\n"
      ],
      "execution_count": null,
      "outputs": [
        {
          "output_type": "stream",
          "text": [
            "{'carrier': {'AA': 1, 'AS': 2, 'B6': 3, 'DL': 4, 'F9': 5, 'HA': 6, 'OO': 7, 'UA': 8, 'US': 9, 'VX': 10, 'WN': 11}}\n"
          ],
          "name": "stdout"
        }
      ]
    },
    {
      "cell_type": "markdown",
      "metadata": {
        "id": "VjZa6_3TbfGW"
      },
      "source": [
        "Throughout this tutorial, you will be making a copy of the dataset via the `.copy()` method to practice each encoding technique to ensure that the original DataFrame stays intact and whatever changes you are doing happen only in the copied one."
      ]
    },
    {
      "cell_type": "code",
      "metadata": {
        "id": "AfOwnCpIbfGX"
      },
      "source": [
        "cat_df_flights_replace = cat_df_flights.copy()"
      ],
      "execution_count": null,
      "outputs": []
    },
    {
      "cell_type": "markdown",
      "metadata": {
        "id": "_0psg6HubfGa"
      },
      "source": [
        "Use the `replace()` function on the DataFrame by passing the mapping dictionary as argument:"
      ]
    },
    {
      "cell_type": "code",
      "metadata": {
        "id": "iHcf650lbfGb",
        "colab": {
          "base_uri": "https://localhost:8080/",
          "height": 204
        },
        "outputId": "26075a20-039e-4298-bb31-9f0d8c3ee15a"
      },
      "source": [
        "cat_df_flights_replace.replace(replace_map_comp, inplace=True)\n",
        "\n",
        "cat_df_flights_replace.head()"
      ],
      "execution_count": null,
      "outputs": [
        {
          "output_type": "execute_result",
          "data": {
            "text/html": [
              "<div>\n",
              "<style scoped>\n",
              "    .dataframe tbody tr th:only-of-type {\n",
              "        vertical-align: middle;\n",
              "    }\n",
              "\n",
              "    .dataframe tbody tr th {\n",
              "        vertical-align: top;\n",
              "    }\n",
              "\n",
              "    .dataframe thead th {\n",
              "        text-align: right;\n",
              "    }\n",
              "</style>\n",
              "<table border=\"1\" class=\"dataframe\">\n",
              "  <thead>\n",
              "    <tr style=\"text-align: right;\">\n",
              "      <th></th>\n",
              "      <th>carrier</th>\n",
              "      <th>tailnum</th>\n",
              "      <th>origin</th>\n",
              "      <th>dest</th>\n",
              "    </tr>\n",
              "  </thead>\n",
              "  <tbody>\n",
              "    <tr>\n",
              "      <th>0</th>\n",
              "      <td>2</td>\n",
              "      <td>N508AS</td>\n",
              "      <td>PDX</td>\n",
              "      <td>ANC</td>\n",
              "    </tr>\n",
              "    <tr>\n",
              "      <th>1</th>\n",
              "      <td>9</td>\n",
              "      <td>N195UW</td>\n",
              "      <td>SEA</td>\n",
              "      <td>CLT</td>\n",
              "    </tr>\n",
              "    <tr>\n",
              "      <th>2</th>\n",
              "      <td>8</td>\n",
              "      <td>N37422</td>\n",
              "      <td>PDX</td>\n",
              "      <td>IAH</td>\n",
              "    </tr>\n",
              "    <tr>\n",
              "      <th>3</th>\n",
              "      <td>9</td>\n",
              "      <td>N547UW</td>\n",
              "      <td>PDX</td>\n",
              "      <td>CLT</td>\n",
              "    </tr>\n",
              "    <tr>\n",
              "      <th>4</th>\n",
              "      <td>2</td>\n",
              "      <td>N762AS</td>\n",
              "      <td>SEA</td>\n",
              "      <td>ANC</td>\n",
              "    </tr>\n",
              "  </tbody>\n",
              "</table>\n",
              "</div>"
            ],
            "text/plain": [
              "   carrier tailnum origin dest\n",
              "0        2  N508AS    PDX  ANC\n",
              "1        9  N195UW    SEA  CLT\n",
              "2        8  N37422    PDX  IAH\n",
              "3        9  N547UW    PDX  CLT\n",
              "4        2  N762AS    SEA  ANC"
            ]
          },
          "metadata": {
            "tags": []
          },
          "execution_count": 18
        }
      ]
    },
    {
      "cell_type": "markdown",
      "metadata": {
        "id": "RwAMDmzubfGd"
      },
      "source": [
        "As you can observe, you have encoded the categories with the mapped numbers in your DataFrame.\n",
        "\n",
        "You can also check the dtype of the newly encoded column, which is now converted to integers."
      ]
    },
    {
      "cell_type": "code",
      "metadata": {
        "id": "Zra0ZyxfbfGe"
      },
      "source": [
        "## Please add your code here to check if the data type of the newly added\n",
        "## column is indeed 'int64'\n"
      ],
      "execution_count": null,
      "outputs": []
    },
    {
      "cell_type": "markdown",
      "metadata": {
        "id": "KaZGAXLybfGi"
      },
      "source": [
        "Tip: in Python, it's a good practice to typecast categorical features to a `category` dtype because they make the operations on such columns much faster than the `object` dtype. You can do the typecasting by using `.astype()` method on your columns like shown below:"
      ]
    },
    {
      "cell_type": "code",
      "metadata": {
        "id": "TvFOiKfbbfGn",
        "colab": {
          "base_uri": "https://localhost:8080/"
        },
        "outputId": "528fb2e4-2985-4bbe-82e3-5a2f516954e2"
      },
      "source": [
        "cat_df_flights_lc = cat_df_flights.copy()\n",
        "cat_df_flights_lc['carrier'] = cat_df_flights_lc['carrier'].astype('category')\n",
        "cat_df_flights_lc['origin'] = cat_df_flights_lc['origin'].astype('category')                                                              \n",
        "\n",
        "cat_df_flights_lc.dtypes"
      ],
      "execution_count": null,
      "outputs": [
        {
          "output_type": "execute_result",
          "data": {
            "text/plain": [
              "carrier    category\n",
              "tailnum      object\n",
              "origin     category\n",
              "dest         object\n",
              "dtype: object"
            ]
          },
          "metadata": {
            "tags": []
          },
          "execution_count": 20
        }
      ]
    },
    {
      "cell_type": "markdown",
      "metadata": {
        "id": "i8xsOAorbfGr"
      },
      "source": [
        "You can validate the faster operation of the `category` dtype by timing the execution time of the same operation done on a DataFrame with columns as `category` dtype and `object` dtype by using the `time` library.\n",
        "\n",
        "Let's say you want to calculate the number of flights for each carrier from each `origin` places, you can use the `.groupby()` and `.count()` methods on your DataFrame to do so."
      ]
    },
    {
      "cell_type": "code",
      "metadata": {
        "id": "_v3-Ci-ybfGs",
        "colab": {
          "base_uri": "https://localhost:8080/"
        },
        "outputId": "e6b61d74-8000-4330-ba07-64bb5270887e"
      },
      "source": [
        "import time\n",
        "#DataFrame with object dtype columns\n",
        "\n",
        "%timeit cat_df_flights.groupby(['origin','carrier']).count() "
      ],
      "execution_count": null,
      "outputs": [
        {
          "output_type": "stream",
          "text": [
            "10 loops, best of 3: 37.3 ms per loop\n"
          ],
          "name": "stdout"
        }
      ]
    },
    {
      "cell_type": "code",
      "metadata": {
        "id": "19JUyz97bfGv",
        "colab": {
          "base_uri": "https://localhost:8080/"
        },
        "outputId": "7481fc2f-acea-4d3f-fb97-0b0fe2a64a14"
      },
      "source": [
        "#DataFrame with category dtype columns\n",
        "%timeit cat_df_flights_lc.groupby(['origin','carrier']).count() "
      ],
      "execution_count": null,
      "outputs": [
        {
          "output_type": "stream",
          "text": [
            "10 loops, best of 3: 22.6 ms per loop\n"
          ],
          "name": "stdout"
        }
      ]
    },
    {
      "cell_type": "markdown",
      "metadata": {
        "id": "hnvNL-FLbfGz"
      },
      "source": [
        "Note that the DataFrame with `category` dtype is much faster.\n",
        "\n",
        "### Label Encoding\n",
        "Another approach is to encode categorical values with a technique called \"label encoding\", which allows you to convert each value in a column to a number. Numerical labels are always between 0 and n_categories-1.\n",
        "\n",
        "You can do label encoding via attributes `.cat.codes` on your DataFrame's column."
      ]
    },
    {
      "cell_type": "code",
      "metadata": {
        "id": "y5cs5LtjbfG0",
        "colab": {
          "base_uri": "https://localhost:8080/",
          "height": 204
        },
        "outputId": "8716cd7a-5d42-4c4b-bbba-15355cdcdbc1"
      },
      "source": [
        "cat_df_flights_lc['carrier'] = cat_df_flights_lc['carrier'].cat.codes\n",
        "cat_df_flights_lc.head() #alphabetically labeled from 0 to 10"
      ],
      "execution_count": null,
      "outputs": [
        {
          "output_type": "execute_result",
          "data": {
            "text/html": [
              "<div>\n",
              "<style scoped>\n",
              "    .dataframe tbody tr th:only-of-type {\n",
              "        vertical-align: middle;\n",
              "    }\n",
              "\n",
              "    .dataframe tbody tr th {\n",
              "        vertical-align: top;\n",
              "    }\n",
              "\n",
              "    .dataframe thead th {\n",
              "        text-align: right;\n",
              "    }\n",
              "</style>\n",
              "<table border=\"1\" class=\"dataframe\">\n",
              "  <thead>\n",
              "    <tr style=\"text-align: right;\">\n",
              "      <th></th>\n",
              "      <th>carrier</th>\n",
              "      <th>tailnum</th>\n",
              "      <th>origin</th>\n",
              "      <th>dest</th>\n",
              "    </tr>\n",
              "  </thead>\n",
              "  <tbody>\n",
              "    <tr>\n",
              "      <th>0</th>\n",
              "      <td>1</td>\n",
              "      <td>N508AS</td>\n",
              "      <td>PDX</td>\n",
              "      <td>ANC</td>\n",
              "    </tr>\n",
              "    <tr>\n",
              "      <th>1</th>\n",
              "      <td>8</td>\n",
              "      <td>N195UW</td>\n",
              "      <td>SEA</td>\n",
              "      <td>CLT</td>\n",
              "    </tr>\n",
              "    <tr>\n",
              "      <th>2</th>\n",
              "      <td>7</td>\n",
              "      <td>N37422</td>\n",
              "      <td>PDX</td>\n",
              "      <td>IAH</td>\n",
              "    </tr>\n",
              "    <tr>\n",
              "      <th>3</th>\n",
              "      <td>8</td>\n",
              "      <td>N547UW</td>\n",
              "      <td>PDX</td>\n",
              "      <td>CLT</td>\n",
              "    </tr>\n",
              "    <tr>\n",
              "      <th>4</th>\n",
              "      <td>1</td>\n",
              "      <td>N762AS</td>\n",
              "      <td>SEA</td>\n",
              "      <td>ANC</td>\n",
              "    </tr>\n",
              "  </tbody>\n",
              "</table>\n",
              "</div>"
            ],
            "text/plain": [
              "   carrier tailnum origin dest\n",
              "0        1  N508AS    PDX  ANC\n",
              "1        8  N195UW    SEA  CLT\n",
              "2        7  N37422    PDX  IAH\n",
              "3        8  N547UW    PDX  CLT\n",
              "4        1  N762AS    SEA  ANC"
            ]
          },
          "metadata": {
            "tags": []
          },
          "execution_count": 23
        }
      ]
    },
    {
      "cell_type": "markdown",
      "metadata": {
        "id": "ycfanwNLbfG3"
      },
      "source": [
        "Sometimes, you might just want to encode a bunch of categories within a feature to some numeric value and encode all the other categories to some other numeric value.\n",
        "\n",
        "You could do this by using `numpy`'s `where()` function like shown below. You will encode all the `US` carrier flights to value `1` and `other` carriers to value `0`. This will create a new column in your DataFrame with the encodings. Later, if you want to drop the original column, you can do so by using the `drop()` function in `pandas`."
      ]
    },
    {
      "cell_type": "code",
      "metadata": {
        "id": "sgYhb6D9bfG3",
        "colab": {
          "base_uri": "https://localhost:8080/",
          "height": 204
        },
        "outputId": "d42fe385-e656-4048-9b30-e04fca94292c"
      },
      "source": [
        "cat_df_flights_specific = cat_df_flights.copy()\n",
        "cat_df_flights_specific['US_code'] = np.where(cat_df_flights_specific['carrier'].str.contains('US'), 1, 0)\n",
        "\n",
        "cat_df_flights_specific.head()\n"
      ],
      "execution_count": null,
      "outputs": [
        {
          "output_type": "execute_result",
          "data": {
            "text/html": [
              "<div>\n",
              "<style scoped>\n",
              "    .dataframe tbody tr th:only-of-type {\n",
              "        vertical-align: middle;\n",
              "    }\n",
              "\n",
              "    .dataframe tbody tr th {\n",
              "        vertical-align: top;\n",
              "    }\n",
              "\n",
              "    .dataframe thead th {\n",
              "        text-align: right;\n",
              "    }\n",
              "</style>\n",
              "<table border=\"1\" class=\"dataframe\">\n",
              "  <thead>\n",
              "    <tr style=\"text-align: right;\">\n",
              "      <th></th>\n",
              "      <th>carrier</th>\n",
              "      <th>tailnum</th>\n",
              "      <th>origin</th>\n",
              "      <th>dest</th>\n",
              "      <th>US_code</th>\n",
              "    </tr>\n",
              "  </thead>\n",
              "  <tbody>\n",
              "    <tr>\n",
              "      <th>0</th>\n",
              "      <td>AS</td>\n",
              "      <td>N508AS</td>\n",
              "      <td>PDX</td>\n",
              "      <td>ANC</td>\n",
              "      <td>0</td>\n",
              "    </tr>\n",
              "    <tr>\n",
              "      <th>1</th>\n",
              "      <td>US</td>\n",
              "      <td>N195UW</td>\n",
              "      <td>SEA</td>\n",
              "      <td>CLT</td>\n",
              "      <td>1</td>\n",
              "    </tr>\n",
              "    <tr>\n",
              "      <th>2</th>\n",
              "      <td>UA</td>\n",
              "      <td>N37422</td>\n",
              "      <td>PDX</td>\n",
              "      <td>IAH</td>\n",
              "      <td>0</td>\n",
              "    </tr>\n",
              "    <tr>\n",
              "      <th>3</th>\n",
              "      <td>US</td>\n",
              "      <td>N547UW</td>\n",
              "      <td>PDX</td>\n",
              "      <td>CLT</td>\n",
              "      <td>1</td>\n",
              "    </tr>\n",
              "    <tr>\n",
              "      <th>4</th>\n",
              "      <td>AS</td>\n",
              "      <td>N762AS</td>\n",
              "      <td>SEA</td>\n",
              "      <td>ANC</td>\n",
              "      <td>0</td>\n",
              "    </tr>\n",
              "  </tbody>\n",
              "</table>\n",
              "</div>"
            ],
            "text/plain": [
              "  carrier tailnum origin dest  US_code\n",
              "0      AS  N508AS    PDX  ANC        0\n",
              "1      US  N195UW    SEA  CLT        1\n",
              "2      UA  N37422    PDX  IAH        0\n",
              "3      US  N547UW    PDX  CLT        1\n",
              "4      AS  N762AS    SEA  ANC        0"
            ]
          },
          "metadata": {
            "tags": []
          },
          "execution_count": 24
        }
      ]
    },
    {
      "cell_type": "markdown",
      "metadata": {
        "id": "KTT703oWbfG5"
      },
      "source": [
        "You can achieve the same label encoding using `scikit-learn`'s `LabelEncoder`:"
      ]
    },
    {
      "cell_type": "code",
      "metadata": {
        "id": "4vhbQHexbfG6",
        "colab": {
          "base_uri": "https://localhost:8080/",
          "height": 204
        },
        "outputId": "0e80896b-b4b1-464f-a58c-26d9ff997e75"
      },
      "source": [
        "cat_df_flights_sklearn = cat_df_flights.copy()\n",
        "\n",
        "from sklearn.preprocessing import LabelEncoder\n",
        "\n",
        "lb_make = LabelEncoder()\n",
        "cat_df_flights_sklearn['carrier_code'] = lb_make.fit_transform(cat_df_flights['carrier'])\n",
        "\n",
        "cat_df_flights_sklearn.head() #Results in appending a new column to df"
      ],
      "execution_count": null,
      "outputs": [
        {
          "output_type": "execute_result",
          "data": {
            "text/html": [
              "<div>\n",
              "<style scoped>\n",
              "    .dataframe tbody tr th:only-of-type {\n",
              "        vertical-align: middle;\n",
              "    }\n",
              "\n",
              "    .dataframe tbody tr th {\n",
              "        vertical-align: top;\n",
              "    }\n",
              "\n",
              "    .dataframe thead th {\n",
              "        text-align: right;\n",
              "    }\n",
              "</style>\n",
              "<table border=\"1\" class=\"dataframe\">\n",
              "  <thead>\n",
              "    <tr style=\"text-align: right;\">\n",
              "      <th></th>\n",
              "      <th>carrier</th>\n",
              "      <th>tailnum</th>\n",
              "      <th>origin</th>\n",
              "      <th>dest</th>\n",
              "      <th>carrier_code</th>\n",
              "    </tr>\n",
              "  </thead>\n",
              "  <tbody>\n",
              "    <tr>\n",
              "      <th>0</th>\n",
              "      <td>AS</td>\n",
              "      <td>N508AS</td>\n",
              "      <td>PDX</td>\n",
              "      <td>ANC</td>\n",
              "      <td>1</td>\n",
              "    </tr>\n",
              "    <tr>\n",
              "      <th>1</th>\n",
              "      <td>US</td>\n",
              "      <td>N195UW</td>\n",
              "      <td>SEA</td>\n",
              "      <td>CLT</td>\n",
              "      <td>8</td>\n",
              "    </tr>\n",
              "    <tr>\n",
              "      <th>2</th>\n",
              "      <td>UA</td>\n",
              "      <td>N37422</td>\n",
              "      <td>PDX</td>\n",
              "      <td>IAH</td>\n",
              "      <td>7</td>\n",
              "    </tr>\n",
              "    <tr>\n",
              "      <th>3</th>\n",
              "      <td>US</td>\n",
              "      <td>N547UW</td>\n",
              "      <td>PDX</td>\n",
              "      <td>CLT</td>\n",
              "      <td>8</td>\n",
              "    </tr>\n",
              "    <tr>\n",
              "      <th>4</th>\n",
              "      <td>AS</td>\n",
              "      <td>N762AS</td>\n",
              "      <td>SEA</td>\n",
              "      <td>ANC</td>\n",
              "      <td>1</td>\n",
              "    </tr>\n",
              "  </tbody>\n",
              "</table>\n",
              "</div>"
            ],
            "text/plain": [
              "  carrier tailnum origin dest  carrier_code\n",
              "0      AS  N508AS    PDX  ANC             1\n",
              "1      US  N195UW    SEA  CLT             8\n",
              "2      UA  N37422    PDX  IAH             7\n",
              "3      US  N547UW    PDX  CLT             8\n",
              "4      AS  N762AS    SEA  ANC             1"
            ]
          },
          "metadata": {
            "tags": []
          },
          "execution_count": 25
        }
      ]
    },
    {
      "cell_type": "markdown",
      "metadata": {
        "id": "sl_vzglubfG8"
      },
      "source": [
        "Label encoding is pretty much intuitive and straight-forward and may give you a good performance from your learning algorithm, but it has as disadvantage that the numerical values can be misinterpreted by the algorithm. Should the carrier `US` (encoded to `8`) be given **8x** more weight than the carrier `AS` (encoded to `1`) ?\n",
        "\n",
        "To solve this issue there is another popular way to encode the categories via something called `one-hot encoding`.\n",
        "\n",
        "### One-Hot encoding\n",
        "The basic strategy is to convert each category value into a new column and assign an `1` or `0` (True/False) value to the column. This has the benefit of not weighting a value improperly.\n",
        "\n",
        "There are many libraries out there that support one-hot encoding but the simplest one is using `pandas`' `.get_dummies()` method.\n",
        "\n",
        "This function is named this way because it creates dummy/indicator variables (1 or 0). There are mainly three arguments important here, the first one is the `DataFrame` you want to encode on, second being the `columns` argument which lets you specify the columns you want to do encoding on, and third, the prefix argument which lets you specify the `prefix` for the `new columns` that will be created after encoding."
      ]
    },
    {
      "cell_type": "code",
      "metadata": {
        "id": "vm_G8GC9bfG9",
        "colab": {
          "base_uri": "https://localhost:8080/",
          "height": 224
        },
        "outputId": "36442077-b3f6-4b47-cc6b-e4eea2ffa2f6"
      },
      "source": [
        "cat_df_flights_onehot = cat_df_flights.copy()\n",
        "cat_df_flights_onehot = pd.get_dummies(cat_df_flights_onehot, columns=['carrier'], prefix = ['carrier'])\n",
        "\n",
        "cat_df_flights_onehot.head()"
      ],
      "execution_count": null,
      "outputs": [
        {
          "output_type": "execute_result",
          "data": {
            "text/html": [
              "<div>\n",
              "<style scoped>\n",
              "    .dataframe tbody tr th:only-of-type {\n",
              "        vertical-align: middle;\n",
              "    }\n",
              "\n",
              "    .dataframe tbody tr th {\n",
              "        vertical-align: top;\n",
              "    }\n",
              "\n",
              "    .dataframe thead th {\n",
              "        text-align: right;\n",
              "    }\n",
              "</style>\n",
              "<table border=\"1\" class=\"dataframe\">\n",
              "  <thead>\n",
              "    <tr style=\"text-align: right;\">\n",
              "      <th></th>\n",
              "      <th>tailnum</th>\n",
              "      <th>origin</th>\n",
              "      <th>dest</th>\n",
              "      <th>carrier_AA</th>\n",
              "      <th>carrier_AS</th>\n",
              "      <th>carrier_B6</th>\n",
              "      <th>carrier_DL</th>\n",
              "      <th>carrier_F9</th>\n",
              "      <th>carrier_HA</th>\n",
              "      <th>carrier_OO</th>\n",
              "      <th>carrier_UA</th>\n",
              "      <th>carrier_US</th>\n",
              "      <th>carrier_VX</th>\n",
              "      <th>carrier_WN</th>\n",
              "    </tr>\n",
              "  </thead>\n",
              "  <tbody>\n",
              "    <tr>\n",
              "      <th>0</th>\n",
              "      <td>N508AS</td>\n",
              "      <td>PDX</td>\n",
              "      <td>ANC</td>\n",
              "      <td>0</td>\n",
              "      <td>1</td>\n",
              "      <td>0</td>\n",
              "      <td>0</td>\n",
              "      <td>0</td>\n",
              "      <td>0</td>\n",
              "      <td>0</td>\n",
              "      <td>0</td>\n",
              "      <td>0</td>\n",
              "      <td>0</td>\n",
              "      <td>0</td>\n",
              "    </tr>\n",
              "    <tr>\n",
              "      <th>1</th>\n",
              "      <td>N195UW</td>\n",
              "      <td>SEA</td>\n",
              "      <td>CLT</td>\n",
              "      <td>0</td>\n",
              "      <td>0</td>\n",
              "      <td>0</td>\n",
              "      <td>0</td>\n",
              "      <td>0</td>\n",
              "      <td>0</td>\n",
              "      <td>0</td>\n",
              "      <td>0</td>\n",
              "      <td>1</td>\n",
              "      <td>0</td>\n",
              "      <td>0</td>\n",
              "    </tr>\n",
              "    <tr>\n",
              "      <th>2</th>\n",
              "      <td>N37422</td>\n",
              "      <td>PDX</td>\n",
              "      <td>IAH</td>\n",
              "      <td>0</td>\n",
              "      <td>0</td>\n",
              "      <td>0</td>\n",
              "      <td>0</td>\n",
              "      <td>0</td>\n",
              "      <td>0</td>\n",
              "      <td>0</td>\n",
              "      <td>1</td>\n",
              "      <td>0</td>\n",
              "      <td>0</td>\n",
              "      <td>0</td>\n",
              "    </tr>\n",
              "    <tr>\n",
              "      <th>3</th>\n",
              "      <td>N547UW</td>\n",
              "      <td>PDX</td>\n",
              "      <td>CLT</td>\n",
              "      <td>0</td>\n",
              "      <td>0</td>\n",
              "      <td>0</td>\n",
              "      <td>0</td>\n",
              "      <td>0</td>\n",
              "      <td>0</td>\n",
              "      <td>0</td>\n",
              "      <td>0</td>\n",
              "      <td>1</td>\n",
              "      <td>0</td>\n",
              "      <td>0</td>\n",
              "    </tr>\n",
              "    <tr>\n",
              "      <th>4</th>\n",
              "      <td>N762AS</td>\n",
              "      <td>SEA</td>\n",
              "      <td>ANC</td>\n",
              "      <td>0</td>\n",
              "      <td>1</td>\n",
              "      <td>0</td>\n",
              "      <td>0</td>\n",
              "      <td>0</td>\n",
              "      <td>0</td>\n",
              "      <td>0</td>\n",
              "      <td>0</td>\n",
              "      <td>0</td>\n",
              "      <td>0</td>\n",
              "      <td>0</td>\n",
              "    </tr>\n",
              "  </tbody>\n",
              "</table>\n",
              "</div>"
            ],
            "text/plain": [
              "  tailnum origin dest  ...  carrier_US  carrier_VX  carrier_WN\n",
              "0  N508AS    PDX  ANC  ...           0           0           0\n",
              "1  N195UW    SEA  CLT  ...           1           0           0\n",
              "2  N37422    PDX  IAH  ...           0           0           0\n",
              "3  N547UW    PDX  CLT  ...           1           0           0\n",
              "4  N762AS    SEA  ANC  ...           0           0           0\n",
              "\n",
              "[5 rows x 14 columns]"
            ]
          },
          "metadata": {
            "tags": []
          },
          "execution_count": 26
        }
      ]
    },
    {
      "cell_type": "markdown",
      "metadata": {
        "id": "3jISrOFEbfG_"
      },
      "source": [
        "As you can see, the column `carrier_AS` gets value `1` at the 0th and 4th observation points as those points had the `AS` category labeled in the original DataFrame. Likewise for other columns also.\n",
        "\n",
        "`scikit-learn` also supports one hot encoding via `LabelBinarizer` and `OneHotEncoder` in its preprocessing module (check out the details here). Just for the sake of practicing you will do the same encoding via `LabelBinarizer` (although we use `OneHotEncoder` more often):"
      ]
    },
    {
      "cell_type": "code",
      "metadata": {
        "id": "mueVkOwmbfHA",
        "colab": {
          "base_uri": "https://localhost:8080/",
          "height": 204
        },
        "outputId": "7ba9daf6-e398-475d-d621-9416a1b819e8"
      },
      "source": [
        "cat_df_flights_onehot_sklearn = cat_df_flights.copy()\n",
        "\n",
        "from sklearn.preprocessing import LabelBinarizer\n",
        "\n",
        "lb = LabelBinarizer()\n",
        "lb_results = lb.fit_transform(cat_df_flights_onehot_sklearn['carrier'])\n",
        "lb_results_df = pd.DataFrame(lb_results, columns=lb.classes_)\n",
        "\n",
        "lb_results_df.head()"
      ],
      "execution_count": null,
      "outputs": [
        {
          "output_type": "execute_result",
          "data": {
            "text/html": [
              "<div>\n",
              "<style scoped>\n",
              "    .dataframe tbody tr th:only-of-type {\n",
              "        vertical-align: middle;\n",
              "    }\n",
              "\n",
              "    .dataframe tbody tr th {\n",
              "        vertical-align: top;\n",
              "    }\n",
              "\n",
              "    .dataframe thead th {\n",
              "        text-align: right;\n",
              "    }\n",
              "</style>\n",
              "<table border=\"1\" class=\"dataframe\">\n",
              "  <thead>\n",
              "    <tr style=\"text-align: right;\">\n",
              "      <th></th>\n",
              "      <th>AA</th>\n",
              "      <th>AS</th>\n",
              "      <th>B6</th>\n",
              "      <th>DL</th>\n",
              "      <th>F9</th>\n",
              "      <th>HA</th>\n",
              "      <th>OO</th>\n",
              "      <th>UA</th>\n",
              "      <th>US</th>\n",
              "      <th>VX</th>\n",
              "      <th>WN</th>\n",
              "    </tr>\n",
              "  </thead>\n",
              "  <tbody>\n",
              "    <tr>\n",
              "      <th>0</th>\n",
              "      <td>0</td>\n",
              "      <td>1</td>\n",
              "      <td>0</td>\n",
              "      <td>0</td>\n",
              "      <td>0</td>\n",
              "      <td>0</td>\n",
              "      <td>0</td>\n",
              "      <td>0</td>\n",
              "      <td>0</td>\n",
              "      <td>0</td>\n",
              "      <td>0</td>\n",
              "    </tr>\n",
              "    <tr>\n",
              "      <th>1</th>\n",
              "      <td>0</td>\n",
              "      <td>0</td>\n",
              "      <td>0</td>\n",
              "      <td>0</td>\n",
              "      <td>0</td>\n",
              "      <td>0</td>\n",
              "      <td>0</td>\n",
              "      <td>0</td>\n",
              "      <td>1</td>\n",
              "      <td>0</td>\n",
              "      <td>0</td>\n",
              "    </tr>\n",
              "    <tr>\n",
              "      <th>2</th>\n",
              "      <td>0</td>\n",
              "      <td>0</td>\n",
              "      <td>0</td>\n",
              "      <td>0</td>\n",
              "      <td>0</td>\n",
              "      <td>0</td>\n",
              "      <td>0</td>\n",
              "      <td>1</td>\n",
              "      <td>0</td>\n",
              "      <td>0</td>\n",
              "      <td>0</td>\n",
              "    </tr>\n",
              "    <tr>\n",
              "      <th>3</th>\n",
              "      <td>0</td>\n",
              "      <td>0</td>\n",
              "      <td>0</td>\n",
              "      <td>0</td>\n",
              "      <td>0</td>\n",
              "      <td>0</td>\n",
              "      <td>0</td>\n",
              "      <td>0</td>\n",
              "      <td>1</td>\n",
              "      <td>0</td>\n",
              "      <td>0</td>\n",
              "    </tr>\n",
              "    <tr>\n",
              "      <th>4</th>\n",
              "      <td>0</td>\n",
              "      <td>1</td>\n",
              "      <td>0</td>\n",
              "      <td>0</td>\n",
              "      <td>0</td>\n",
              "      <td>0</td>\n",
              "      <td>0</td>\n",
              "      <td>0</td>\n",
              "      <td>0</td>\n",
              "      <td>0</td>\n",
              "      <td>0</td>\n",
              "    </tr>\n",
              "  </tbody>\n",
              "</table>\n",
              "</div>"
            ],
            "text/plain": [
              "   AA  AS  B6  DL  F9  HA  OO  UA  US  VX  WN\n",
              "0   0   1   0   0   0   0   0   0   0   0   0\n",
              "1   0   0   0   0   0   0   0   0   1   0   0\n",
              "2   0   0   0   0   0   0   0   1   0   0   0\n",
              "3   0   0   0   0   0   0   0   0   1   0   0\n",
              "4   0   1   0   0   0   0   0   0   0   0   0"
            ]
          },
          "metadata": {
            "tags": []
          },
          "execution_count": 27
        }
      ]
    },
    {
      "cell_type": "markdown",
      "metadata": {
        "id": "M6_1n27AbfHC"
      },
      "source": [
        "Note that this `lb_results_df` resulted in a new DataFrame with only the one hot encodings for the feature `carrier`. This needs to be concatenated back with the original DataFrame, which can be done via `pandas`' `.concat()` method. The axis argument is set to `1` as you want to merge on columns."
      ]
    },
    {
      "cell_type": "code",
      "metadata": {
        "id": "rn3Rja5cbfHC",
        "colab": {
          "base_uri": "https://localhost:8080/",
          "height": 204
        },
        "outputId": "12d41d3c-eb16-4d0d-cac1-14cf0ee62010"
      },
      "source": [
        "result_df = pd.concat([cat_df_flights_onehot_sklearn, lb_results_df], axis=1)\n",
        "\n",
        "result_df.head()"
      ],
      "execution_count": null,
      "outputs": [
        {
          "output_type": "execute_result",
          "data": {
            "text/html": [
              "<div>\n",
              "<style scoped>\n",
              "    .dataframe tbody tr th:only-of-type {\n",
              "        vertical-align: middle;\n",
              "    }\n",
              "\n",
              "    .dataframe tbody tr th {\n",
              "        vertical-align: top;\n",
              "    }\n",
              "\n",
              "    .dataframe thead th {\n",
              "        text-align: right;\n",
              "    }\n",
              "</style>\n",
              "<table border=\"1\" class=\"dataframe\">\n",
              "  <thead>\n",
              "    <tr style=\"text-align: right;\">\n",
              "      <th></th>\n",
              "      <th>carrier</th>\n",
              "      <th>tailnum</th>\n",
              "      <th>origin</th>\n",
              "      <th>dest</th>\n",
              "      <th>AA</th>\n",
              "      <th>AS</th>\n",
              "      <th>B6</th>\n",
              "      <th>DL</th>\n",
              "      <th>F9</th>\n",
              "      <th>HA</th>\n",
              "      <th>OO</th>\n",
              "      <th>UA</th>\n",
              "      <th>US</th>\n",
              "      <th>VX</th>\n",
              "      <th>WN</th>\n",
              "    </tr>\n",
              "  </thead>\n",
              "  <tbody>\n",
              "    <tr>\n",
              "      <th>0</th>\n",
              "      <td>AS</td>\n",
              "      <td>N508AS</td>\n",
              "      <td>PDX</td>\n",
              "      <td>ANC</td>\n",
              "      <td>0</td>\n",
              "      <td>1</td>\n",
              "      <td>0</td>\n",
              "      <td>0</td>\n",
              "      <td>0</td>\n",
              "      <td>0</td>\n",
              "      <td>0</td>\n",
              "      <td>0</td>\n",
              "      <td>0</td>\n",
              "      <td>0</td>\n",
              "      <td>0</td>\n",
              "    </tr>\n",
              "    <tr>\n",
              "      <th>1</th>\n",
              "      <td>US</td>\n",
              "      <td>N195UW</td>\n",
              "      <td>SEA</td>\n",
              "      <td>CLT</td>\n",
              "      <td>0</td>\n",
              "      <td>0</td>\n",
              "      <td>0</td>\n",
              "      <td>0</td>\n",
              "      <td>0</td>\n",
              "      <td>0</td>\n",
              "      <td>0</td>\n",
              "      <td>0</td>\n",
              "      <td>1</td>\n",
              "      <td>0</td>\n",
              "      <td>0</td>\n",
              "    </tr>\n",
              "    <tr>\n",
              "      <th>2</th>\n",
              "      <td>UA</td>\n",
              "      <td>N37422</td>\n",
              "      <td>PDX</td>\n",
              "      <td>IAH</td>\n",
              "      <td>0</td>\n",
              "      <td>0</td>\n",
              "      <td>0</td>\n",
              "      <td>0</td>\n",
              "      <td>0</td>\n",
              "      <td>0</td>\n",
              "      <td>0</td>\n",
              "      <td>1</td>\n",
              "      <td>0</td>\n",
              "      <td>0</td>\n",
              "      <td>0</td>\n",
              "    </tr>\n",
              "    <tr>\n",
              "      <th>3</th>\n",
              "      <td>US</td>\n",
              "      <td>N547UW</td>\n",
              "      <td>PDX</td>\n",
              "      <td>CLT</td>\n",
              "      <td>0</td>\n",
              "      <td>0</td>\n",
              "      <td>0</td>\n",
              "      <td>0</td>\n",
              "      <td>0</td>\n",
              "      <td>0</td>\n",
              "      <td>0</td>\n",
              "      <td>0</td>\n",
              "      <td>1</td>\n",
              "      <td>0</td>\n",
              "      <td>0</td>\n",
              "    </tr>\n",
              "    <tr>\n",
              "      <th>4</th>\n",
              "      <td>AS</td>\n",
              "      <td>N762AS</td>\n",
              "      <td>SEA</td>\n",
              "      <td>ANC</td>\n",
              "      <td>0</td>\n",
              "      <td>1</td>\n",
              "      <td>0</td>\n",
              "      <td>0</td>\n",
              "      <td>0</td>\n",
              "      <td>0</td>\n",
              "      <td>0</td>\n",
              "      <td>0</td>\n",
              "      <td>0</td>\n",
              "      <td>0</td>\n",
              "      <td>0</td>\n",
              "    </tr>\n",
              "  </tbody>\n",
              "</table>\n",
              "</div>"
            ],
            "text/plain": [
              "  carrier tailnum origin dest  AA  AS  B6  DL  F9  HA  OO  UA  US  VX  WN\n",
              "0      AS  N508AS    PDX  ANC   0   1   0   0   0   0   0   0   0   0   0\n",
              "1      US  N195UW    SEA  CLT   0   0   0   0   0   0   0   0   1   0   0\n",
              "2      UA  N37422    PDX  IAH   0   0   0   0   0   0   0   1   0   0   0\n",
              "3      US  N547UW    PDX  CLT   0   0   0   0   0   0   0   0   1   0   0\n",
              "4      AS  N762AS    SEA  ANC   0   1   0   0   0   0   0   0   0   0   0"
            ]
          },
          "metadata": {
            "tags": []
          },
          "execution_count": 28
        }
      ]
    },
    {
      "cell_type": "markdown",
      "metadata": {
        "id": "z6leBwlObfHE"
      },
      "source": [
        "While one-hot encoding solves the problem of unequal weights given to categories within a feature, it is not very useful when there are many categories, as that will result in formation of as many new columns, which can result in the [curse of dimensionality](https://en.wikipedia.org/wiki/Curse_of_dimensionality). The concept of the “curse of dimensionality” discusses that in high-dimensional spaces some things just stop working properly.\n",
        "\n",
        "### Binary Encoding\n",
        "This technique is not as intuitive as the previous ones. In this technique, first the categories are encoded as ordinal, then those integers are converted into binary code, then the digits from that binary string are split into separate columns. This encodes the data in fewer dimensions than one-hot.\n",
        "\n",
        "You can do binary encoding via a number of ways but the simplest one is using the `category_encoders` library. You can install category_encoders via pip install category_encoders on cmd or just download and extract the .tar.gz file from the site.\n",
        "\n",
        "You have to first import the `category_encoders` library after installing it. Invoke the `BinaryEncoder` function by specifying the columns you want to encode and then call the `.fit_transform()` method on it with the DataFrame as the argument.\n",
        "\n"
      ]
    },
    {
      "cell_type": "code",
      "metadata": {
        "id": "nSCp5TgZePbj",
        "colab": {
          "base_uri": "https://localhost:8080/"
        },
        "outputId": "7157fe8c-a5cf-4c35-ab6f-547c1ce64bec"
      },
      "source": [
        "!pip install category_encoders"
      ],
      "execution_count": null,
      "outputs": [
        {
          "output_type": "stream",
          "text": [
            "Collecting category_encoders\n",
            "\u001b[?25l  Downloading https://files.pythonhosted.org/packages/44/57/fcef41c248701ee62e8325026b90c432adea35555cbc870aff9cfba23727/category_encoders-2.2.2-py2.py3-none-any.whl (80kB)\n",
            "\r\u001b[K     |████                            | 10kB 16.0MB/s eta 0:00:01\r\u001b[K     |████████▏                       | 20kB 1.7MB/s eta 0:00:01\r\u001b[K     |████████████▏                   | 30kB 2.1MB/s eta 0:00:01\r\u001b[K     |████████████████▎               | 40kB 2.3MB/s eta 0:00:01\r\u001b[K     |████████████████████▎           | 51kB 2.0MB/s eta 0:00:01\r\u001b[K     |████████████████████████▍       | 61kB 2.2MB/s eta 0:00:01\r\u001b[K     |████████████████████████████▍   | 71kB 2.5MB/s eta 0:00:01\r\u001b[K     |████████████████████████████████| 81kB 2.2MB/s \n",
            "\u001b[?25hRequirement already satisfied: patsy>=0.5.1 in /usr/local/lib/python3.6/dist-packages (from category_encoders) (0.5.1)\n",
            "Requirement already satisfied: pandas>=0.21.1 in /usr/local/lib/python3.6/dist-packages (from category_encoders) (1.1.4)\n",
            "Requirement already satisfied: numpy>=1.14.0 in /usr/local/lib/python3.6/dist-packages (from category_encoders) (1.18.5)\n",
            "Requirement already satisfied: scipy>=1.0.0 in /usr/local/lib/python3.6/dist-packages (from category_encoders) (1.4.1)\n",
            "Requirement already satisfied: scikit-learn>=0.20.0 in /usr/local/lib/python3.6/dist-packages (from category_encoders) (0.22.2.post1)\n",
            "Requirement already satisfied: statsmodels>=0.9.0 in /usr/local/lib/python3.6/dist-packages (from category_encoders) (0.10.2)\n",
            "Requirement already satisfied: six in /usr/local/lib/python3.6/dist-packages (from patsy>=0.5.1->category_encoders) (1.15.0)\n",
            "Requirement already satisfied: pytz>=2017.2 in /usr/local/lib/python3.6/dist-packages (from pandas>=0.21.1->category_encoders) (2018.9)\n",
            "Requirement already satisfied: python-dateutil>=2.7.3 in /usr/local/lib/python3.6/dist-packages (from pandas>=0.21.1->category_encoders) (2.8.1)\n",
            "Requirement already satisfied: joblib>=0.11 in /usr/local/lib/python3.6/dist-packages (from scikit-learn>=0.20.0->category_encoders) (0.17.0)\n",
            "Installing collected packages: category-encoders\n",
            "Successfully installed category-encoders-2.2.2\n"
          ],
          "name": "stdout"
        }
      ]
    },
    {
      "cell_type": "code",
      "metadata": {
        "id": "_VUMR_5ybfHF",
        "colab": {
          "base_uri": "https://localhost:8080/",
          "height": 292
        },
        "outputId": "1b60a4f4-b4f7-407f-8b28-8c839acec418"
      },
      "source": [
        "cat_df_flights_ce = cat_df_flights.copy()\n",
        "\n",
        "import category_encoders as ce\n",
        "\n",
        "encoder = ce.BinaryEncoder(cols=['carrier'])\n",
        "df_binary = encoder.fit_transform(cat_df_flights_ce)\n",
        "\n",
        "df_binary.head()"
      ],
      "execution_count": null,
      "outputs": [
        {
          "output_type": "stream",
          "text": [
            "/usr/local/lib/python3.6/dist-packages/statsmodels/tools/_testing.py:19: FutureWarning: pandas.util.testing is deprecated. Use the functions in the public API at pandas.testing instead.\n",
            "  import pandas.util.testing as tm\n",
            "/usr/local/lib/python3.6/dist-packages/category_encoders/utils.py:21: FutureWarning: is_categorical is deprecated and will be removed in a future version.  Use is_categorical_dtype instead\n",
            "  elif pd.api.types.is_categorical(cols):\n"
          ],
          "name": "stderr"
        },
        {
          "output_type": "execute_result",
          "data": {
            "text/html": [
              "<div>\n",
              "<style scoped>\n",
              "    .dataframe tbody tr th:only-of-type {\n",
              "        vertical-align: middle;\n",
              "    }\n",
              "\n",
              "    .dataframe tbody tr th {\n",
              "        vertical-align: top;\n",
              "    }\n",
              "\n",
              "    .dataframe thead th {\n",
              "        text-align: right;\n",
              "    }\n",
              "</style>\n",
              "<table border=\"1\" class=\"dataframe\">\n",
              "  <thead>\n",
              "    <tr style=\"text-align: right;\">\n",
              "      <th></th>\n",
              "      <th>carrier_0</th>\n",
              "      <th>carrier_1</th>\n",
              "      <th>carrier_2</th>\n",
              "      <th>carrier_3</th>\n",
              "      <th>carrier_4</th>\n",
              "      <th>tailnum</th>\n",
              "      <th>origin</th>\n",
              "      <th>dest</th>\n",
              "    </tr>\n",
              "  </thead>\n",
              "  <tbody>\n",
              "    <tr>\n",
              "      <th>0</th>\n",
              "      <td>0</td>\n",
              "      <td>0</td>\n",
              "      <td>0</td>\n",
              "      <td>0</td>\n",
              "      <td>1</td>\n",
              "      <td>N508AS</td>\n",
              "      <td>PDX</td>\n",
              "      <td>ANC</td>\n",
              "    </tr>\n",
              "    <tr>\n",
              "      <th>1</th>\n",
              "      <td>0</td>\n",
              "      <td>0</td>\n",
              "      <td>0</td>\n",
              "      <td>1</td>\n",
              "      <td>0</td>\n",
              "      <td>N195UW</td>\n",
              "      <td>SEA</td>\n",
              "      <td>CLT</td>\n",
              "    </tr>\n",
              "    <tr>\n",
              "      <th>2</th>\n",
              "      <td>0</td>\n",
              "      <td>0</td>\n",
              "      <td>0</td>\n",
              "      <td>1</td>\n",
              "      <td>1</td>\n",
              "      <td>N37422</td>\n",
              "      <td>PDX</td>\n",
              "      <td>IAH</td>\n",
              "    </tr>\n",
              "    <tr>\n",
              "      <th>3</th>\n",
              "      <td>0</td>\n",
              "      <td>0</td>\n",
              "      <td>0</td>\n",
              "      <td>1</td>\n",
              "      <td>0</td>\n",
              "      <td>N547UW</td>\n",
              "      <td>PDX</td>\n",
              "      <td>CLT</td>\n",
              "    </tr>\n",
              "    <tr>\n",
              "      <th>4</th>\n",
              "      <td>0</td>\n",
              "      <td>0</td>\n",
              "      <td>0</td>\n",
              "      <td>0</td>\n",
              "      <td>1</td>\n",
              "      <td>N762AS</td>\n",
              "      <td>SEA</td>\n",
              "      <td>ANC</td>\n",
              "    </tr>\n",
              "  </tbody>\n",
              "</table>\n",
              "</div>"
            ],
            "text/plain": [
              "   carrier_0  carrier_1  carrier_2  carrier_3  carrier_4 tailnum origin dest\n",
              "0          0          0          0          0          1  N508AS    PDX  ANC\n",
              "1          0          0          0          1          0  N195UW    SEA  CLT\n",
              "2          0          0          0          1          1  N37422    PDX  IAH\n",
              "3          0          0          0          1          0  N547UW    PDX  CLT\n",
              "4          0          0          0          0          1  N762AS    SEA  ANC"
            ]
          },
          "metadata": {
            "tags": []
          },
          "execution_count": 31
        }
      ]
    },
    {
      "cell_type": "markdown",
      "metadata": {
        "id": "G-IeNe9rbfHJ"
      },
      "source": [
        "Notice that four new columns are created in place of the `carrier` column with binary encoding for each category in the feature.\n",
        "\n",
        "Note that `category_encoders` is a very useful library for encoding categorical columns. Not only does it support one-hot, binary and label encoding, but also other advanced encoding methods like Helmert contrast, polynomial contrast, backward difference, etc.\n",
        "\n",
        "### Backward Difference Encoding\n",
        "This technique falls under the contrast coding system for categorical features. A feature of K categories, or levels, usually enters a regression as a sequence of K-1 dummy variables. In backward difference coding, the mean of the dependent variable for a level is compared with the mean of the dependent variable for the prior level. This type of coding may be useful for a nominal or an ordinal variable.\n",
        "\n",
        "If you want to learn other contrast coding methods you can check out this [resource](http://www.statsmodels.org/dev/contrasts.html).\n",
        "\n",
        "The code structure is pretty much the same as any method in the `category_encoders` library, just this time you will call `BackwardDifferenceEncoder` from it:"
      ]
    },
    {
      "cell_type": "code",
      "metadata": {
        "id": "eW8I-hifbfHJ",
        "colab": {
          "base_uri": "https://localhost:8080/",
          "height": 258
        },
        "outputId": "8aa0e7a1-8342-492e-e159-e47c7e6c1e7c"
      },
      "source": [
        "encoder = ce.BackwardDifferenceEncoder(cols=['carrier'])\n",
        "df_bd = encoder.fit_transform(cat_df_flights_ce)\n",
        "\n",
        "df_bd.head()"
      ],
      "execution_count": null,
      "outputs": [
        {
          "output_type": "stream",
          "text": [
            "/usr/local/lib/python3.6/dist-packages/category_encoders/utils.py:21: FutureWarning: is_categorical is deprecated and will be removed in a future version.  Use is_categorical_dtype instead\n",
            "  elif pd.api.types.is_categorical(cols):\n"
          ],
          "name": "stderr"
        },
        {
          "output_type": "execute_result",
          "data": {
            "text/html": [
              "<div>\n",
              "<style scoped>\n",
              "    .dataframe tbody tr th:only-of-type {\n",
              "        vertical-align: middle;\n",
              "    }\n",
              "\n",
              "    .dataframe tbody tr th {\n",
              "        vertical-align: top;\n",
              "    }\n",
              "\n",
              "    .dataframe thead th {\n",
              "        text-align: right;\n",
              "    }\n",
              "</style>\n",
              "<table border=\"1\" class=\"dataframe\">\n",
              "  <thead>\n",
              "    <tr style=\"text-align: right;\">\n",
              "      <th></th>\n",
              "      <th>intercept</th>\n",
              "      <th>carrier_0</th>\n",
              "      <th>carrier_1</th>\n",
              "      <th>carrier_2</th>\n",
              "      <th>carrier_3</th>\n",
              "      <th>carrier_4</th>\n",
              "      <th>carrier_5</th>\n",
              "      <th>carrier_6</th>\n",
              "      <th>carrier_7</th>\n",
              "      <th>carrier_8</th>\n",
              "      <th>carrier_9</th>\n",
              "      <th>tailnum</th>\n",
              "      <th>origin</th>\n",
              "      <th>dest</th>\n",
              "    </tr>\n",
              "  </thead>\n",
              "  <tbody>\n",
              "    <tr>\n",
              "      <th>0</th>\n",
              "      <td>1</td>\n",
              "      <td>-0.909091</td>\n",
              "      <td>-0.818182</td>\n",
              "      <td>-0.727273</td>\n",
              "      <td>-0.636364</td>\n",
              "      <td>-0.545455</td>\n",
              "      <td>-0.454545</td>\n",
              "      <td>-0.363636</td>\n",
              "      <td>-0.272727</td>\n",
              "      <td>-0.181818</td>\n",
              "      <td>-0.090909</td>\n",
              "      <td>N508AS</td>\n",
              "      <td>PDX</td>\n",
              "      <td>ANC</td>\n",
              "    </tr>\n",
              "    <tr>\n",
              "      <th>1</th>\n",
              "      <td>1</td>\n",
              "      <td>0.090909</td>\n",
              "      <td>-0.818182</td>\n",
              "      <td>-0.727273</td>\n",
              "      <td>-0.636364</td>\n",
              "      <td>-0.545455</td>\n",
              "      <td>-0.454545</td>\n",
              "      <td>-0.363636</td>\n",
              "      <td>-0.272727</td>\n",
              "      <td>-0.181818</td>\n",
              "      <td>-0.090909</td>\n",
              "      <td>N195UW</td>\n",
              "      <td>SEA</td>\n",
              "      <td>CLT</td>\n",
              "    </tr>\n",
              "    <tr>\n",
              "      <th>2</th>\n",
              "      <td>1</td>\n",
              "      <td>0.090909</td>\n",
              "      <td>0.181818</td>\n",
              "      <td>-0.727273</td>\n",
              "      <td>-0.636364</td>\n",
              "      <td>-0.545455</td>\n",
              "      <td>-0.454545</td>\n",
              "      <td>-0.363636</td>\n",
              "      <td>-0.272727</td>\n",
              "      <td>-0.181818</td>\n",
              "      <td>-0.090909</td>\n",
              "      <td>N37422</td>\n",
              "      <td>PDX</td>\n",
              "      <td>IAH</td>\n",
              "    </tr>\n",
              "    <tr>\n",
              "      <th>3</th>\n",
              "      <td>1</td>\n",
              "      <td>0.090909</td>\n",
              "      <td>-0.818182</td>\n",
              "      <td>-0.727273</td>\n",
              "      <td>-0.636364</td>\n",
              "      <td>-0.545455</td>\n",
              "      <td>-0.454545</td>\n",
              "      <td>-0.363636</td>\n",
              "      <td>-0.272727</td>\n",
              "      <td>-0.181818</td>\n",
              "      <td>-0.090909</td>\n",
              "      <td>N547UW</td>\n",
              "      <td>PDX</td>\n",
              "      <td>CLT</td>\n",
              "    </tr>\n",
              "    <tr>\n",
              "      <th>4</th>\n",
              "      <td>1</td>\n",
              "      <td>-0.909091</td>\n",
              "      <td>-0.818182</td>\n",
              "      <td>-0.727273</td>\n",
              "      <td>-0.636364</td>\n",
              "      <td>-0.545455</td>\n",
              "      <td>-0.454545</td>\n",
              "      <td>-0.363636</td>\n",
              "      <td>-0.272727</td>\n",
              "      <td>-0.181818</td>\n",
              "      <td>-0.090909</td>\n",
              "      <td>N762AS</td>\n",
              "      <td>SEA</td>\n",
              "      <td>ANC</td>\n",
              "    </tr>\n",
              "  </tbody>\n",
              "</table>\n",
              "</div>"
            ],
            "text/plain": [
              "   intercept  carrier_0  carrier_1  carrier_2  ...  carrier_9  tailnum  origin  dest\n",
              "0          1  -0.909091  -0.818182  -0.727273  ...  -0.090909   N508AS     PDX   ANC\n",
              "1          1   0.090909  -0.818182  -0.727273  ...  -0.090909   N195UW     SEA   CLT\n",
              "2          1   0.090909   0.181818  -0.727273  ...  -0.090909   N37422     PDX   IAH\n",
              "3          1   0.090909  -0.818182  -0.727273  ...  -0.090909   N547UW     PDX   CLT\n",
              "4          1  -0.909091  -0.818182  -0.727273  ...  -0.090909   N762AS     SEA   ANC\n",
              "\n",
              "[5 rows x 14 columns]"
            ]
          },
          "metadata": {
            "tags": []
          },
          "execution_count": 32
        }
      ]
    },
    {
      "cell_type": "markdown",
      "metadata": {
        "id": "6OsB1JtYbfHM"
      },
      "source": [
        "The interesting thing here is that you can see that the results are not the standard 1’s and 0’s you saw in the dummy encoding examples but rather regressed continuous values.\n",
        "\n",
        "### Miscellaneous Features\n",
        "Sometimes you may encounter categorical feature columns which specify the ranges of values for observation points, for example, the `age` column might be described in the form of categories like 0-20, 20-40 and so on.\n",
        "\n",
        "While there can be a lot of ways to deal with such features, the most common ones are either split these ranges into two separate columns or replace them with some measure like the mean of that range.\n",
        "\n",
        "You will first create a dummy DataFrame which has just one feature `age` with ranges specified using the pandas `DataFrame` function. Then you will split the column on the delimeter - into two columns `start` and `end` using `split()` with a `lambda()` function. If you want to learn more about lambda functions, check out this [tutorial](https://www.datacamp.com/community/tutorials/functions-python-tutorial)."
      ]
    },
    {
      "cell_type": "code",
      "metadata": {
        "id": "BnEGa8sjbfHN",
        "colab": {
          "base_uri": "https://localhost:8080/",
          "height": 173
        },
        "outputId": "91d45f8c-dd74-4b55-f6f2-63fcbecdca91"
      },
      "source": [
        "dummy_df_age = pd.DataFrame({'age': ['0-20', '20-40', '40-60','60-80']})\n",
        "dummy_df_age['start'], dummy_df_age['end'] = zip(*dummy_df_age['age'].map(lambda x: x.split('-')))\n",
        "\n",
        "dummy_df_age.head()"
      ],
      "execution_count": null,
      "outputs": [
        {
          "output_type": "execute_result",
          "data": {
            "text/html": [
              "<div>\n",
              "<style scoped>\n",
              "    .dataframe tbody tr th:only-of-type {\n",
              "        vertical-align: middle;\n",
              "    }\n",
              "\n",
              "    .dataframe tbody tr th {\n",
              "        vertical-align: top;\n",
              "    }\n",
              "\n",
              "    .dataframe thead th {\n",
              "        text-align: right;\n",
              "    }\n",
              "</style>\n",
              "<table border=\"1\" class=\"dataframe\">\n",
              "  <thead>\n",
              "    <tr style=\"text-align: right;\">\n",
              "      <th></th>\n",
              "      <th>age</th>\n",
              "      <th>start</th>\n",
              "      <th>end</th>\n",
              "    </tr>\n",
              "  </thead>\n",
              "  <tbody>\n",
              "    <tr>\n",
              "      <th>0</th>\n",
              "      <td>0-20</td>\n",
              "      <td>0</td>\n",
              "      <td>20</td>\n",
              "    </tr>\n",
              "    <tr>\n",
              "      <th>1</th>\n",
              "      <td>20-40</td>\n",
              "      <td>20</td>\n",
              "      <td>40</td>\n",
              "    </tr>\n",
              "    <tr>\n",
              "      <th>2</th>\n",
              "      <td>40-60</td>\n",
              "      <td>40</td>\n",
              "      <td>60</td>\n",
              "    </tr>\n",
              "    <tr>\n",
              "      <th>3</th>\n",
              "      <td>60-80</td>\n",
              "      <td>60</td>\n",
              "      <td>80</td>\n",
              "    </tr>\n",
              "  </tbody>\n",
              "</table>\n",
              "</div>"
            ],
            "text/plain": [
              "     age start end\n",
              "0   0-20     0  20\n",
              "1  20-40    20  40\n",
              "2  40-60    40  60\n",
              "3  60-80    60  80"
            ]
          },
          "metadata": {
            "tags": []
          },
          "execution_count": 33
        }
      ]
    },
    {
      "cell_type": "markdown",
      "metadata": {
        "id": "qeovgv1FbfHP"
      },
      "source": [
        "To replace the range with its mean, you will write a `split_mean()` function which basically takes one range at a time, splits it, then calculates the mean and returns it. To apply a certain function to all the entities of a column you will use the `.apply()` method:"
      ]
    },
    {
      "cell_type": "code",
      "metadata": {
        "id": "ukKFURKKbfHP"
      },
      "source": [
        "dummy_df_age = pd.DataFrame({'age': ['0-20', '20-40', '40-60','60-80']})\n"
      ],
      "execution_count": null,
      "outputs": []
    },
    {
      "cell_type": "code",
      "metadata": {
        "id": "8_KTrNPqbfHR",
        "colab": {
          "base_uri": "https://localhost:8080/",
          "height": 173
        },
        "outputId": "666e61ec-6cb4-4827-9bd4-2c17643fe849"
      },
      "source": [
        "def split_mean(x):\n",
        "    split_list = x.split('-')\n",
        "    mean = (float(split_list[0])+float(split_list[1]))/2\n",
        "    return mean\n",
        "\n",
        "dummy_df_age['age_mean'] = dummy_df_age['age'].apply(lambda x: split_mean(x))\n",
        "\n",
        "dummy_df_age.head()"
      ],
      "execution_count": null,
      "outputs": [
        {
          "output_type": "execute_result",
          "data": {
            "text/html": [
              "<div>\n",
              "<style scoped>\n",
              "    .dataframe tbody tr th:only-of-type {\n",
              "        vertical-align: middle;\n",
              "    }\n",
              "\n",
              "    .dataframe tbody tr th {\n",
              "        vertical-align: top;\n",
              "    }\n",
              "\n",
              "    .dataframe thead th {\n",
              "        text-align: right;\n",
              "    }\n",
              "</style>\n",
              "<table border=\"1\" class=\"dataframe\">\n",
              "  <thead>\n",
              "    <tr style=\"text-align: right;\">\n",
              "      <th></th>\n",
              "      <th>age</th>\n",
              "      <th>age_mean</th>\n",
              "    </tr>\n",
              "  </thead>\n",
              "  <tbody>\n",
              "    <tr>\n",
              "      <th>0</th>\n",
              "      <td>0-20</td>\n",
              "      <td>10.0</td>\n",
              "    </tr>\n",
              "    <tr>\n",
              "      <th>1</th>\n",
              "      <td>20-40</td>\n",
              "      <td>30.0</td>\n",
              "    </tr>\n",
              "    <tr>\n",
              "      <th>2</th>\n",
              "      <td>40-60</td>\n",
              "      <td>50.0</td>\n",
              "    </tr>\n",
              "    <tr>\n",
              "      <th>3</th>\n",
              "      <td>60-80</td>\n",
              "      <td>70.0</td>\n",
              "    </tr>\n",
              "  </tbody>\n",
              "</table>\n",
              "</div>"
            ],
            "text/plain": [
              "     age  age_mean\n",
              "0   0-20      10.0\n",
              "1  20-40      30.0\n",
              "2  40-60      50.0\n",
              "3  60-80      70.0"
            ]
          },
          "metadata": {
            "tags": []
          },
          "execution_count": 35
        }
      ]
    },
    {
      "cell_type": "code",
      "metadata": {
        "id": "p9--T9pSbfHU"
      },
      "source": [],
      "execution_count": null,
      "outputs": []
    }
  ]
}