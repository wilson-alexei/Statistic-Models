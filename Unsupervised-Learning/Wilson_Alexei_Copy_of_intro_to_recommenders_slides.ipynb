{
  "nbformat": 4,
  "nbformat_minor": 0,
  "metadata": {
    "celltoolbar": "Slideshow",
    "kernelspec": {
      "display_name": "Python 3",
      "language": "python",
      "name": "python3"
    },
    "language_info": {
      "codemirror_mode": {
        "name": "ipython",
        "version": 3
      },
      "file_extension": ".py",
      "mimetype": "text/x-python",
      "name": "python",
      "nbconvert_exporter": "python",
      "pygments_lexer": "ipython3",
      "version": "3.7.0"
    },
    "colab": {
      "provenance": [],
      "collapsed_sections": [
        "0DRIiq17YsGT",
        "9l_iyGFUYsGU",
        "NC4nCsEeYsGU",
        "_AaGXTFmYsHJ",
        "GRdFkv4hYsHs",
        "akY14_pBYsH2",
        "zinCmAJZYsIK",
        "CE956vMlYsIK",
        "cp4aaxuCYsIL",
        "CLlLZweNYsIL"
      ]
    }
  },
  "cells": [
    {
      "cell_type": "code",
      "metadata": {
        "colab": {
          "base_uri": "https://localhost:8080/"
        },
        "id": "ciNu1THI8nR9",
        "outputId": "33bba322-4ad5-420a-b692-934cf528dfe7"
      },
      "source": [
        "!wget -nc https://raw.githubusercontent.com/brpy/colab-pdf/master/colab_pdf.py"
      ],
      "execution_count": null,
      "outputs": [
        {
          "output_type": "stream",
          "text": [
            "--2021-02-14 05:18:30--  https://raw.githubusercontent.com/brpy/colab-pdf/master/colab_pdf.py\n",
            "Resolving raw.githubusercontent.com (raw.githubusercontent.com)... 185.199.108.133, 185.199.109.133, 185.199.110.133, ...\n",
            "Connecting to raw.githubusercontent.com (raw.githubusercontent.com)|185.199.108.133|:443... connected.\n",
            "HTTP request sent, awaiting response... 200 OK\n",
            "Length: 1301 (1.3K) [text/plain]\n",
            "Saving to: ‘colab_pdf.py’\n",
            "\n",
            "\rcolab_pdf.py          0%[                    ]       0  --.-KB/s               \rcolab_pdf.py        100%[===================>]   1.27K  --.-KB/s    in 0s      \n",
            "\n",
            "2021-02-14 05:18:30 (47.1 MB/s) - ‘colab_pdf.py’ saved [1301/1301]\n",
            "\n"
          ],
          "name": "stdout"
        }
      ]
    },
    {
      "cell_type": "code",
      "metadata": {
        "colab": {
          "base_uri": "https://localhost:8080/"
        },
        "id": "DLMxUVcK8qRO",
        "outputId": "7a61b2e3-ac69-48c0-8b4d-66258f086dd5"
      },
      "source": [
        "from google.colab import drive\n",
        "drive.mount('/content/drive')"
      ],
      "execution_count": null,
      "outputs": [
        {
          "output_type": "stream",
          "text": [
            "Mounted at /content/drive\n"
          ],
          "name": "stdout"
        }
      ]
    },
    {
      "cell_type": "code",
      "metadata": {
        "id": "UUKVqXJN9CZh"
      },
      "source": [
        "!cp '/content/drive/MyDrive/Colab Notebooks/Copy of intro_to_recommenders_slides.ipynb' ./"
      ],
      "execution_count": null,
      "outputs": []
    },
    {
      "cell_type": "code",
      "metadata": {
        "colab": {
          "base_uri": "https://localhost:8080/",
          "height": 1000
        },
        "id": "mPNuMC629f4A",
        "outputId": "398daeac-6596-4b72-d773-9c4d9c18758f"
      },
      "source": [
        "from colab_pdf import colab_pdf\n",
        "colab_pdf('Copy of intro_to_recommenders_slides.ipynb')"
      ],
      "execution_count": null,
      "outputs": [
        {
          "output_type": "stream",
          "text": [
            "\u001b[33m\r0% [Working]\u001b[0m\r            \rGet:1 https://cloud.r-project.org/bin/linux/ubuntu bionic-cran40/ InRelease [3,626 B]\n",
            "\u001b[33m\r0% [Connecting to archive.ubuntu.com (91.189.88.142)] [Waiting for headers] [1 \u001b[0m\u001b[33m\r0% [Connecting to archive.ubuntu.com (91.189.88.142)] [Waiting for headers] [Wa\u001b[0m\r                                                                               \rIgn:2 https://developer.download.nvidia.com/compute/cuda/repos/ubuntu1804/x86_64  InRelease\n",
            "\u001b[33m\r0% [Connecting to archive.ubuntu.com (91.189.88.142)] [Waiting for headers] [Wa\u001b[0m\u001b[33m\r0% [1 InRelease gpgv 3,626 B] [Connecting to archive.ubuntu.com (91.189.88.142)\u001b[0m\r                                                                               \rGet:3 http://ppa.launchpad.net/c2d4u.team/c2d4u4.0+/ubuntu bionic InRelease [15.9 kB]\n",
            "\u001b[33m\r0% [1 InRelease gpgv 3,626 B] [Connecting to archive.ubuntu.com (91.189.88.142)\u001b[0m\r                                                                               \rGet:4 http://security.ubuntu.com/ubuntu bionic-security InRelease [88.7 kB]\n",
            "\u001b[33m\r0% [1 InRelease gpgv 3,626 B] [Waiting for headers] [4 InRelease 14.2 kB/88.7 k\u001b[0m\r                                                                               \rIgn:5 https://developer.download.nvidia.com/compute/machine-learning/repos/ubuntu1804/x86_64  InRelease\n",
            "\u001b[33m\r0% [1 InRelease gpgv 3,626 B] [Waiting for headers] [4 InRelease 14.2 kB/88.7 k\u001b[0m\r                                                                               \rHit:6 https://developer.download.nvidia.com/compute/cuda/repos/ubuntu1804/x86_64  Release\n",
            "\u001b[33m\r0% [1 InRelease gpgv 3,626 B] [Waiting for headers] [4 InRelease 14.2 kB/88.7 k\u001b[0m\r                                                                               \rHit:7 https://developer.download.nvidia.com/compute/machine-learning/repos/ubuntu1804/x86_64  Release\n",
            "Hit:8 http://archive.ubuntu.com/ubuntu bionic InRelease\n",
            "Get:9 http://archive.ubuntu.com/ubuntu bionic-updates InRelease [88.7 kB]\n",
            "Hit:10 http://ppa.launchpad.net/cran/libgit2/ubuntu bionic InRelease\n",
            "Hit:11 http://ppa.launchpad.net/graphics-drivers/ppa/ubuntu bionic InRelease\n",
            "Get:13 http://archive.ubuntu.com/ubuntu bionic-backports InRelease [74.6 kB]\n",
            "Get:15 http://ppa.launchpad.net/c2d4u.team/c2d4u4.0+/ubuntu bionic/main Sources [1,732 kB]\n",
            "Get:16 http://security.ubuntu.com/ubuntu bionic-security/universe amd64 Packages [1,391 kB]\n",
            "Get:17 http://ppa.launchpad.net/c2d4u.team/c2d4u4.0+/ubuntu bionic/main amd64 Packages [886 kB]\n",
            "Get:18 http://security.ubuntu.com/ubuntu bionic-security/main amd64 Packages [1,929 kB]\n",
            "Get:19 http://archive.ubuntu.com/ubuntu bionic-updates/main amd64 Packages [2,360 kB]\n",
            "Get:20 http://archive.ubuntu.com/ubuntu bionic-updates/universe amd64 Packages [2,162 kB]\n",
            "Fetched 10.7 MB in 3s (3,564 kB/s)\n",
            "Reading package lists... Done\n",
            "Building dependency tree       \n",
            "Reading state information... Done\n",
            "25 packages can be upgraded. Run 'apt list --upgradable' to see them.\n",
            "Reading package lists... Done\n",
            "Building dependency tree       \n",
            "Reading state information... Done\n",
            "texlive-fonts-recommended is already the newest version (2017.20180305-1).\n",
            "texlive-fonts-recommended set to manually installed.\n",
            "texlive-xetex is already the newest version (2017.20180305-1).\n",
            "The following NEW packages will be installed:\n",
            "  texlive-generic-recommended\n",
            "0 upgraded, 1 newly installed, 0 to remove and 25 not upgraded.\n",
            "Need to get 15.9 kB of archives.\n",
            "After this operation, 69.6 kB of additional disk space will be used.\n",
            "Get:1 http://archive.ubuntu.com/ubuntu bionic/universe amd64 texlive-generic-recommended all 2017.20180305-1 [15.9 kB]\n",
            "Fetched 15.9 kB in 0s (59.3 kB/s)\n",
            "Selecting previously unselected package texlive-generic-recommended.\n",
            "(Reading database ... 172611 files and directories currently installed.)\n",
            "Preparing to unpack .../texlive-generic-recommended_2017.20180305-1_all.deb ...\n",
            "Unpacking texlive-generic-recommended (2017.20180305-1) ...\n",
            "Setting up texlive-generic-recommended (2017.20180305-1) ...\n",
            "[NbConvertApp] Converting notebook /content/drive/My Drive/Colab Notebooks/Copy of intro_to_recommenders_slides.ipynb to pdf\n",
            "[NbConvertApp] Support files will be in Copy of intro_to_recommenders_slides_files/\n",
            "[NbConvertApp] Making directory ./Copy of intro_to_recommenders_slides_files\n",
            "[NbConvertApp] Writing 102854 bytes to ./notebook.tex\n",
            "[NbConvertApp] Building PDF\n",
            "[NbConvertApp] Running xelatex 3 times: [u'xelatex', u'./notebook.tex', '-quiet']\n",
            "[NbConvertApp] CRITICAL | xelatex failed: [u'xelatex', u'./notebook.tex', '-quiet']\n",
            "This is XeTeX, Version 3.14159265-2.6-0.99998 (TeX Live 2017/Debian) (preloaded format=xelatex)\n",
            " restricted \\write18 enabled.\n",
            "entering extended mode\n",
            "(./notebook.tex\n",
            "LaTeX2e <2017-04-15>\n",
            "Babel <3.18> and hyphenation patterns for 3 language(s) loaded.\n",
            "(/usr/share/texlive/texmf-dist/tex/latex/base/article.cls\n",
            "Document Class: article 2014/09/29 v1.4h Standard LaTeX document class\n",
            "(/usr/share/texlive/texmf-dist/tex/latex/base/size11.clo))\n",
            "(/usr/share/texlive/texmf-dist/tex/latex/tcolorbox/tcolorbox.sty\n",
            "(/usr/share/texlive/texmf-dist/tex/latex/pgf/basiclayer/pgf.sty\n",
            "(/usr/share/texlive/texmf-dist/tex/latex/pgf/utilities/pgfrcs.sty\n",
            "(/usr/share/texlive/texmf-dist/tex/generic/pgf/utilities/pgfutil-common.tex\n",
            "(/usr/share/texlive/texmf-dist/tex/generic/pgf/utilities/pgfutil-common-lists.t\n",
            "ex)) (/usr/share/texlive/texmf-dist/tex/generic/pgf/utilities/pgfutil-latex.def\n",
            "(/usr/share/texlive/texmf-dist/tex/latex/ms/everyshi.sty))\n",
            "(/usr/share/texlive/texmf-dist/tex/generic/pgf/utilities/pgfrcs.code.tex))\n",
            "(/usr/share/texlive/texmf-dist/tex/latex/pgf/basiclayer/pgfcore.sty\n",
            "(/usr/share/texlive/texmf-dist/tex/latex/graphics/graphicx.sty\n",
            "(/usr/share/texlive/texmf-dist/tex/latex/graphics/keyval.sty)\n",
            "(/usr/share/texlive/texmf-dist/tex/latex/graphics/graphics.sty\n",
            "(/usr/share/texlive/texmf-dist/tex/latex/graphics/trig.sty)\n",
            "(/usr/share/texlive/texmf-dist/tex/latex/graphics-cfg/graphics.cfg)\n",
            "(/usr/share/texlive/texmf-dist/tex/latex/graphics-def/xetex.def)))\n",
            "(/usr/share/texlive/texmf-dist/tex/latex/pgf/systemlayer/pgfsys.sty\n",
            "(/usr/share/texlive/texmf-dist/tex/generic/pgf/systemlayer/pgfsys.code.tex\n",
            "(/usr/share/texlive/texmf-dist/tex/generic/pgf/utilities/pgfkeys.code.tex\n",
            "(/usr/share/texlive/texmf-dist/tex/generic/pgf/utilities/pgfkeysfiltered.code.t\n",
            "ex)) (/usr/share/texlive/texmf-dist/tex/generic/pgf/systemlayer/pgf.cfg)\n",
            "(/usr/share/texlive/texmf-dist/tex/generic/pgf/systemlayer/pgfsys-xetex.def\n",
            "(/usr/share/texlive/texmf-dist/tex/generic/pgf/systemlayer/pgfsys-dvipdfmx.def\n",
            "(/usr/share/texlive/texmf-dist/tex/generic/pgf/systemlayer/pgfsys-common-pdf.de\n",
            "f))))\n",
            "(/usr/share/texlive/texmf-dist/tex/generic/pgf/systemlayer/pgfsyssoftpath.code.\n",
            "tex)\n",
            "(/usr/share/texlive/texmf-dist/tex/generic/pgf/systemlayer/pgfsysprotocol.code.\n",
            "tex)) (/usr/share/texlive/texmf-dist/tex/latex/xcolor/xcolor.sty\n",
            "(/usr/share/texlive/texmf-dist/tex/latex/graphics-cfg/color.cfg))\n",
            "(/usr/share/texlive/texmf-dist/tex/generic/pgf/basiclayer/pgfcore.code.tex\n",
            "(/usr/share/texlive/texmf-dist/tex/generic/pgf/math/pgfmath.code.tex\n",
            "(/usr/share/texlive/texmf-dist/tex/generic/pgf/math/pgfmathcalc.code.tex\n",
            "(/usr/share/texlive/texmf-dist/tex/generic/pgf/math/pgfmathutil.code.tex)\n",
            "(/usr/share/texlive/texmf-dist/tex/generic/pgf/math/pgfmathparser.code.tex)\n",
            "(/usr/share/texlive/texmf-dist/tex/generic/pgf/math/pgfmathfunctions.code.tex\n",
            "(/usr/share/texlive/texmf-dist/tex/generic/pgf/math/pgfmathfunctions.basic.code\n",
            ".tex)\n",
            "(/usr/share/texlive/texmf-dist/tex/generic/pgf/math/pgfmathfunctions.trigonomet\n",
            "ric.code.tex)\n",
            "(/usr/share/texlive/texmf-dist/tex/generic/pgf/math/pgfmathfunctions.random.cod\n",
            "e.tex)\n",
            "(/usr/share/texlive/texmf-dist/tex/generic/pgf/math/pgfmathfunctions.comparison\n",
            ".code.tex)\n",
            "(/usr/share/texlive/texmf-dist/tex/generic/pgf/math/pgfmathfunctions.base.code.\n",
            "tex)\n",
            "(/usr/share/texlive/texmf-dist/tex/generic/pgf/math/pgfmathfunctions.round.code\n",
            ".tex)\n",
            "(/usr/share/texlive/texmf-dist/tex/generic/pgf/math/pgfmathfunctions.misc.code.\n",
            "tex)\n",
            "(/usr/share/texlive/texmf-dist/tex/generic/pgf/math/pgfmathfunctions.integerari\n",
            "thmetics.code.tex)))\n",
            "(/usr/share/texlive/texmf-dist/tex/generic/pgf/math/pgfmathfloat.code.tex))\n",
            "(/usr/share/texlive/texmf-dist/tex/generic/pgf/basiclayer/pgfcorepoints.code.te\n",
            "x)\n",
            "(/usr/share/texlive/texmf-dist/tex/generic/pgf/basiclayer/pgfcorepathconstruct.\n",
            "code.tex)\n",
            "(/usr/share/texlive/texmf-dist/tex/generic/pgf/basiclayer/pgfcorepathusage.code\n",
            ".tex)\n",
            "(/usr/share/texlive/texmf-dist/tex/generic/pgf/basiclayer/pgfcorescopes.code.te\n",
            "x)\n",
            "(/usr/share/texlive/texmf-dist/tex/generic/pgf/basiclayer/pgfcoregraphicstate.c\n",
            "ode.tex)\n",
            "(/usr/share/texlive/texmf-dist/tex/generic/pgf/basiclayer/pgfcoretransformation\n",
            "s.code.tex)\n",
            "(/usr/share/texlive/texmf-dist/tex/generic/pgf/basiclayer/pgfcorequick.code.tex\n",
            ")\n",
            "(/usr/share/texlive/texmf-dist/tex/generic/pgf/basiclayer/pgfcoreobjects.code.t\n",
            "ex)\n",
            "(/usr/share/texlive/texmf-dist/tex/generic/pgf/basiclayer/pgfcorepathprocessing\n",
            ".code.tex)\n",
            "(/usr/share/texlive/texmf-dist/tex/generic/pgf/basiclayer/pgfcorearrows.code.te\n",
            "x)\n",
            "(/usr/share/texlive/texmf-dist/tex/generic/pgf/basiclayer/pgfcoreshade.code.tex\n",
            ")\n",
            "(/usr/share/texlive/texmf-dist/tex/generic/pgf/basiclayer/pgfcoreimage.code.tex\n",
            "\n",
            "(/usr/share/texlive/texmf-dist/tex/generic/pgf/basiclayer/pgfcoreexternal.code.\n",
            "tex))\n",
            "(/usr/share/texlive/texmf-dist/tex/generic/pgf/basiclayer/pgfcorelayers.code.te\n",
            "x)\n",
            "(/usr/share/texlive/texmf-dist/tex/generic/pgf/basiclayer/pgfcoretransparency.c\n",
            "ode.tex)\n",
            "(/usr/share/texlive/texmf-dist/tex/generic/pgf/basiclayer/pgfcorepatterns.code.\n",
            "tex)))\n",
            "(/usr/share/texlive/texmf-dist/tex/generic/pgf/modules/pgfmoduleshapes.code.tex\n",
            ") (/usr/share/texlive/texmf-dist/tex/generic/pgf/modules/pgfmoduleplot.code.tex\n",
            ")\n",
            "(/usr/share/texlive/texmf-dist/tex/latex/pgf/compatibility/pgfcomp-version-0-65\n",
            ".sty)\n",
            "(/usr/share/texlive/texmf-dist/tex/latex/pgf/compatibility/pgfcomp-version-1-18\n",
            ".sty)) (/usr/share/texlive/texmf-dist/tex/latex/tools/verbatim.sty)\n",
            "(/usr/share/texlive/texmf-dist/tex/latex/environ/environ.sty\n",
            "(/usr/share/texlive/texmf-dist/tex/latex/trimspaces/trimspaces.sty))\n",
            "(/usr/share/texlive/texmf-dist/tex/latex/etoolbox/etoolbox.sty)\n",
            "(/usr/share/texlive/texmf-dist/tex/latex/tcolorbox/tcbbreakable.code.tex\n",
            "Library (tcolorbox): 'tcbbreakable.code.tex' version '4.12'\n",
            ")) (/usr/share/texlive/texmf-dist/tex/latex/float/float.sty)\n",
            "(/usr/share/texlive/texmf-dist/tex/latex/base/fontenc.sty\n",
            "(/usr/share/texlive/texmf-dist/tex/latex/base/t1enc.def)\n",
            "(/usr/share/texmf/tex/latex/lm/t1lmr.fd))\n",
            "(/usr/share/texlive/texmf-dist/tex/latex/psnfss/mathpazo.sty)\n",
            "(/usr/share/texlive/texmf-dist/tex/latex/caption/caption.sty\n",
            "(/usr/share/texlive/texmf-dist/tex/latex/caption/caption3.sty))\n",
            "(/usr/share/texlive/texmf-dist/tex/latex/adjustbox/adjustbox.sty\n",
            "(/usr/share/texlive/texmf-dist/tex/latex/xkeyval/xkeyval.sty\n",
            "(/usr/share/texlive/texmf-dist/tex/generic/xkeyval/xkeyval.tex\n",
            "(/usr/share/texlive/texmf-dist/tex/generic/xkeyval/xkvutils.tex)))\n",
            "(/usr/share/texlive/texmf-dist/tex/latex/adjustbox/adjcalc.sty)\n",
            "(/usr/share/texlive/texmf-dist/tex/latex/adjustbox/trimclip.sty\n",
            "(/usr/share/texlive/texmf-dist/tex/latex/collectbox/collectbox.sty)\n",
            "(/usr/share/texlive/texmf-dist/tex/latex/adjustbox/tc-xetex.def))\n",
            "(/usr/share/texlive/texmf-dist/tex/latex/ifoddpage/ifoddpage.sty)\n",
            "(/usr/share/texlive/texmf-dist/tex/latex/varwidth/varwidth.sty))\n",
            "(/usr/share/texlive/texmf-dist/tex/latex/tools/enumerate.sty)\n",
            "(/usr/share/texlive/texmf-dist/tex/latex/geometry/geometry.sty\n",
            "(/usr/share/texlive/texmf-dist/tex/generic/oberdiek/ifpdf.sty)\n",
            "(/usr/share/texlive/texmf-dist/tex/generic/oberdiek/ifvtex.sty)\n",
            "(/usr/share/texlive/texmf-dist/tex/generic/ifxetex/ifxetex.sty))\n",
            "(/usr/share/texlive/texmf-dist/tex/latex/amsmath/amsmath.sty\n",
            "For additional information on amsmath, use the `?' option.\n",
            "(/usr/share/texlive/texmf-dist/tex/latex/amsmath/amstext.sty\n",
            "(/usr/share/texlive/texmf-dist/tex/latex/amsmath/amsgen.sty))\n",
            "(/usr/share/texlive/texmf-dist/tex/latex/amsmath/amsbsy.sty)\n",
            "(/usr/share/texlive/texmf-dist/tex/latex/amsmath/amsopn.sty))\n",
            "(/usr/share/texlive/texmf-dist/tex/latex/amsfonts/amssymb.sty\n",
            "(/usr/share/texlive/texmf-dist/tex/latex/amsfonts/amsfonts.sty))\n",
            "(/usr/share/texlive/texmf-dist/tex/latex/base/textcomp.sty\n",
            "(/usr/share/texlive/texmf-dist/tex/latex/base/ts1enc.def))\n",
            "(/usr/share/texlive/texmf-dist/tex/latex/upquote/upquote.sty)\n",
            "(/usr/share/texlive/texmf-dist/tex/latex/eurosym/eurosym.sty)\n",
            "(/usr/share/texlive/texmf-dist/tex/latex/ucs/ucs.sty\n",
            "(/usr/share/texlive/texmf-dist/tex/latex/ucs/data/uni-global.def))\n",
            "(/usr/share/texlive/texmf-dist/tex/latex/base/inputenc.sty\n",
            "\n",
            "Package inputenc Warning: inputenc package ignored with utf8 based engines.\n",
            "\n",
            ") (/usr/share/texlive/texmf-dist/tex/latex/fancyvrb/fancyvrb.sty\n",
            "Style option: `fancyvrb' v2.7a, with DG/SPQR fixes, and firstline=lastline fix \n",
            "<2008/02/07> (tvz))\n",
            "(/usr/share/texlive/texmf-dist/tex/latex/oberdiek/grffile.sty\n",
            "(/usr/share/texlive/texmf-dist/tex/latex/oberdiek/kvoptions.sty\n",
            "(/usr/share/texlive/texmf-dist/tex/generic/oberdiek/ltxcmds.sty)\n",
            "(/usr/share/texlive/texmf-dist/tex/generic/oberdiek/kvsetkeys.sty\n",
            "(/usr/share/texlive/texmf-dist/tex/generic/oberdiek/infwarerr.sty)\n",
            "(/usr/share/texlive/texmf-dist/tex/generic/oberdiek/etexcmds.sty\n",
            "(/usr/share/texlive/texmf-dist/tex/generic/oberdiek/ifluatex.sty))))\n",
            "(/usr/share/texlive/texmf-dist/tex/generic/oberdiek/pdftexcmds.sty))\n",
            "(/usr/share/texlive/texmf-dist/tex/latex/hyperref/hyperref.sty\n",
            "(/usr/share/texlive/texmf-dist/tex/generic/oberdiek/hobsub-hyperref.sty\n",
            "(/usr/share/texlive/texmf-dist/tex/generic/oberdiek/hobsub-generic.sty))\n",
            "(/usr/share/texlive/texmf-dist/tex/latex/oberdiek/auxhook.sty)\n",
            "(/usr/share/texlive/texmf-dist/tex/latex/hyperref/pd1enc.def)\n",
            "(/usr/share/texlive/texmf-dist/tex/latex/latexconfig/hyperref.cfg)\n",
            "(/usr/share/texlive/texmf-dist/tex/latex/url/url.sty))\n",
            "(/usr/share/texlive/texmf-dist/tex/latex/hyperref/hxetex.def\n",
            "(/usr/share/texlive/texmf-dist/tex/latex/hyperref/puenc.def)\n",
            "(/usr/share/texlive/texmf-dist/tex/generic/oberdiek/stringenc.sty)\n",
            "(/usr/share/texlive/texmf-dist/tex/latex/oberdiek/rerunfilecheck.sty))\n",
            "(/usr/share/texlive/texmf-dist/tex/latex/tools/longtable.sty)\n",
            "(/usr/share/texlive/texmf-dist/tex/latex/booktabs/booktabs.sty)\n",
            "(/usr/share/texlive/texmf-dist/tex/latex/enumitem/enumitem.sty)\n",
            "(/usr/share/texlive/texmf-dist/tex/generic/ulem/ulem.sty)\n",
            "(/usr/share/texlive/texmf-dist/tex/latex/jknapltx/mathrsfs.sty)\n",
            "No file notebook.aux.\n",
            "(/usr/share/texlive/texmf-dist/tex/latex/base/ts1cmr.fd)\n",
            "(/usr/share/texlive/texmf-dist/tex/latex/psnfss/t1ppl.fd)\n",
            "ABD: EveryShipout initializing macros\n",
            "(/usr/share/texlive/texmf-dist/tex/latex/caption/ltcaption.sty)\n",
            "*geometry* driver: auto-detecting\n",
            "*geometry* detected driver: xetex\n",
            "*geometry* verbose mode - [ preamble ] result:\n",
            "* driver: xetex\n",
            "* paper: <default>\n",
            "* layout: <same size as paper>\n",
            "* layoutoffset:(h,v)=(0.0pt,0.0pt)\n",
            "* modes: \n",
            "* h-part:(L,W,R)=(72.26999pt, 469.75502pt, 72.26999pt)\n",
            "* v-part:(T,H,B)=(72.26999pt, 650.43001pt, 72.26999pt)\n",
            "* \\paperwidth=614.295pt\n",
            "* \\paperheight=794.96999pt\n",
            "* \\textwidth=469.75502pt\n",
            "* \\textheight=650.43001pt\n",
            "* \\oddsidemargin=0.0pt\n",
            "* \\evensidemargin=0.0pt\n",
            "* \\topmargin=-37.0pt\n",
            "* \\headheight=12.0pt\n",
            "* \\headsep=25.0pt\n",
            "* \\topskip=11.0pt\n",
            "* \\footskip=30.0pt\n",
            "* \\marginparwidth=59.0pt\n",
            "* \\marginparsep=10.0pt\n",
            "* \\columnsep=10.0pt\n",
            "* \\skip\\footins=10.0pt plus 4.0pt minus 2.0pt\n",
            "* \\hoffset=0.0pt\n",
            "* \\voffset=0.0pt\n",
            "* \\mag=1000\n",
            "* \\@twocolumnfalse\n",
            "* \\@twosidefalse\n",
            "* \\@mparswitchfalse\n",
            "* \\@reversemarginfalse\n",
            "* (1in=72.27pt=25.4mm, 1cm=28.453pt)\n",
            "\n",
            "(/usr/share/texlive/texmf-dist/tex/latex/ucs/ucsencs.def)\n",
            "(/usr/share/texlive/texmf-dist/tex/latex/hyperref/nameref.sty\n",
            "(/usr/share/texlive/texmf-dist/tex/generic/oberdiek/gettitlestring.sty))\n",
            "\n",
            "Package hyperref Warning: Rerun to get /PageLabels entry.\n",
            "\n",
            "(/usr/share/texlive/texmf-dist/tex/latex/psnfss/ot1ppl.fd)\n",
            "(/usr/share/texlive/texmf-dist/tex/latex/psnfss/omlzplm.fd)\n",
            "(/usr/share/texlive/texmf-dist/tex/latex/psnfss/omszplm.fd)\n",
            "(/usr/share/texlive/texmf-dist/tex/latex/psnfss/omxzplm.fd)\n",
            "(/usr/share/texlive/texmf-dist/tex/latex/psnfss/ot1zplm.fd)\n",
            "(/usr/share/texlive/texmf-dist/tex/latex/jknapltx/ursfs.fd)\n",
            "\n",
            "LaTeX Warning: No \\author given.\n",
            "\n",
            "(/usr/share/texmf/tex/latex/lm/t1lmtt.fd)\n",
            "(/usr/share/texmf/tex/latex/lm/ts1lmtt.fd)\n",
            "(/usr/share/texlive/texmf-dist/tex/generic/oberdiek/se-ascii-print.def)\n",
            "[1] [2] [3] [4] [5] [6]\n",
            "(/usr/share/texlive/texmf-dist/tex/latex/psnfss/ts1ppl.fd) [7] [8]\n",
            "\n",
            "Package hyperref Warning: Difference (2) between bookmark levels is greater \n",
            "(hyperref)                than one, level fixed on input line 886.\n",
            "\n",
            "[9] [10]\n",
            "! Missing $ inserted.\n",
            "<inserted text> \n",
            "                $\n",
            "l.1081 ...f intro_to_recommenders_slides_36_0.png}\n",
            "                                                  \n",
            "? \n",
            "! Emergency stop.\n",
            "<inserted text> \n",
            "                $\n",
            "l.1081 ...f intro_to_recommenders_slides_36_0.png}\n",
            "                                                  \n",
            "Output written on notebook.pdf (10 pages).\n",
            "Transcript written on notebook.log.\n",
            "\n",
            "[NbConvertApp] PDF successfully created\n",
            "[NbConvertApp] Writing 46954 bytes to /content/drive/My Drive/Copy of intro_to_recommenders_slides.pdf\n"
          ],
          "name": "stdout"
        },
        {
          "output_type": "display_data",
          "data": {
            "application/javascript": [
              "\n",
              "    async function download(id, filename, size) {\n",
              "      if (!google.colab.kernel.accessAllowed) {\n",
              "        return;\n",
              "      }\n",
              "      const div = document.createElement('div');\n",
              "      const label = document.createElement('label');\n",
              "      label.textContent = `Downloading \"${filename}\": `;\n",
              "      div.appendChild(label);\n",
              "      const progress = document.createElement('progress');\n",
              "      progress.max = size;\n",
              "      div.appendChild(progress);\n",
              "      document.body.appendChild(div);\n",
              "\n",
              "      const buffers = [];\n",
              "      let downloaded = 0;\n",
              "\n",
              "      const channel = await google.colab.kernel.comms.open(id);\n",
              "      // Send a message to notify the kernel that we're ready.\n",
              "      channel.send({})\n",
              "\n",
              "      for await (const message of channel.messages) {\n",
              "        // Send a message to notify the kernel that we're ready.\n",
              "        channel.send({})\n",
              "        if (message.buffers) {\n",
              "          for (const buffer of message.buffers) {\n",
              "            buffers.push(buffer);\n",
              "            downloaded += buffer.byteLength;\n",
              "            progress.value = downloaded;\n",
              "          }\n",
              "        }\n",
              "      }\n",
              "      const blob = new Blob(buffers, {type: 'application/binary'});\n",
              "      const a = document.createElement('a');\n",
              "      a.href = window.URL.createObjectURL(blob);\n",
              "      a.download = filename;\n",
              "      div.appendChild(a);\n",
              "      a.click();\n",
              "      div.remove();\n",
              "    }\n",
              "  "
            ],
            "text/plain": [
              "<IPython.core.display.Javascript object>"
            ]
          },
          "metadata": {
            "tags": []
          }
        },
        {
          "output_type": "display_data",
          "data": {
            "application/javascript": [
              "download(\"download_c40a727c-9e42-4df4-a011-2b66f3958e8c\", \"Copy of intro_to_recommenders_slides.pdf\", 46954)"
            ],
            "text/plain": [
              "<IPython.core.display.Javascript object>"
            ]
          },
          "metadata": {
            "tags": []
          }
        },
        {
          "output_type": "execute_result",
          "data": {
            "application/vnd.google.colaboratory.intrinsic+json": {
              "type": "string"
            },
            "text/plain": [
              "'File ready to be Downloaded and Saved to Drive'"
            ]
          },
          "metadata": {
            "tags": []
          },
          "execution_count": 7
        }
      ]
    },
    {
      "cell_type": "markdown",
      "metadata": {
        "id": "p-e0mJ2MYsGK"
      },
      "source": [
        "# How to Build a Recommeder System from Scratch\n",
        "\n",
        "This tutorials explore different types of recommendation systems and their implementations. Topics include:\n",
        "\n",
        "- collaborative vs. content-based filtering\n",
        "- implicit vs. explicit feedback\n",
        "- handling the cold start problem\n",
        "- recommendation model evaluation\n",
        "\n",
        "We will build various recommendation systems using data from the [MovieLens](https://movielens.org/) database. You will need Jupyter Lab to run the notebooks for each part of this series. "
      ]
    },
    {
      "cell_type": "markdown",
      "metadata": {
        "id": "Z15sY_m9YsGL"
      },
      "source": [
        "# Agenda\n",
        "\n",
        "1. What is a recommender system? \n",
        "1. Why do we need recommender systems?\n",
        "1. How does it work?\n",
        "1. Collaborative Filtering\n",
        "1. Content-based Filtering \n",
        "1. Tutorial using MovieLens dataset"
      ]
    },
    {
      "cell_type": "markdown",
      "metadata": {
        "id": "-TX-19cgYsGM"
      },
      "source": [
        "# What is a Recommender System?\n",
        "\n",
        "- an application of machine learning\n",
        "- predicts a user's preference towards a given item\n",
        "- aims to drive user engagement"
      ]
    },
    {
      "cell_type": "markdown",
      "metadata": {
        "id": "xGvorrxpYsGN"
      },
      "source": [
        "<h1 style=\"text-align:center\">Examples of Recommenders</h1>\n",
        "\n",
        "<img src=\"https://raw.githubusercontent.com/fairfield-university-ba545/week5/master/images/amazon-example.png\" style=\"display:block;margin-left:auto;margin-right:auto;\">\n",
        "\n"
      ]
    },
    {
      "cell_type": "markdown",
      "metadata": {
        "id": "bhI_zMVdYsGN"
      },
      "source": [
        "<h1 style=\"text-align:center\">Examples of Recommenders</h1>\n",
        "\n",
        "<img src=\"https://raw.githubusercontent.com/fairfield-university-ba545/week5/master/images/netflix-example.png\" style=\"display:block;margin-left:auto;margin-right:auto;\">"
      ]
    },
    {
      "cell_type": "markdown",
      "metadata": {
        "id": "puQ5nNrFYsGO"
      },
      "source": [
        "<h1 style=\"text-align:center\">Examples of Recommenders</h1>\n",
        "\n",
        "<img src=\"https://raw.githubusercontent.com/fairfield-university-ba545/week5/master/images/medium-example.png\" style=\"display:block;margin-left:auto;margin-right:auto;\">"
      ]
    },
    {
      "cell_type": "markdown",
      "metadata": {
        "id": "Uu8cNgsMYsGO"
      },
      "source": [
        "<h1 style=\"text-align:center\">Why Do We Need Recommender Systems?</h1>\n",
        "\n",
        "<h3 style=\"text-align:center\"> Before e-Commerce...</h3>\n",
        "\n",
        "<p style=\"text-align:center\"> Things were sold exclusively in brick-and-mortar stores </p>\n",
        "\n",
        "<img src=\"https://raw.githubusercontent.com/fairfield-university-ba545/week5/master/images/bookstore.png\" style=\"display:block;margin-left:auto;margin-right:auto;\"/>\n",
        "\n",
        "<p style=\"text-align:center\"> limited inventory </p>\n",
        "<p style=\"text-align:center\"> mainstream products </p>\n"
      ]
    },
    {
      "cell_type": "markdown",
      "metadata": {
        "id": "4Hm94KuWYsGP"
      },
      "source": [
        "<h1 style=\"text-align:center\">Why Do We Need Recommender Systems?</h1>\n",
        "\n",
        "<h3 style=\"text-align:center\"> e-Commerce...</h3>\n",
        "\n",
        "<p style=\"text-align:center\"> Introduction of the online marketplace </p>\n",
        "\n",
        "<img src=\"https://raw.githubusercontent.com/fairfield-university-ba545/week5/master/images/amazon-ecommerce.png\" style=\"display:block;margin-left:auto;margin-right:auto;width:50%;\"/>\n",
        "\n",
        "<p style=\"text-align:center\"> unlimited inventory </p>\n",
        "<p style=\"text-align:center\"> niche products </p>\n"
      ]
    },
    {
      "cell_type": "markdown",
      "metadata": {
        "id": "6SS5ME9QYsGP"
      },
      "source": [
        "<h1 style=\"text-align:center\">Why Do We Need Recommender Systems?</h1>\n",
        "\n",
        "\n",
        "> \"With the evolution of online retail, however, has come the revelation that being able to recategorize and rearrange products on the fly unlocks their real value.\" - Chris Anderson\n",
        "\n",
        "\n",
        "\n",
        "\n",
        "<img src=\"https://raw.githubusercontent.com/fairfield-university-ba545/week5/master/images/long-tail-book.png\" style=\"display:block;margin-left:auto;margin-right:auto;width:35%;\"/>"
      ]
    },
    {
      "cell_type": "markdown",
      "metadata": {
        "id": "kUnwGZvVYsGQ"
      },
      "source": [
        "<h1 style=\"text-align:center\">Why Do We Need Recommender Systems?</h1>\n",
        "\n",
        "<p style=\"text-align:center;\">The Tasting Booth Experiment (Iyengar and Lepper, 2000)</p>\n",
        "\n",
        "<img src=\"https://raw.githubusercontent.com/fairfield-university-ba545/week5/master/images/tasting-booth.png\" style=\"display:block;margin-left:auto;margin-right:auto;width:65%;\"/>\n",
        "\n",
        "\n",
        "\n",
        "> \"30% of the consumers in the limited-choice condition subsequently purchased a jar of jam; in contrast, only 3% of the consumers in the extensive-choice condition did so\"\n",
        "\n"
      ]
    },
    {
      "cell_type": "markdown",
      "metadata": {
        "id": "gCvkJHPTYsGR"
      },
      "source": [
        "<h1 style=\"text-align:center\">Recommender Systems = Machine Learning</h1>\n",
        "\n",
        "<img src=\"https://raw.githubusercontent.com/fairfield-university-ba545/week5/master/images/recommender-ml-1.png\" style=\"display:block;margin-left:auto;margin-right:auto;\"/>"
      ]
    },
    {
      "cell_type": "markdown",
      "metadata": {
        "id": "4NDqcJMqYsGS"
      },
      "source": [
        "<h1 style=\"text-align:center\">Recommender Systems = Machine Learning</h1>\n",
        "\n",
        "<img src=\"https://raw.githubusercontent.com/fairfield-university-ba545/week5/master/images/recommender-ml-2.png\" style=\"display:block;margin-left:auto;margin-right:auto;\"/>"
      ]
    },
    {
      "cell_type": "markdown",
      "metadata": {
        "id": "v9q4zyxdYsGS"
      },
      "source": [
        "<h1 style=\"text-align:center\">Recommender Systems = Machine Learning</h1>\n",
        "\n",
        "<img src=\"https://raw.githubusercontent.com/fairfield-university-ba545/week5/master/images/recommender-ml-3.png\" style=\"display:block;margin-left:auto;margin-right:auto;\"/>"
      ]
    },
    {
      "cell_type": "markdown",
      "metadata": {
        "id": "X9DZnicgYsGT"
      },
      "source": [
        "<h1 style=\"text-align:center;\">Recommender Systems = Machine Learning</h1>\n",
        "\n",
        "<img src=\"https://raw.githubusercontent.com/fairfield-university-ba545/week5/master/images/recommender-ml-4.png\" style=\"display:block;margin-left:auto;margin-right:auto;\"/>"
      ]
    },
    {
      "cell_type": "markdown",
      "metadata": {
        "id": "0DRIiq17YsGT"
      },
      "source": [
        "# Collaborative Filtering\n",
        "\n",
        "- Based on the assumption that similar users like similar things\n",
        "- \"Customers who bought this item also bought...\"\n",
        "- \"Because you watched Movie X...\"\n",
        "\n",
        "<img src=\"https://raw.githubusercontent.com/fairfield-university-ba545/week5/master/images/collaborative-filtering.png\" style=\"display:block;margin-left:auto;margin-right:auto;width:60%\"/>\n",
        "\n",
        "<p style=\"text-align:center;\">User-item (\"utility\") matrix</p>"
      ]
    },
    {
      "cell_type": "markdown",
      "metadata": {
        "id": "9l_iyGFUYsGU"
      },
      "source": [
        "# Content-based Filtering\n",
        "\n",
        "- Generates recommendations using user and item features\n",
        "- Handles the cold-start problem for new users and items\n",
        "- User features: `age`, `gender`, `spoken language`\n",
        "- Item features: `movie genre`, `year of release`, `cast`\n",
        "\n",
        "<img src=\"https://raw.githubusercontent.com/fairfield-university-ba545/week5/master/images/content-based-filtering.png\" style=\"display:block;margin-left:auto;margin-right:auto;width:90%\"/>"
      ]
    },
    {
      "cell_type": "markdown",
      "metadata": {
        "id": "NC4nCsEeYsGU"
      },
      "source": [
        "# Tutorial\n",
        "\n",
        "- Build an item-item recommender using the [MovieLens](https://movielens.org/) dataset "
      ]
    },
    {
      "cell_type": "markdown",
      "metadata": {
        "id": "cFf-BZPMYsGV"
      },
      "source": [
        "# Step 1: Import Dependencies\n",
        "\n",
        "<p style=\"margin-bottom:0;\">We will be representing our data as a <b>Pandas DataFrame</b>.</p>\n",
        "\n",
        "- a two-dimensional data structure\n",
        "- `columns` represent features, `rows` represent items\n",
        "- analogous to an Excel spreadsheet or SQL table\n",
        "- documentation can be found here"
      ]
    },
    {
      "cell_type": "code",
      "metadata": {
        "id": "Qb5O_KR4YsGV"
      },
      "source": [
        "# import required packages\n",
        "import numpy as np\n",
        "import pandas as pd\n",
        "import sklearn\n",
        "import matplotlib.pyplot as plt\n",
        "import seaborn as sns"
      ],
      "execution_count": null,
      "outputs": []
    },
    {
      "cell_type": "markdown",
      "metadata": {
        "id": "WtwmEuNJYsGZ"
      },
      "source": [
        "# Step 2: Load the Data\n",
        "\n",
        "- Download the dataset from MovieLens [here](https://grouplens.org/datasets/movielens/)\n",
        "- Consists of two files:\n",
        "    - `ratings.csv`\n",
        "    - `movies.csv`\n",
        "- These files can also be accessed directly with these links:\n",
        "    - https://s3-us-west-2.amazonaws.com/recommender-tutorial/ratings.csv\n",
        "    - https://s3-us-west-2.amazonaws.com/recommender-tutorial/movies.csv"
      ]
    },
    {
      "cell_type": "markdown",
      "metadata": {
        "id": "jBs1R8MrYsGZ"
      },
      "source": [
        "### Ratings\n",
        "\n",
        "<p style=\"margin-bottom:0;\">Dataframe contains 4 columns:</p>\n",
        "\n",
        "- `userId`\n",
        "- `movieId`\n",
        "- `rating` \n",
        "- `timestamp`\n",
        "\n",
        "We need this data to perform collaborative filtering. "
      ]
    },
    {
      "cell_type": "code",
      "metadata": {
        "id": "d9ae8hYtYsGa",
        "colab": {
          "base_uri": "https://localhost:8080/",
          "height": 204
        },
        "outputId": "e41b1bad-3767-48b1-e565-6b240560a9ab"
      },
      "source": [
        "# This is the way you load a data file from a URL\n",
        "ratings = pd.read_csv(\"https://s3-us-west-2.amazonaws.com/recommender-tutorial/ratings.csv\")\n",
        "\n",
        "ratings.head()"
      ],
      "execution_count": null,
      "outputs": [
        {
          "output_type": "execute_result",
          "data": {
            "text/html": [
              "<div>\n",
              "<style scoped>\n",
              "    .dataframe tbody tr th:only-of-type {\n",
              "        vertical-align: middle;\n",
              "    }\n",
              "\n",
              "    .dataframe tbody tr th {\n",
              "        vertical-align: top;\n",
              "    }\n",
              "\n",
              "    .dataframe thead th {\n",
              "        text-align: right;\n",
              "    }\n",
              "</style>\n",
              "<table border=\"1\" class=\"dataframe\">\n",
              "  <thead>\n",
              "    <tr style=\"text-align: right;\">\n",
              "      <th></th>\n",
              "      <th>userId</th>\n",
              "      <th>movieId</th>\n",
              "      <th>rating</th>\n",
              "      <th>timestamp</th>\n",
              "    </tr>\n",
              "  </thead>\n",
              "  <tbody>\n",
              "    <tr>\n",
              "      <th>0</th>\n",
              "      <td>1</td>\n",
              "      <td>1</td>\n",
              "      <td>4.0</td>\n",
              "      <td>964982703</td>\n",
              "    </tr>\n",
              "    <tr>\n",
              "      <th>1</th>\n",
              "      <td>1</td>\n",
              "      <td>3</td>\n",
              "      <td>4.0</td>\n",
              "      <td>964981247</td>\n",
              "    </tr>\n",
              "    <tr>\n",
              "      <th>2</th>\n",
              "      <td>1</td>\n",
              "      <td>6</td>\n",
              "      <td>4.0</td>\n",
              "      <td>964982224</td>\n",
              "    </tr>\n",
              "    <tr>\n",
              "      <th>3</th>\n",
              "      <td>1</td>\n",
              "      <td>47</td>\n",
              "      <td>5.0</td>\n",
              "      <td>964983815</td>\n",
              "    </tr>\n",
              "    <tr>\n",
              "      <th>4</th>\n",
              "      <td>1</td>\n",
              "      <td>50</td>\n",
              "      <td>5.0</td>\n",
              "      <td>964982931</td>\n",
              "    </tr>\n",
              "  </tbody>\n",
              "</table>\n",
              "</div>"
            ],
            "text/plain": [
              "   userId  movieId  rating  timestamp\n",
              "0       1        1     4.0  964982703\n",
              "1       1        3     4.0  964981247\n",
              "2       1        6     4.0  964982224\n",
              "3       1       47     5.0  964983815\n",
              "4       1       50     5.0  964982931"
            ]
          },
          "metadata": {
            "tags": []
          },
          "execution_count": 2
        }
      ]
    },
    {
      "cell_type": "markdown",
      "metadata": {
        "id": "I2FnbzyFYsGd"
      },
      "source": [
        "### Movies\n",
        "\n",
        "<p style=\"margin-bottom:0;\">Dataframe contains 3 columns:</p>\n",
        "\n",
        "- `movieId`\n",
        "- `title`\n",
        "- `genres`\n",
        "\n",
        "We need this data to interpret the results of our collaborative filtering recommender.\n",
        "\n"
      ]
    },
    {
      "cell_type": "code",
      "metadata": {
        "id": "_p4v27YfYsGe",
        "colab": {
          "base_uri": "https://localhost:8080/",
          "height": 142
        },
        "outputId": "b48a8dd7-f264-40f2-cc3e-4c8c8eaf3a50"
      },
      "source": [
        "# Again, you should be familiar with this way\n",
        "movies = pd.read_csv(\"https://s3-us-west-2.amazonaws.com/recommender-tutorial/movies.csv\")\n",
        "\n",
        "movies.head(3)"
      ],
      "execution_count": null,
      "outputs": [
        {
          "output_type": "execute_result",
          "data": {
            "text/html": [
              "<div>\n",
              "<style scoped>\n",
              "    .dataframe tbody tr th:only-of-type {\n",
              "        vertical-align: middle;\n",
              "    }\n",
              "\n",
              "    .dataframe tbody tr th {\n",
              "        vertical-align: top;\n",
              "    }\n",
              "\n",
              "    .dataframe thead th {\n",
              "        text-align: right;\n",
              "    }\n",
              "</style>\n",
              "<table border=\"1\" class=\"dataframe\">\n",
              "  <thead>\n",
              "    <tr style=\"text-align: right;\">\n",
              "      <th></th>\n",
              "      <th>movieId</th>\n",
              "      <th>title</th>\n",
              "      <th>genres</th>\n",
              "    </tr>\n",
              "  </thead>\n",
              "  <tbody>\n",
              "    <tr>\n",
              "      <th>0</th>\n",
              "      <td>1</td>\n",
              "      <td>Toy Story (1995)</td>\n",
              "      <td>Adventure|Animation|Children|Comedy|Fantasy</td>\n",
              "    </tr>\n",
              "    <tr>\n",
              "      <th>1</th>\n",
              "      <td>2</td>\n",
              "      <td>Jumanji (1995)</td>\n",
              "      <td>Adventure|Children|Fantasy</td>\n",
              "    </tr>\n",
              "    <tr>\n",
              "      <th>2</th>\n",
              "      <td>3</td>\n",
              "      <td>Grumpier Old Men (1995)</td>\n",
              "      <td>Comedy|Romance</td>\n",
              "    </tr>\n",
              "  </tbody>\n",
              "</table>\n",
              "</div>"
            ],
            "text/plain": [
              "   movieId  ...                                       genres\n",
              "0        1  ...  Adventure|Animation|Children|Comedy|Fantasy\n",
              "1        2  ...                   Adventure|Children|Fantasy\n",
              "2        3  ...                               Comedy|Romance\n",
              "\n",
              "[3 rows x 3 columns]"
            ]
          },
          "metadata": {
            "tags": []
          },
          "execution_count": 3
        }
      ]
    },
    {
      "cell_type": "markdown",
      "metadata": {
        "id": "hj0jUxDLYsGh"
      },
      "source": [
        "# Step 3: Exploratory Data Analysis\n",
        "\n",
        "`Ratings` contains users' ratings for a given movie. Let's see how many ratings, unique movies, and unique users are in our dataset."
      ]
    },
    {
      "cell_type": "code",
      "metadata": {
        "id": "rPSC-a3XYsGi"
      },
      "source": [
        "# Getting the numbers of ratings, movies, and users\n",
        "n_ratings = len(ratings)\n",
        "n_movies = ratings['movieId'].nunique()\n",
        "n_users = ratings['userId'].nunique()"
      ],
      "execution_count": null,
      "outputs": []
    },
    {
      "cell_type": "code",
      "metadata": {
        "id": "R7gpFFmyYsGk",
        "colab": {
          "base_uri": "https://localhost:8080/"
        },
        "outputId": "06c3f02d-30e0-414b-f7bd-d8b882df6f1d"
      },
      "source": [
        "print(\"Number of ratings: {}\".format(n_ratings))\n",
        "print(\"Number of unique movieId's: {}\".format(n_movies))\n",
        "print(\"Number of unique users: {}\".format(n_users))\n",
        "print(\"Average number of ratings per user: {}\".format(round(n_ratings/n_users, 2)))\n",
        "print(\"Average number of ratings per movie: {}\".format(round(n_ratings/n_movies, 2)))"
      ],
      "execution_count": null,
      "outputs": [
        {
          "output_type": "stream",
          "text": [
            "Number of ratings: 100836\n",
            "Number of unique movieId's: 9724\n",
            "Number of unique users: 610\n",
            "Average number of ratings per user: 165.3\n",
            "Average number of ratings per movie: 10.37\n"
          ],
          "name": "stdout"
        }
      ]
    },
    {
      "cell_type": "markdown",
      "metadata": {
        "id": "OlOP-P8CYsGn"
      },
      "source": [
        "What can we learn about the dataset in general?\n",
        "- It appears the dataset contains `100,836` ratings of `9,724` movies. These reviews are rated by 610 different reviewers.\n",
        "- On average, each user provides `165.3` ratings in the dataset.\n",
        "    + if the ratings per user is too __low__, the recommender system will not work very well. This dataset is fine.\n",
        "- On average, each movie receives `10.37` ratings.\n",
        "    + if the ratings per movie is too __low__, the recommender system will not work very well. This dataset is fine."
      ]
    },
    {
      "cell_type": "markdown",
      "metadata": {
        "id": "iikl0RX6YsGn"
      },
      "source": [
        "How many ratings did each user make? Let's use pandas' `groupby()` and `count()` to:\n",
        "\n",
        "1. group the data by `userId's`\n",
        "2. count the number of ratings for each `userId`."
      ]
    },
    {
      "cell_type": "code",
      "metadata": {
        "id": "uNbGYDM2YsGo",
        "colab": {
          "base_uri": "https://localhost:8080/",
          "height": 204
        },
        "outputId": "3589846e-2ce8-4c14-c723-728f1b90eab1"
      },
      "source": [
        "# let's find out the number of rating per user\n",
        "user_freq = ratings[['userId', 'movieId']].groupby('userId').count().reset_index()\n",
        "user_freq.columns = ['userId', 'n_ratings']\n",
        "# who are the top 5 reviewers?\n",
        "user_freq.nlargest(n=5, columns='n_ratings')"
      ],
      "execution_count": null,
      "outputs": [
        {
          "output_type": "execute_result",
          "data": {
            "text/html": [
              "<div>\n",
              "<style scoped>\n",
              "    .dataframe tbody tr th:only-of-type {\n",
              "        vertical-align: middle;\n",
              "    }\n",
              "\n",
              "    .dataframe tbody tr th {\n",
              "        vertical-align: top;\n",
              "    }\n",
              "\n",
              "    .dataframe thead th {\n",
              "        text-align: right;\n",
              "    }\n",
              "</style>\n",
              "<table border=\"1\" class=\"dataframe\">\n",
              "  <thead>\n",
              "    <tr style=\"text-align: right;\">\n",
              "      <th></th>\n",
              "      <th>userId</th>\n",
              "      <th>n_ratings</th>\n",
              "    </tr>\n",
              "  </thead>\n",
              "  <tbody>\n",
              "    <tr>\n",
              "      <th>413</th>\n",
              "      <td>414</td>\n",
              "      <td>2698</td>\n",
              "    </tr>\n",
              "    <tr>\n",
              "      <th>598</th>\n",
              "      <td>599</td>\n",
              "      <td>2478</td>\n",
              "    </tr>\n",
              "    <tr>\n",
              "      <th>473</th>\n",
              "      <td>474</td>\n",
              "      <td>2108</td>\n",
              "    </tr>\n",
              "    <tr>\n",
              "      <th>447</th>\n",
              "      <td>448</td>\n",
              "      <td>1864</td>\n",
              "    </tr>\n",
              "    <tr>\n",
              "      <th>273</th>\n",
              "      <td>274</td>\n",
              "      <td>1346</td>\n",
              "    </tr>\n",
              "  </tbody>\n",
              "</table>\n",
              "</div>"
            ],
            "text/plain": [
              "     userId  n_ratings\n",
              "413     414       2698\n",
              "598     599       2478\n",
              "473     474       2108\n",
              "447     448       1864\n",
              "273     274       1346"
            ]
          },
          "metadata": {
            "tags": []
          },
          "execution_count": 6
        }
      ]
    },
    {
      "cell_type": "code",
      "metadata": {
        "id": "3XGQ3GfTYsGr",
        "colab": {
          "base_uri": "https://localhost:8080/"
        },
        "outputId": "5799970d-d1e6-4a27-f62d-d3e1e6b37699"
      },
      "source": [
        "mean_n_ratings = user_freq['n_ratings'].std()\n",
        "print(\"Standard deviation of the number of ratings for a given user: {}.\".format(round(mean_n_ratings, 2)))"
      ],
      "execution_count": null,
      "outputs": [
        {
          "output_type": "stream",
          "text": [
            "Standard deviation of the number of ratings for a given user: 269.48.\n"
          ],
          "name": "stdout"
        }
      ]
    },
    {
      "cell_type": "markdown",
      "metadata": {
        "id": "gFSM5qUkYsGt"
      },
      "source": [
        "Let's visualize the distribution of movie ratings in this dataset, and distribution of user rating frequency. We can do this using a Python package called [seaborn](https://seaborn.pydata.org/)."
      ]
    },
    {
      "cell_type": "code",
      "metadata": {
        "id": "vyWabMfmYsGu",
        "colab": {
          "base_uri": "https://localhost:8080/",
          "height": 241
        },
        "outputId": "dd99313d-803d-4c6e-e75b-6db85dbec9fc"
      },
      "source": [
        "sns.set_style(\"darkgrid\")\n",
        "plt.figure(figsize=(14,3))\n",
        "\n",
        "# PLOT 1 - distribution of ratings\n",
        "plt.subplot(1,2,1)\n",
        "ax = sns.countplot(x=\"rating\", data=ratings, palette=\"viridis\")\n",
        "ax.set(title=\"Distribution of movie ratings\")\n",
        "\n",
        "# PLOT 2 - distribution of numbers of ratings\n",
        "plt.subplot(1,2,2)\n",
        "ax = sns.kdeplot(user_freq['n_ratings'], shade=True, legend=False)\n",
        "ax.set(title=\"Number of movies rated per user\", xlabel=\"# ratings per user\", ylabel=\"density\")\n",
        "plt.axvline(user_freq['n_ratings'].mean(), color=\"k\", linestyle=\"--\")\n",
        "plt.show()"
      ],
      "execution_count": null,
      "outputs": [
        {
          "output_type": "display_data",
          "data": {
            "image/png": "[encoded data removed]",
            "text/plain": [
              "<Figure size 1008x216 with 2 Axes>"
            ]
          },
          "metadata": {
            "tags": []
          }
        }
      ]
    },
    {
      "cell_type": "markdown",
      "metadata": {
        "id": "3nTRY9KsYsGw"
      },
      "source": [
        "### What are the highest and lowest rated movies? \n",
        "\n",
        "To find the \"best\" and \"worst\" movies, we need to calculate the mean rating for each movie in our dataset. We can do this by grouping by `movieId` and calculating the mean of the `rating` column."
      ]
    },
    {
      "cell_type": "code",
      "metadata": {
        "id": "H4slt_mFYsGx",
        "colab": {
          "base_uri": "https://localhost:8080/",
          "height": 235
        },
        "outputId": "8998a8f0-3cb8-4b6e-f8cb-1dd708580250"
      },
      "source": [
        "# average rating per user\n",
        "mean_rating = ratings.groupby('movieId')[['rating']].mean()\n",
        "mean_rating.head()"
      ],
      "execution_count": null,
      "outputs": [
        {
          "output_type": "execute_result",
          "data": {
            "text/html": [
              "<div>\n",
              "<style scoped>\n",
              "    .dataframe tbody tr th:only-of-type {\n",
              "        vertical-align: middle;\n",
              "    }\n",
              "\n",
              "    .dataframe tbody tr th {\n",
              "        vertical-align: top;\n",
              "    }\n",
              "\n",
              "    .dataframe thead th {\n",
              "        text-align: right;\n",
              "    }\n",
              "</style>\n",
              "<table border=\"1\" class=\"dataframe\">\n",
              "  <thead>\n",
              "    <tr style=\"text-align: right;\">\n",
              "      <th></th>\n",
              "      <th>rating</th>\n",
              "    </tr>\n",
              "    <tr>\n",
              "      <th>movieId</th>\n",
              "      <th></th>\n",
              "    </tr>\n",
              "  </thead>\n",
              "  <tbody>\n",
              "    <tr>\n",
              "      <th>1</th>\n",
              "      <td>3.920930</td>\n",
              "    </tr>\n",
              "    <tr>\n",
              "      <th>2</th>\n",
              "      <td>3.431818</td>\n",
              "    </tr>\n",
              "    <tr>\n",
              "      <th>3</th>\n",
              "      <td>3.259615</td>\n",
              "    </tr>\n",
              "    <tr>\n",
              "      <th>4</th>\n",
              "      <td>2.357143</td>\n",
              "    </tr>\n",
              "    <tr>\n",
              "      <th>5</th>\n",
              "      <td>3.071429</td>\n",
              "    </tr>\n",
              "  </tbody>\n",
              "</table>\n",
              "</div>"
            ],
            "text/plain": [
              "           rating\n",
              "movieId          \n",
              "1        3.920930\n",
              "2        3.431818\n",
              "3        3.259615\n",
              "4        2.357143\n",
              "5        3.071429"
            ]
          },
          "metadata": {
            "tags": []
          },
          "execution_count": 9
        }
      ]
    },
    {
      "cell_type": "markdown",
      "metadata": {
        "id": "_KV9h-zTYsGz"
      },
      "source": [
        "### What are the highest and lowest rated movies? "
      ]
    },
    {
      "cell_type": "code",
      "metadata": {
        "id": "xdgZhxHYYsG0",
        "colab": {
          "base_uri": "https://localhost:8080/",
          "height": 80
        },
        "outputId": "5e37d667-a656-41ce-d217-76c68b7762d6"
      },
      "source": [
        "lowest_rated = mean_rating['rating'].idxmin()\n",
        "movies.loc[movies['movieId'] == lowest_rated]"
      ],
      "execution_count": null,
      "outputs": [
        {
          "output_type": "execute_result",
          "data": {
            "text/html": [
              "<div>\n",
              "<style scoped>\n",
              "    .dataframe tbody tr th:only-of-type {\n",
              "        vertical-align: middle;\n",
              "    }\n",
              "\n",
              "    .dataframe tbody tr th {\n",
              "        vertical-align: top;\n",
              "    }\n",
              "\n",
              "    .dataframe thead th {\n",
              "        text-align: right;\n",
              "    }\n",
              "</style>\n",
              "<table border=\"1\" class=\"dataframe\">\n",
              "  <thead>\n",
              "    <tr style=\"text-align: right;\">\n",
              "      <th></th>\n",
              "      <th>movieId</th>\n",
              "      <th>title</th>\n",
              "      <th>genres</th>\n",
              "    </tr>\n",
              "  </thead>\n",
              "  <tbody>\n",
              "    <tr>\n",
              "      <th>2689</th>\n",
              "      <td>3604</td>\n",
              "      <td>Gypsy (1962)</td>\n",
              "      <td>Musical</td>\n",
              "    </tr>\n",
              "  </tbody>\n",
              "</table>\n",
              "</div>"
            ],
            "text/plain": [
              "      movieId         title   genres\n",
              "2689     3604  Gypsy (1962)  Musical"
            ]
          },
          "metadata": {
            "tags": []
          },
          "execution_count": 10
        }
      ]
    },
    {
      "cell_type": "code",
      "metadata": {
        "id": "NNeK_i3_YsG3",
        "colab": {
          "base_uri": "https://localhost:8080/",
          "height": 80
        },
        "outputId": "a34c4f0e-d5fa-4e81-b5f5-7238f639458f"
      },
      "source": [
        "highest_rated = mean_rating['rating'].idxmax()\n",
        "movies.loc[movies['movieId'] == highest_rated]"
      ],
      "execution_count": null,
      "outputs": [
        {
          "output_type": "execute_result",
          "data": {
            "text/html": [
              "<div>\n",
              "<style scoped>\n",
              "    .dataframe tbody tr th:only-of-type {\n",
              "        vertical-align: middle;\n",
              "    }\n",
              "\n",
              "    .dataframe tbody tr th {\n",
              "        vertical-align: top;\n",
              "    }\n",
              "\n",
              "    .dataframe thead th {\n",
              "        text-align: right;\n",
              "    }\n",
              "</style>\n",
              "<table border=\"1\" class=\"dataframe\">\n",
              "  <thead>\n",
              "    <tr style=\"text-align: right;\">\n",
              "      <th></th>\n",
              "      <th>movieId</th>\n",
              "      <th>title</th>\n",
              "      <th>genres</th>\n",
              "    </tr>\n",
              "  </thead>\n",
              "  <tbody>\n",
              "    <tr>\n",
              "      <th>48</th>\n",
              "      <td>53</td>\n",
              "      <td>Lamerica (1994)</td>\n",
              "      <td>Adventure|Drama</td>\n",
              "    </tr>\n",
              "  </tbody>\n",
              "</table>\n",
              "</div>"
            ],
            "text/plain": [
              "    movieId            title           genres\n",
              "48       53  Lamerica (1994)  Adventure|Drama"
            ]
          },
          "metadata": {
            "tags": []
          },
          "execution_count": 11
        }
      ]
    },
    {
      "cell_type": "markdown",
      "metadata": {
        "id": "j_8VPppTYsG6"
      },
      "source": [
        "<img src=\"images/lamerica.png\" align=\"right\" width=\"15%\"/>\n",
        "\n",
        "### The highest rated movie is Lamerica?!\n",
        "\n",
        "I'm sure that this movie is great but it doesn't sound like a familiar blockbuster. Let's dig deeper and see who rated this movie. "
      ]
    },
    {
      "cell_type": "code",
      "metadata": {
        "id": "StJgcb9AYsG6",
        "colab": {
          "base_uri": "https://localhost:8080/",
          "height": 111
        },
        "outputId": "e908c07e-18b8-47fe-d70c-3bcf5cf2d1be"
      },
      "source": [
        "# why Lamerica is the highest rating movie?\n",
        "ratings.loc[ratings['movieId']==highest_rated]"
      ],
      "execution_count": null,
      "outputs": [
        {
          "output_type": "execute_result",
          "data": {
            "text/html": [
              "<div>\n",
              "<style scoped>\n",
              "    .dataframe tbody tr th:only-of-type {\n",
              "        vertical-align: middle;\n",
              "    }\n",
              "\n",
              "    .dataframe tbody tr th {\n",
              "        vertical-align: top;\n",
              "    }\n",
              "\n",
              "    .dataframe thead th {\n",
              "        text-align: right;\n",
              "    }\n",
              "</style>\n",
              "<table border=\"1\" class=\"dataframe\">\n",
              "  <thead>\n",
              "    <tr style=\"text-align: right;\">\n",
              "      <th></th>\n",
              "      <th>userId</th>\n",
              "      <th>movieId</th>\n",
              "      <th>rating</th>\n",
              "      <th>timestamp</th>\n",
              "    </tr>\n",
              "  </thead>\n",
              "  <tbody>\n",
              "    <tr>\n",
              "      <th>13368</th>\n",
              "      <td>85</td>\n",
              "      <td>53</td>\n",
              "      <td>5.0</td>\n",
              "      <td>889468268</td>\n",
              "    </tr>\n",
              "    <tr>\n",
              "      <th>96115</th>\n",
              "      <td>603</td>\n",
              "      <td>53</td>\n",
              "      <td>5.0</td>\n",
              "      <td>963180003</td>\n",
              "    </tr>\n",
              "  </tbody>\n",
              "</table>\n",
              "</div>"
            ],
            "text/plain": [
              "       userId  movieId  rating  timestamp\n",
              "13368      85       53     5.0  889468268\n",
              "96115     603       53     5.0  963180003"
            ]
          },
          "metadata": {
            "tags": []
          },
          "execution_count": 12
        }
      ]
    },
    {
      "cell_type": "markdown",
      "metadata": {
        "id": "YaBeKhxRYsG8"
      },
      "source": [
        "While Lamerica may have the \"highest\" average rating, it only received 2 ratings. This isn't a good measure of a movie's popularity. The quality of a movie's rating depends not only on the average rating but also on the number of ratings. "
      ]
    },
    {
      "cell_type": "markdown",
      "metadata": {
        "id": "3c0gfSkvYsG9"
      },
      "source": [
        "## Simple Recommenders\n",
        "\n",
        "As described in the previous section, simple recommenders are basic systems that recommends the top items based on a certain metric or score. In this section, you will build a simplified clone of IMDB Top 250 Movies using metadata collected from IMDB.\n",
        "\n",
        "The following are the steps involved:\n",
        "\n",
        "- Decide on the metric or score to rate movies on.\n",
        "- Calculate the score for every movie.\n",
        "- Sort the movies based on the score and output the top results.\n",
        "\n",
        "Before you perform any of the above steps, load your movies metadata dataset into a pandas DataFrame:"
      ]
    },
    {
      "cell_type": "markdown",
      "metadata": {
        "id": "EHGAQvvLYsG9"
      },
      "source": [
        "One of the most basic metrics you can think of is the **rating**. However, using this metric has a few *caveats*. For one, it does not take into consideration the **popularity** (which is very important) of a movie. Therefore, a movie with a rating of `9` from `10` voters will be considered `'better'` than a movie with a rating of `8.9` from `10,000` voters.\n",
        "\n",
        "On a related note, this metric will also tend to favor movies with smaller number of voters with skewed and/or extremely high ratings. As the number of voters increase, the rating of a movie *regularizes* and approaches towards a value that is reflective of the movie's quality. It is more difficult to discern the quality of a movie with **extremely** few voters.\n",
        "\n",
        "Taking these shortcomings into consideration, it is necessary that you come up with a **weighted rating** that takes into account the average rating and the number of votes it has garnered. Such a system will make sure that a movie with a `9` rating from `100,000` voters gets a (far) **higher** score than a YouTube Web Series with the same rating but a few hundred voters.\n"
      ]
    },
    {
      "cell_type": "markdown",
      "metadata": {
        "id": "9vgTg91uYsG-"
      },
      "source": [
        "What you need to determine is an appropriate value for $m$, the minimum votes required to be listed in the chart. There is no right value for $m$. You can view it as a ***preliminary negative filter that ignores movies which have less than a certain number of votes***. The selectivity of your filter is up to your discretion (usually done in trial and error).\n",
        "\n",
        "In this case, you will use the `90th` percentile as your cutoff. In other words, for a movie to feature in the charts, it must have more votes than at least `90%` of the movies in the list. (On the other hand, if you had chosen the `75th` percentile, you would have considered the top `25%` of the movies in terms of the number of votes garnered. As the percentile decreases, the number of movies considered increases. Feel free to play with this value and observe the changes in your final chart).\n",
        "\n",
        "As a first step, let's calculate the value of $r$, the mean rating across all movies:"
      ]
    },
    {
      "cell_type": "code",
      "metadata": {
        "id": "qRrIMlzSYsG-",
        "colab": {
          "base_uri": "https://localhost:8080/"
        },
        "outputId": "eccf82a9-47f9-4bab-bea2-e9a4c50c5217"
      },
      "source": [
        "# We should also utilize the mean of all the ratings in the dataset as `r`\n",
        "r = mean_rating.mean() # r == 3.26\n",
        "r"
      ],
      "execution_count": null,
      "outputs": [
        {
          "output_type": "execute_result",
          "data": {
            "text/plain": [
              "rating    3.262448\n",
              "dtype: float64"
            ]
          },
          "metadata": {
            "tags": []
          },
          "execution_count": 13
        }
      ]
    },
    {
      "cell_type": "markdown",
      "metadata": {
        "id": "-ydJSDc4YsHB"
      },
      "source": [
        "The average rating of a movie in this dataset is around `3.26`, on a scale of `5`.\n",
        "\n",
        "Next, let's calculate the number of votes, $n$, assuming we want movies received ratings in the `90th` quantile. `Pandas` makes this task extremely trivial using the `.quantile()` method of a pandas Series:"
      ]
    },
    {
      "cell_type": "code",
      "metadata": {
        "id": "A0yNbIutYsHB",
        "colab": {
          "base_uri": "https://localhost:8080/"
        },
        "outputId": "4c473aed-e00a-4f45-871a-d955d3f13fcb"
      },
      "source": [
        "# Calculate the minimum number of votes required to be considered, `n`\n",
        "# in this case, we want movies that received ratings in the top 10%\n",
        "# getting the counts of ratings for each movie\n",
        "rating_cnts = ratings['movieId'].value_counts()\n",
        "n = rating_cnts.quantile(0.90)\n",
        "n"
      ],
      "execution_count": null,
      "outputs": [
        {
          "output_type": "execute_result",
          "data": {
            "text/plain": [
              "27.0"
            ]
          },
          "metadata": {
            "tags": []
          },
          "execution_count": 14
        }
      ]
    },
    {
      "cell_type": "markdown",
      "metadata": {
        "id": "5BSrEcA9YsHE"
      },
      "source": [
        "Next, you can filter the movies that qualify for the chart, based on their vote counts:"
      ]
    },
    {
      "cell_type": "code",
      "metadata": {
        "id": "VP2N_fyRYsHF",
        "colab": {
          "base_uri": "https://localhost:8080/"
        },
        "outputId": "ab8c379d-e2c0-48af-bd56-1272ac33373c"
      },
      "source": [
        "# getting the qualified movie IDs\n",
        "q_movieIds = rating_cnts[rating_cnts >= n].index\n",
        "q_movieIds"
      ],
      "execution_count": null,
      "outputs": [
        {
          "output_type": "execute_result",
          "data": {
            "text/plain": [
              "Int64Index([  356,   318,   296,   593,  2571,   260,   480,   110,   589,\n",
              "              527,\n",
              "            ...\n",
              "             3072,  1179,  2232,  2109,  4901,  1347,   922,  1293,  4700,\n",
              "            94864],\n",
              "           dtype='int64', length=976)"
            ]
          },
          "metadata": {
            "tags": []
          },
          "execution_count": 15
        }
      ]
    },
    {
      "cell_type": "code",
      "metadata": {
        "id": "3EP1I7uqYsHH",
        "colab": {
          "base_uri": "https://localhost:8080/"
        },
        "outputId": "70733f5b-b96a-4bd7-ed18-950b91a26b73"
      },
      "source": [
        "q_movies = movies.loc[movies['movieId'].isin(q_movieIds)]\n",
        "q_movies.shape"
      ],
      "execution_count": null,
      "outputs": [
        {
          "output_type": "execute_result",
          "data": {
            "text/plain": [
              "(976, 3)"
            ]
          },
          "metadata": {
            "tags": []
          },
          "execution_count": 16
        }
      ]
    },
    {
      "cell_type": "markdown",
      "metadata": {
        "id": "_AaGXTFmYsHJ"
      },
      "source": [
        "## YOUR TURN HERE\n",
        "\n",
        "Answer this question: how many movie have reviews more than 90% of the movies in the dataset?"
      ]
    },
    {
      "cell_type": "markdown",
      "metadata": {
        "id": "-RXY1OCgYsHK"
      },
      "source": [
        "# Bayesian Average\n",
        "\n",
        "- A weighted average that accounts for how many ratings there are \n",
        "- Useful when there isn't much data available\n",
        "- Used extensively in baseball statistics (i.e., batting average)\n",
        "- Calculate with the following equation:\n",
        "\n",
        "$$r_{i} = \\frac{C \\times m + \\Sigma{\\text{ratings}}}{C+N} $$\n",
        "\n",
        "<p style=\"margin-bottom:0;\">where:</p> \n",
        "\n",
        "- $C$ = our confidence (average number of ratings for a given movie)\n",
        "- $m$ = our prior (global average rating)\n",
        "- $N$ = total number of ratings for movie $i$"
      ]
    },
    {
      "cell_type": "markdown",
      "metadata": {
        "id": "MtvenPrJYsHK"
      },
      "source": [
        "We first need to get the `count` and `mean` for each movie in our dataset. We can do this with a sophisticated `groupby` that applies both `mean` and `count` using the `agg` method."
      ]
    },
    {
      "cell_type": "code",
      "metadata": {
        "id": "LbS6qM7JYsHL",
        "colab": {
          "base_uri": "https://localhost:8080/",
          "height": 235
        },
        "outputId": "7a29dce6-8b39-48b5-80cc-7314b8833212"
      },
      "source": [
        "# we need the count and average of the ratings on every movie\n",
        "movie_stats = ratings.groupby('movieId')[['rating']].agg(['count', 'mean'])\n",
        "movie_stats.columns = movie_stats.columns.droplevel()\n",
        "movie_stats.head()"
      ],
      "execution_count": null,
      "outputs": [
        {
          "output_type": "execute_result",
          "data": {
            "text/html": [
              "<div>\n",
              "<style scoped>\n",
              "    .dataframe tbody tr th:only-of-type {\n",
              "        vertical-align: middle;\n",
              "    }\n",
              "\n",
              "    .dataframe tbody tr th {\n",
              "        vertical-align: top;\n",
              "    }\n",
              "\n",
              "    .dataframe thead th {\n",
              "        text-align: right;\n",
              "    }\n",
              "</style>\n",
              "<table border=\"1\" class=\"dataframe\">\n",
              "  <thead>\n",
              "    <tr style=\"text-align: right;\">\n",
              "      <th></th>\n",
              "      <th>count</th>\n",
              "      <th>mean</th>\n",
              "    </tr>\n",
              "    <tr>\n",
              "      <th>movieId</th>\n",
              "      <th></th>\n",
              "      <th></th>\n",
              "    </tr>\n",
              "  </thead>\n",
              "  <tbody>\n",
              "    <tr>\n",
              "      <th>1</th>\n",
              "      <td>215</td>\n",
              "      <td>3.920930</td>\n",
              "    </tr>\n",
              "    <tr>\n",
              "      <th>2</th>\n",
              "      <td>110</td>\n",
              "      <td>3.431818</td>\n",
              "    </tr>\n",
              "    <tr>\n",
              "      <th>3</th>\n",
              "      <td>52</td>\n",
              "      <td>3.259615</td>\n",
              "    </tr>\n",
              "    <tr>\n",
              "      <th>4</th>\n",
              "      <td>7</td>\n",
              "      <td>2.357143</td>\n",
              "    </tr>\n",
              "    <tr>\n",
              "      <th>5</th>\n",
              "      <td>49</td>\n",
              "      <td>3.071429</td>\n",
              "    </tr>\n",
              "  </tbody>\n",
              "</table>\n",
              "</div>"
            ],
            "text/plain": [
              "         count      mean\n",
              "movieId                 \n",
              "1          215  3.920930\n",
              "2          110  3.431818\n",
              "3           52  3.259615\n",
              "4            7  2.357143\n",
              "5           49  3.071429"
            ]
          },
          "metadata": {
            "tags": []
          },
          "execution_count": 17
        }
      ]
    },
    {
      "cell_type": "markdown",
      "metadata": {
        "id": "hkXGAJtmYsHN"
      },
      "source": [
        "Let's calculate the Bayesian average. We first write a function that computes the Bayesian average for a given movie."
      ]
    },
    {
      "cell_type": "code",
      "metadata": {
        "id": "tvh-eDM8YsHO"
      },
      "source": [
        "# now we need the average count of the ratings\n",
        "C = movie_stats['count'].mean() # c == 165.3\n",
        "# and the average rating of all movies\n",
        "m = movie_stats['mean'].mean()\n",
        "\n",
        "def bayesian_avg(ratings_i):\n",
        "    bayesian_avg = (C*m+ratings_i.sum())/(C+ratings_i.count())\n",
        "    return bayesian_avg"
      ],
      "execution_count": null,
      "outputs": []
    },
    {
      "cell_type": "markdown",
      "metadata": {
        "id": "F81ybYruYsHQ"
      },
      "source": [
        "We can apply `bayesian_avg` to our entire ratings dataset using the `agg` method. "
      ]
    },
    {
      "cell_type": "code",
      "metadata": {
        "id": "l-C1-GK4YsHR",
        "colab": {
          "base_uri": "https://localhost:8080/",
          "height": 204
        },
        "outputId": "7c451a1f-abfa-4f15-8612-a98ae5af2e02"
      },
      "source": [
        "bayesian_avg_ratings = ratings.groupby('movieId')['rating'].agg(bayesian_avg).reset_index()\n",
        "bayesian_avg_ratings.columns = ['movieId', 'bayesian_avg']\n",
        "bayesian_avg_ratings.head()"
      ],
      "execution_count": null,
      "outputs": [
        {
          "output_type": "execute_result",
          "data": {
            "text/html": [
              "<div>\n",
              "<style scoped>\n",
              "    .dataframe tbody tr th:only-of-type {\n",
              "        vertical-align: middle;\n",
              "    }\n",
              "\n",
              "    .dataframe tbody tr th {\n",
              "        vertical-align: top;\n",
              "    }\n",
              "\n",
              "    .dataframe thead th {\n",
              "        text-align: right;\n",
              "    }\n",
              "</style>\n",
              "<table border=\"1\" class=\"dataframe\">\n",
              "  <thead>\n",
              "    <tr style=\"text-align: right;\">\n",
              "      <th></th>\n",
              "      <th>movieId</th>\n",
              "      <th>bayesian_avg</th>\n",
              "    </tr>\n",
              "  </thead>\n",
              "  <tbody>\n",
              "    <tr>\n",
              "      <th>0</th>\n",
              "      <td>1</td>\n",
              "      <td>3.890632</td>\n",
              "    </tr>\n",
              "    <tr>\n",
              "      <th>1</th>\n",
              "      <td>2</td>\n",
              "      <td>3.417227</td>\n",
              "    </tr>\n",
              "    <tr>\n",
              "      <th>2</th>\n",
              "      <td>3</td>\n",
              "      <td>3.260086</td>\n",
              "    </tr>\n",
              "    <tr>\n",
              "      <th>3</th>\n",
              "      <td>4</td>\n",
              "      <td>2.897612</td>\n",
              "    </tr>\n",
              "    <tr>\n",
              "      <th>4</th>\n",
              "      <td>5</td>\n",
              "      <td>3.104793</td>\n",
              "    </tr>\n",
              "  </tbody>\n",
              "</table>\n",
              "</div>"
            ],
            "text/plain": [
              "   movieId  bayesian_avg\n",
              "0        1      3.890632\n",
              "1        2      3.417227\n",
              "2        3      3.260086\n",
              "3        4      2.897612\n",
              "4        5      3.104793"
            ]
          },
          "metadata": {
            "tags": []
          },
          "execution_count": 19
        }
      ]
    },
    {
      "cell_type": "markdown",
      "metadata": {
        "id": "oybaeQErYsHU"
      },
      "source": [
        "Which movies have the highest Bayesian average rating? "
      ]
    },
    {
      "cell_type": "code",
      "metadata": {
        "id": "yr1ZgbCjYsHU",
        "colab": {
          "base_uri": "https://localhost:8080/",
          "height": 204
        },
        "outputId": "442d527f-c498-4ca6-8cdf-098eccfaa210"
      },
      "source": [
        "movie_stats = movie_stats.merge(bayesian_avg_ratings, on='movieId')\n",
        "movie_stats = movie_stats.merge(movies[['movieId', 'title']])\n",
        "movie_stats.sort_values('bayesian_avg', ascending=False).head()"
      ],
      "execution_count": null,
      "outputs": [
        {
          "output_type": "execute_result",
          "data": {
            "text/html": [
              "<div>\n",
              "<style scoped>\n",
              "    .dataframe tbody tr th:only-of-type {\n",
              "        vertical-align: middle;\n",
              "    }\n",
              "\n",
              "    .dataframe tbody tr th {\n",
              "        vertical-align: top;\n",
              "    }\n",
              "\n",
              "    .dataframe thead th {\n",
              "        text-align: right;\n",
              "    }\n",
              "</style>\n",
              "<table border=\"1\" class=\"dataframe\">\n",
              "  <thead>\n",
              "    <tr style=\"text-align: right;\">\n",
              "      <th></th>\n",
              "      <th>movieId</th>\n",
              "      <th>count</th>\n",
              "      <th>mean</th>\n",
              "      <th>bayesian_avg</th>\n",
              "      <th>title</th>\n",
              "    </tr>\n",
              "  </thead>\n",
              "  <tbody>\n",
              "    <tr>\n",
              "      <th>277</th>\n",
              "      <td>318</td>\n",
              "      <td>317</td>\n",
              "      <td>4.429022</td>\n",
              "      <td>4.392070</td>\n",
              "      <td>Shawshank Redemption, The (1994)</td>\n",
              "    </tr>\n",
              "    <tr>\n",
              "      <th>659</th>\n",
              "      <td>858</td>\n",
              "      <td>192</td>\n",
              "      <td>4.289062</td>\n",
              "      <td>4.236457</td>\n",
              "      <td>Godfather, The (1972)</td>\n",
              "    </tr>\n",
              "    <tr>\n",
              "      <th>2224</th>\n",
              "      <td>2959</td>\n",
              "      <td>218</td>\n",
              "      <td>4.272936</td>\n",
              "      <td>4.227052</td>\n",
              "      <td>Fight Club (1999)</td>\n",
              "    </tr>\n",
              "    <tr>\n",
              "      <th>224</th>\n",
              "      <td>260</td>\n",
              "      <td>251</td>\n",
              "      <td>4.231076</td>\n",
              "      <td>4.192646</td>\n",
              "      <td>Star Wars: Episode IV - A New Hope (1977)</td>\n",
              "    </tr>\n",
              "    <tr>\n",
              "      <th>46</th>\n",
              "      <td>50</td>\n",
              "      <td>204</td>\n",
              "      <td>4.237745</td>\n",
              "      <td>4.190567</td>\n",
              "      <td>Usual Suspects, The (1995)</td>\n",
              "    </tr>\n",
              "  </tbody>\n",
              "</table>\n",
              "</div>"
            ],
            "text/plain": [
              "      movieId  count  ...  bayesian_avg                                      title\n",
              "277       318    317  ...      4.392070           Shawshank Redemption, The (1994)\n",
              "659       858    192  ...      4.236457                      Godfather, The (1972)\n",
              "2224     2959    218  ...      4.227052                          Fight Club (1999)\n",
              "224       260    251  ...      4.192646  Star Wars: Episode IV - A New Hope (1977)\n",
              "46         50    204  ...      4.190567                 Usual Suspects, The (1995)\n",
              "\n",
              "[5 rows x 5 columns]"
            ]
          },
          "metadata": {
            "tags": []
          },
          "execution_count": 20
        }
      ]
    },
    {
      "cell_type": "markdown",
      "metadata": {
        "id": "ta678GylYsHW"
      },
      "source": [
        "Using Bayesian averages, we can see that Lamerica is no longer the top movie. "
      ]
    },
    {
      "cell_type": "markdown",
      "metadata": {
        "id": "bIFVPFt8YsHX"
      },
      "source": [
        "Which movies have the lowest Bayesian average rating?"
      ]
    },
    {
      "cell_type": "code",
      "metadata": {
        "id": "C4ATPfmQYsHX",
        "colab": {
          "base_uri": "https://localhost:8080/",
          "height": 204
        },
        "outputId": "1c9440cc-17c6-4116-84d3-86fb1e8cd1c4"
      },
      "source": [
        "movie_stats.sort_values('bayesian_avg', ascending=True).head()"
      ],
      "execution_count": null,
      "outputs": [
        {
          "output_type": "execute_result",
          "data": {
            "text/html": [
              "<div>\n",
              "<style scoped>\n",
              "    .dataframe tbody tr th:only-of-type {\n",
              "        vertical-align: middle;\n",
              "    }\n",
              "\n",
              "    .dataframe tbody tr th {\n",
              "        vertical-align: top;\n",
              "    }\n",
              "\n",
              "    .dataframe thead th {\n",
              "        text-align: right;\n",
              "    }\n",
              "</style>\n",
              "<table border=\"1\" class=\"dataframe\">\n",
              "  <thead>\n",
              "    <tr style=\"text-align: right;\">\n",
              "      <th></th>\n",
              "      <th>movieId</th>\n",
              "      <th>count</th>\n",
              "      <th>mean</th>\n",
              "      <th>bayesian_avg</th>\n",
              "      <th>title</th>\n",
              "    </tr>\n",
              "  </thead>\n",
              "  <tbody>\n",
              "    <tr>\n",
              "      <th>1172</th>\n",
              "      <td>1556</td>\n",
              "      <td>19</td>\n",
              "      <td>1.605263</td>\n",
              "      <td>2.190377</td>\n",
              "      <td>Speed 2: Cruise Control (1997)</td>\n",
              "    </tr>\n",
              "    <tr>\n",
              "      <th>2679</th>\n",
              "      <td>3593</td>\n",
              "      <td>19</td>\n",
              "      <td>1.657895</td>\n",
              "      <td>2.224426</td>\n",
              "      <td>Battlefield Earth (2000)</td>\n",
              "    </tr>\n",
              "    <tr>\n",
              "      <th>1372</th>\n",
              "      <td>1882</td>\n",
              "      <td>33</td>\n",
              "      <td>1.954545</td>\n",
              "      <td>2.267268</td>\n",
              "      <td>Godzilla (1998)</td>\n",
              "    </tr>\n",
              "    <tr>\n",
              "      <th>1144</th>\n",
              "      <td>1499</td>\n",
              "      <td>27</td>\n",
              "      <td>1.925926</td>\n",
              "      <td>2.296800</td>\n",
              "      <td>Anaconda (1997)</td>\n",
              "    </tr>\n",
              "    <tr>\n",
              "      <th>1988</th>\n",
              "      <td>2643</td>\n",
              "      <td>16</td>\n",
              "      <td>1.687500</td>\n",
              "      <td>2.306841</td>\n",
              "      <td>Superman IV: The Quest for Peace (1987)</td>\n",
              "    </tr>\n",
              "  </tbody>\n",
              "</table>\n",
              "</div>"
            ],
            "text/plain": [
              "      movieId  count  ...  bayesian_avg                                    title\n",
              "1172     1556     19  ...      2.190377           Speed 2: Cruise Control (1997)\n",
              "2679     3593     19  ...      2.224426                 Battlefield Earth (2000)\n",
              "1372     1882     33  ...      2.267268                          Godzilla (1998)\n",
              "1144     1499     27  ...      2.296800                          Anaconda (1997)\n",
              "1988     2643     16  ...      2.306841  Superman IV: The Quest for Peace (1987)\n",
              "\n",
              "[5 rows x 5 columns]"
            ]
          },
          "metadata": {
            "tags": []
          },
          "execution_count": 21
        }
      ]
    },
    {
      "cell_type": "markdown",
      "metadata": {
        "id": "srq3JSW0YsHZ"
      },
      "source": [
        "# Do it yourself"
      ]
    },
    {
      "cell_type": "code",
      "metadata": {
        "id": "wIDlNTBmYsHa"
      },
      "source": [
        "# How about the top 5 movies by bayesian average?\n"
      ],
      "execution_count": null,
      "outputs": []
    },
    {
      "cell_type": "markdown",
      "metadata": {
        "id": "TOMlyLVkYsHd"
      },
      "source": [
        "# Step 4: Transforming the Data\n",
        "\n",
        "- Need to transform data into user-item matrix for collaborative filtering \n",
        "- [scipy.sparse_matrix](https://docs.scipy.org/doc/scipy/reference/sparse.html): columns are movies and rows are users\n",
        "- Each cell is populated with a user's rating towards a movie\n",
        "- Empty cell = no rating available\n",
        "\n",
        "<img src=\"https://raw.githubusercontent.com/fairfield-university-ba545/week5/master/images/utility-matrix.png\" width=70%/>"
      ]
    },
    {
      "cell_type": "code",
      "metadata": {
        "id": "ZIspw4DDYsHd"
      },
      "source": [
        "from scipy.sparse import csr_matrix\n",
        "\n",
        "def create_X(df):\n",
        "    \"\"\"\n",
        "    Generates a sparse matrix from the ratings dataframe.\n",
        "    \n",
        "    Args:\n",
        "        df: ratings dataframe\n",
        "    \n",
        "    Returns:\n",
        "        X: sparse matrix\n",
        "        user_mapper: dict that maps user id's to user indices\n",
        "        user_inv_mapper: dict that maps user indices to user id's\n",
        "        movie_mapper: dict that maps movie id's to movie indices\n",
        "        movie_inv_mapper: dict that maps movie indices to movie id's\n",
        "    \"\"\"\n",
        "    N = df['userId'].nunique()\n",
        "    M = df['movieId'].nunique()\n",
        "\n",
        "    user_mapper = dict(zip(np.unique(df[\"userId\"]), list(range(N))))\n",
        "    movie_mapper = dict(zip(np.unique(df[\"movieId\"]), list(range(M))))\n",
        "    user_inv_mapper = dict(zip(list(range(N)), np.unique(df[\"userId\"])))\n",
        "    movie_inv_mapper = dict(zip(list(range(M)), np.unique(df[\"movieId\"])))\n",
        "    \n",
        "    user_index = [user_mapper[i] for i in df['userId']]\n",
        "    movie_index = [movie_mapper[i] for i in df['movieId']]\n",
        "\n",
        "    X = csr_matrix((df[\"rating\"], (movie_index, user_index)), shape=(M, N))\n",
        "    \n",
        "    return X, user_mapper, movie_mapper, user_inv_mapper, movie_inv_mapper"
      ],
      "execution_count": null,
      "outputs": []
    },
    {
      "cell_type": "code",
      "metadata": {
        "id": "E-M4J1BAYsHg"
      },
      "source": [
        "X, user_mapper, movie_mapper, user_inv_mapper, movie_inv_mapper =create_X(ratings)"
      ],
      "execution_count": null,
      "outputs": []
    },
    {
      "cell_type": "markdown",
      "metadata": {
        "id": "q4slTNClYsHi"
      },
      "source": [
        "### Calculating Sparsity of the Matrix\n",
        "\n",
        "Let's see how sparse our matrix, $X$, is. We can calculate matrix density, $d$, with the following equation:\n",
        "\n",
        "$d=\\frac{\\text{# non-zero elements}}{\\text{total # elements}}$"
      ]
    },
    {
      "cell_type": "code",
      "metadata": {
        "id": "aqQDWSZZYsHi",
        "colab": {
          "base_uri": "https://localhost:8080/"
        },
        "outputId": "f8d7164d-2fb2-4cc7-b75b-b7c357944e8f"
      },
      "source": [
        "density = X.count_nonzero()/(X.shape[0]*X.shape[1])\n",
        "\n",
        "print(\"Matrix density: {}%\".format(round(density*100,2)))"
      ],
      "execution_count": null,
      "outputs": [
        {
          "output_type": "stream",
          "text": [
            "Matrix density: 1.7%\n"
          ],
          "name": "stdout"
        }
      ]
    },
    {
      "cell_type": "markdown",
      "metadata": {
        "id": "Lq9GCLc9YsHl"
      },
      "source": [
        "Wow, our matrix is quite sparse. But don't be discouraged! User-item matrices are typically very sparse. A general rule of thumb is that your matrix density should be no lower than 0.5% to generate decent results."
      ]
    },
    {
      "cell_type": "markdown",
      "metadata": {
        "id": "kXWrnETTYsHl"
      },
      "source": [
        "### How to save your sparse matrix\n",
        "\n",
        "To save our sparse matrix for future analysis, we can use scipy's sparse matrix `save_npz` [method](https://docs.scipy.org/doc/scipy/reference/generated/scipy.sparse.save_npz.html). "
      ]
    },
    {
      "cell_type": "code",
      "metadata": {
        "id": "3bUX8m6YYsHl"
      },
      "source": [
        "from scipy.sparse import save_npz, load_npz\n",
        "# you should change the path to `../ba545-data/user_item_matrix.npz`\n",
        "save_npz('user_item_matrix.npz', X)"
      ],
      "execution_count": null,
      "outputs": []
    },
    {
      "cell_type": "markdown",
      "metadata": {
        "id": "TsLHsRPfYsHo"
      },
      "source": [
        "We can load it again using `load_npz`."
      ]
    },
    {
      "cell_type": "code",
      "metadata": {
        "id": "1dlJvaimYsHp",
        "colab": {
          "base_uri": "https://localhost:8080/"
        },
        "outputId": "f124e2d1-13bd-4879-da33-c193e5135b00"
      },
      "source": [
        "# again, you should change the path to `../ba545-data/user_item_matrix.npz`\n",
        "X = load_npz('user_item_matrix.npz')\n",
        "X"
      ],
      "execution_count": null,
      "outputs": [
        {
          "output_type": "execute_result",
          "data": {
            "text/plain": [
              "<9724x610 sparse matrix of type '<class 'numpy.float64'>'\n",
              "\twith 100836 stored elements in Compressed Sparse Row format>"
            ]
          },
          "metadata": {
            "tags": []
          },
          "execution_count": 27
        }
      ]
    },
    {
      "cell_type": "markdown",
      "metadata": {
        "id": "8rtA1-XYYsHs"
      },
      "source": [
        "# Step 5: Finding similar movies using k-Nearest Neighbours\n",
        "\n",
        "k-Nearest Neighbours (kNN) is a classification algorithm that predicts the label of a given sample based on majority vote of its nearest $k$ neighbours.\n",
        "\n",
        "<img src=\"https://raw.githubusercontent.com/fairfield-university-ba545/week5/master/images/knn.png\"/>\n",
        "\n",
        "Distance between two samples can be measured using `cosine similarity`, `Euclidean distance`, `Manhattan distance`, etc. "
      ]
    },
    {
      "cell_type": "markdown",
      "metadata": {
        "id": "GRdFkv4hYsHs"
      },
      "source": [
        "### Cosine Similarity vs. Euclidean Distance\n",
        "\n",
        "- **Cosine Similarity**: measures similarity of two points in orientation (i.e., the cosine angle between $A$ and $B$)\n",
        "    - the closer the cosine similarity is to 1, the more similar the items are\n",
        "\n",
        "$$\\text{similairity}=\\frac{A \\cdot B}{\\mid{A}\\mid\\mid{B}\\mid}$$\n",
        "\n",
        "- **Euclidean Distance**: measures distance between two items in a n-dimensional space (i.e., measures straight line from $A$ to $B$)\n",
        "    - unlike cosine similarity, Euclidean distance takes magnitude into account\n",
        "\n",
        "$$d(p,q) = \\sqrt{(p_1-q_1)^2 + (p_2-q_2)^2 + ... + (p_n-q_n)^2}$$"
      ]
    },
    {
      "cell_type": "markdown",
      "metadata": {
        "id": "0Zfuw4PuYsHs"
      },
      "source": [
        "### Cosine Similarity vs. Euclidean Distance\n",
        "\n",
        "<img src=\"https://raw.githubusercontent.com/fairfield-university-ba545/week5/master/images/cosine-sim.png\" width=\"60%\"/>\n",
        "\n",
        "- A-B and D-E have the same cosine similarity\n",
        "- A-B has a smaller Euclidean distance than D-E\n"
      ]
    },
    {
      "cell_type": "markdown",
      "metadata": {
        "id": "Mh2OeQCoYsHt"
      },
      "source": [
        "Let's create a function that finds $k$ similair movies for a given movie. "
      ]
    },
    {
      "cell_type": "code",
      "metadata": {
        "id": "vnRwyC98YsHt"
      },
      "source": [
        "from sklearn.neighbors import NearestNeighbors\n",
        "\n",
        "def find_similar_movies(movie_id, X, k, metric='cosine', show_distance=False):\n",
        "    \"\"\"\n",
        "    Finds k-nearest neighbours for a given movie id.\n",
        "    \n",
        "    Args:\n",
        "        movie_id: id of the movie of interest\n",
        "        X: user-item utility matrix\n",
        "        k: number of similar movies to retrieve\n",
        "        metric: distance metric for kNN calculations\n",
        "    \n",
        "    Returns:\n",
        "        list of k similar movie ID's\n",
        "    \"\"\"\n",
        "    neighbour_ids = []\n",
        "    \n",
        "    movie_ind = movie_mapper[movie_id]\n",
        "    movie_vec = X[movie_ind]\n",
        "    k+=1\n",
        "    kNN = NearestNeighbors(n_neighbors=k, algorithm=\"brute\", metric=metric)\n",
        "    kNN.fit(X)\n",
        "    if isinstance(movie_vec, (np.ndarray)):\n",
        "        movie_vec = movie_vec.reshape(1,-1)\n",
        "    neighbour = kNN.kneighbors(movie_vec, return_distance=show_distance)\n",
        "    for i in range(0,k):\n",
        "        n = neighbour.item(i)\n",
        "        neighbour_ids.append(movie_inv_mapper[n])\n",
        "    neighbour_ids.pop(0)\n",
        "    return neighbour_ids"
      ],
      "execution_count": null,
      "outputs": []
    },
    {
      "cell_type": "markdown",
      "metadata": {
        "id": "sE92RtNzYsHw"
      },
      "source": [
        "We can test out our function by passing in a `movieId`. We'll create a dictionary that maps `movieId` to movie title so that we can better interpret our results.\n",
        "\n",
        "In this case, `movie_id = 1` is Toy Story. We'll set `k = 10` and use our default metric, `cosine similarity`. This means that we're looking for the 10 most similar movies to Toy Story."
      ]
    },
    {
      "cell_type": "code",
      "metadata": {
        "id": "_Tvu3wnRYsHw",
        "colab": {
          "base_uri": "https://localhost:8080/"
        },
        "outputId": "9ffae401-a0d8-41f9-e671-683abb6a0ddc"
      },
      "source": [
        "movie_titles = dict(zip(movies['movieId'], movies['title']))\n",
        "\n",
        "movie_id = 1\n",
        "\n",
        "similar_ids = find_similar_movies(movie_id, X, k=10)\n",
        "movie_title = movie_titles[movie_id]\n",
        "\n",
        "print(\"Because you watched {}...\".format(movie_title))\n",
        "print(\"----------------------------------------------\")\n",
        "for i in similar_ids:\n",
        "    print(movie_titles[i])"
      ],
      "execution_count": null,
      "outputs": [
        {
          "output_type": "stream",
          "text": [
            "Because you watched Toy Story (1995)...\n",
            "----------------------------------------------\n",
            "Toy Story 2 (1999)\n",
            "Jurassic Park (1993)\n",
            "Independence Day (a.k.a. ID4) (1996)\n",
            "Star Wars: Episode IV - A New Hope (1977)\n",
            "Forrest Gump (1994)\n",
            "Lion King, The (1994)\n",
            "Star Wars: Episode VI - Return of the Jedi (1983)\n",
            "Mission: Impossible (1996)\n",
            "Groundhog Day (1993)\n",
            "Back to the Future (1985)\n"
          ],
          "name": "stdout"
        }
      ]
    },
    {
      "cell_type": "markdown",
      "metadata": {
        "id": "MgcAA-sjYsHy"
      },
      "source": [
        "Let's repeat the process but this time using Euclidean distance. "
      ]
    },
    {
      "cell_type": "code",
      "metadata": {
        "id": "wUOQctHiYsHz",
        "colab": {
          "base_uri": "https://localhost:8080/"
        },
        "outputId": "fa6b211a-0f86-4825-c112-49b98d1c7748"
      },
      "source": [
        "movie_titles = dict(zip(movies['movieId'], movies['title']))\n",
        "\n",
        "movie_id = 1\n",
        "similar_ids = find_similar_movies(movie_id, X, k=10, metric=\"euclidean\")\n",
        "\n",
        "movie_title = movie_titles[movie_id]\n",
        "print(\"Because you watched {}...\".format(movie_title))\n",
        "print(\"----------------------------------------------\")\n",
        "for i in similar_ids:\n",
        "    print(movie_titles[i])"
      ],
      "execution_count": null,
      "outputs": [
        {
          "output_type": "stream",
          "text": [
            "Because you watched Toy Story (1995)...\n",
            "----------------------------------------------\n",
            "Toy Story 2 (1999)\n",
            "Mission: Impossible (1996)\n",
            "Independence Day (a.k.a. ID4) (1996)\n",
            "Bug's Life, A (1998)\n",
            "Nutty Professor, The (1996)\n",
            "Willy Wonka & the Chocolate Factory (1971)\n",
            "Babe (1995)\n",
            "Groundhog Day (1993)\n",
            "Mask, The (1994)\n",
            "Honey, I Shrunk the Kids (1989)\n"
          ],
          "name": "stdout"
        }
      ]
    },
    {
      "cell_type": "markdown",
      "metadata": {
        "id": "R4hvevlbYsH1"
      },
      "source": [
        "# Dimensionality Reduction with Matrix Factorization\n",
        "\n",
        "### (Advanced)"
      ]
    },
    {
      "cell_type": "markdown",
      "metadata": {
        "id": "akY14_pBYsH2"
      },
      "source": [
        "### Matrix Factorization\n",
        "\n",
        "- A linear algebra technique that can help discover latent features between users and movies\n",
        "- Latent features give a more compact representation of user tastes and item descriptions\n",
        "- Can enhance the quality of recommendations when $X$ is very sparse \n",
        "- Factorizes the user-item matrix into two \"factor matrices\":\n",
        "    - user-factor matrix `(n_users, k)`\n",
        "    - item-factor matrix `(k, n_items)`\n",
        "    \n",
        "<img src=\"https://d2908q01vomqb2.cloudfront.net/f1f836cb4ea6efb2a0b1b99f41ad8b103eff4b59/2018/05/04/Factorization1.png\"/>"
      ]
    },
    {
      "cell_type": "markdown",
      "metadata": {
        "id": "PBrFbe52YsH2"
      },
      "source": [
        "### Singular Value Decomposition \n",
        "\n",
        "- Singular Value Decomposition (SVD) is a type of matrix factorization that is used for data reduction and de-noising \n",
        "- [scikit-learn](https://scikit-learn.org/stable/modules/generated/sklearn.decomposition.TruncatedSVD.html) has a class called `TruncatedSVD` that we can use to reduce our matrix from `(n_users, n_movies)` to `(n_users, n_components)` where `n_components` represents number of latent features. "
      ]
    },
    {
      "cell_type": "code",
      "metadata": {
        "id": "4CeQidJmYsH3",
        "colab": {
          "base_uri": "https://localhost:8080/"
        },
        "outputId": "4ad4ab6c-ee7b-4857-ef00-450e17788f58"
      },
      "source": [
        "from sklearn.decomposition import TruncatedSVD\n",
        "\n",
        "svd = TruncatedSVD(n_components=25, n_iter=10)\n",
        "Z = svd.fit_transform(X.T)\n",
        "print(\"The shape of our compressed Z matrix is: {}.\".format(Z.shape))"
      ],
      "execution_count": null,
      "outputs": [
        {
          "output_type": "stream",
          "text": [
            "The shape of our compressed Z matrix is: (610, 25).\n"
          ],
          "name": "stdout"
        }
      ]
    },
    {
      "cell_type": "markdown",
      "metadata": {
        "id": "Uv4C3vwSYsH9"
      },
      "source": [
        "Let's apply our `find_similar_movies` function to our new Z matrix. "
      ]
    },
    {
      "cell_type": "code",
      "metadata": {
        "id": "gdXZFfLiYsH_",
        "colab": {
          "base_uri": "https://localhost:8080/"
        },
        "outputId": "774f4b75-7695-4386-f92d-6c628e1162b1"
      },
      "source": [
        "movie_id = 1\n",
        "similar_movies = find_similar_movies(movie_id, X=Z.T, metric='cosine', k=10)\n",
        "movie_title = movie_titles[movie_id]\n",
        "\n",
        "print(\"Because you watched {}...\".format(movie_title))\n",
        "print(\"----------------------------------------------\")\n",
        "for i in similar_movies:\n",
        "    print(movie_titles[i])"
      ],
      "execution_count": null,
      "outputs": [
        {
          "output_type": "stream",
          "text": [
            "Because you watched Toy Story (1995)...\n",
            "----------------------------------------------\n",
            "Father of the Bride Part II (1995)\n",
            "Ace Ventura: When Nature Calls (1995)\n",
            "Copycat (1995)\n",
            "Sense and Sensibility (1995)\n",
            "Four Rooms (1995)\n",
            "Cutthroat Island (1995)\n",
            "Money Train (1995)\n",
            "Assassins (1995)\n",
            "Get Shorty (1995)\n",
            "Powder (1995)\n"
          ],
          "name": "stdout"
        }
      ]
    },
    {
      "cell_type": "markdown",
      "metadata": {
        "id": "-TbTCt98YsIB"
      },
      "source": [
        "When we reduce the dimensions of our original user-item matrix to `(n_users, 30)`, we get the recommendations shown above. "
      ]
    },
    {
      "cell_type": "markdown",
      "metadata": {
        "id": "a6pWTGU_YsIB"
      },
      "source": [
        "### Top N Recommender\n",
        "\n",
        "- Matrix factorization allows us to predict missing ratings in our original $X$ matrix\n",
        "- Reconstruct matrix by getting inner product of the user-factor matrix  and movie-factor matrix"
      ]
    },
    {
      "cell_type": "code",
      "metadata": {
        "id": "NmTK92Y3YsIC",
        "colab": {
          "base_uri": "https://localhost:8080/"
        },
        "outputId": "523a0b46-dbfe-4d30-e6bd-03bdb401e0c5"
      },
      "source": [
        "new_X = svd.inverse_transform(Z).T\n",
        "\n",
        "print(\"Dimensions of original user-item matrix: {}, {}\".format(X.shape, type(X)))\n",
        "print(\"Dimensions of SVD-reconstructed X matrix: {}, {}\".format(new_X.shape, type(new_X)))"
      ],
      "execution_count": null,
      "outputs": [
        {
          "output_type": "stream",
          "text": [
            "Dimensions of original user-item matrix: (9724, 610), <class 'scipy.sparse.csr.csr_matrix'>\n",
            "Dimensions of SVD-reconstructed X matrix: (9724, 610), <class 'numpy.ndarray'>\n"
          ],
          "name": "stdout"
        }
      ]
    },
    {
      "cell_type": "markdown",
      "metadata": {
        "id": "Cv0hU2_zYsIE"
      },
      "source": [
        "Let's try generaing top N recommendations for a user in our dataset. We'll look at `userId` 5. Which movies did this user rate highly? "
      ]
    },
    {
      "cell_type": "code",
      "metadata": {
        "id": "behCKa4YYsIE",
        "colab": {
          "base_uri": "https://localhost:8080/",
          "height": 204
        },
        "outputId": "6fca34c7-9028-4db1-bb55-4cd4fdfcadc7"
      },
      "source": [
        "userId = 5\n",
        "user_preferences = ratings[(ratings['userId']==userId)&(ratings['rating']>=4)]\n",
        "user_preferences = user_preferences.merge(movies[['movieId', 'title']])\n",
        "user_preferences.sort_values('rating', ascending=False).head(5)"
      ],
      "execution_count": null,
      "outputs": [
        {
          "output_type": "execute_result",
          "data": {
            "text/html": [
              "<div>\n",
              "<style scoped>\n",
              "    .dataframe tbody tr th:only-of-type {\n",
              "        vertical-align: middle;\n",
              "    }\n",
              "\n",
              "    .dataframe tbody tr th {\n",
              "        vertical-align: top;\n",
              "    }\n",
              "\n",
              "    .dataframe thead th {\n",
              "        text-align: right;\n",
              "    }\n",
              "</style>\n",
              "<table border=\"1\" class=\"dataframe\">\n",
              "  <thead>\n",
              "    <tr style=\"text-align: right;\">\n",
              "      <th></th>\n",
              "      <th>userId</th>\n",
              "      <th>movieId</th>\n",
              "      <th>rating</th>\n",
              "      <th>timestamp</th>\n",
              "      <th>title</th>\n",
              "    </tr>\n",
              "  </thead>\n",
              "  <tbody>\n",
              "    <tr>\n",
              "      <th>11</th>\n",
              "      <td>5</td>\n",
              "      <td>296</td>\n",
              "      <td>5.0</td>\n",
              "      <td>847434748</td>\n",
              "      <td>Pulp Fiction (1994)</td>\n",
              "    </tr>\n",
              "    <tr>\n",
              "      <th>8</th>\n",
              "      <td>5</td>\n",
              "      <td>247</td>\n",
              "      <td>5.0</td>\n",
              "      <td>847435337</td>\n",
              "      <td>Heavenly Creatures (1994)</td>\n",
              "    </tr>\n",
              "    <tr>\n",
              "      <th>21</th>\n",
              "      <td>5</td>\n",
              "      <td>595</td>\n",
              "      <td>5.0</td>\n",
              "      <td>847434832</td>\n",
              "      <td>Beauty and the Beast (1991)</td>\n",
              "    </tr>\n",
              "    <tr>\n",
              "      <th>20</th>\n",
              "      <td>5</td>\n",
              "      <td>594</td>\n",
              "      <td>5.0</td>\n",
              "      <td>847435238</td>\n",
              "      <td>Snow White and the Seven Dwarfs (1937)</td>\n",
              "    </tr>\n",
              "    <tr>\n",
              "      <th>19</th>\n",
              "      <td>5</td>\n",
              "      <td>590</td>\n",
              "      <td>5.0</td>\n",
              "      <td>847434747</td>\n",
              "      <td>Dances with Wolves (1990)</td>\n",
              "    </tr>\n",
              "  </tbody>\n",
              "</table>\n",
              "</div>"
            ],
            "text/plain": [
              "    userId  movieId  rating  timestamp                                   title\n",
              "11       5      296     5.0  847434748                     Pulp Fiction (1994)\n",
              "8        5      247     5.0  847435337               Heavenly Creatures (1994)\n",
              "21       5      595     5.0  847434832             Beauty and the Beast (1991)\n",
              "20       5      594     5.0  847435238  Snow White and the Seven Dwarfs (1937)\n",
              "19       5      590     5.0  847434747               Dances with Wolves (1990)"
            ]
          },
          "metadata": {
            "tags": []
          },
          "execution_count": 34
        }
      ]
    },
    {
      "cell_type": "markdown",
      "metadata": {
        "id": "UHyKWKdyYsIH"
      },
      "source": [
        "<p style=\"margin-bottom:30;\">Now, let's predict which movies userId 5 will also like based on their previous ratings. We need to do the following:</p>\n",
        "\n",
        "- get row from $X$ which represents userId=5\n",
        "- sort their predicted ratings in descending order\n",
        "\n",
        "We can use `np.argsort()` to grab top $N$ indices for `userId=5`."
      ]
    },
    {
      "cell_type": "code",
      "metadata": {
        "id": "4p-wvrhNYsII",
        "colab": {
          "base_uri": "https://localhost:8080/"
        },
        "outputId": "dbe35b70-6233-4ea7-83e8-957cd39d6e65"
      },
      "source": [
        "top_N = 10\n",
        "\n",
        "movie_titles = dict(zip(movies['movieId'], movies['title']))\n",
        "\n",
        "top_N_indices = new_X[user_mapper[userId]].argsort()[-top_N:][::-1]\n",
        "\n",
        "\n",
        "print(\"Top {} Recommendations for UserId {}:\".format(top_N, userId))\n",
        "for i in top_N_indices:\n",
        "    movie_id = movie_inv_mapper[i]\n",
        "    print(movie_titles[movie_id])"
      ],
      "execution_count": null,
      "outputs": [
        {
          "output_type": "stream",
          "text": [
            "Top 10 Recommendations for UserId 5:\n",
            "Puppet Masters, The (1994)\n",
            "Heat (1995)\n",
            "Beautiful Girls (1996)\n",
            "Chasers (1994)\n",
            "Timecop (1994)\n",
            "Little Women (1994)\n",
            "Birdcage, The (1996)\n",
            "Twelve Monkeys (a.k.a. 12 Monkeys) (1995)\n",
            "Big Bully (1996)\n",
            "Sliver (1993)\n"
          ],
          "name": "stdout"
        }
      ]
    },
    {
      "cell_type": "markdown",
      "metadata": {
        "id": "VkYIwX_vYsIJ"
      },
      "source": [
        "You see that your recommender has been successful in capturing more information due to more metadata and has given you (arguably) better recommendations. There are, of course, numerous ways of playing with this system in order to improve recommendations."
      ]
    },
    {
      "cell_type": "markdown",
      "metadata": {
        "id": "zinCmAJZYsIK"
      },
      "source": [
        "#### Some suggestions:\n",
        "\n",
        "- Introduce a popularity filter: this recommender would take the list of the 30 most similar movies, calculate the weighted ratings (using the IMDB formula from above), sort movies based on this rating and return the top 10 movies.\n",
        "- Other crew members: other crew member names, such as screenwriters and producers, could also be included.\n",
        "- Increasing weight of the director: to give more weight to the director, he or she could be mentioned multiple times in the soup to increase the similarity scores of movies with the same director.\n",
        "\n",
        "You can find these ideas implemented in [this notebook](https://github.com/rounakbanik/movies/blob/master/movies_recommender.ipynb).\n"
      ]
    },
    {
      "cell_type": "markdown",
      "metadata": {
        "id": "CE956vMlYsIK"
      },
      "source": [
        "## Collaborative Filtering with Python\n",
        "In this tutorial, you have learnt how to build your very own **Simple** and **Content Based** Movie Recommender Systems. There is also another extremely popular type of recommender known as **collaborative filters**.\n",
        "\n",
        "Collaborative filters can further be classified into two types:\n",
        "\n",
        "- User-based Filtering\n",
        "\n",
        "- Item-based Filtering\n",
        "\n",
        "You will not be building these systems in this tutorial but you are already familiar with most of the ideas required to do so. A good place to start with collaborative filters is by examining the MovieLens dataset, which can be found [here](https://grouplens.org/datasets/movielens/).\n"
      ]
    },
    {
      "cell_type": "markdown",
      "metadata": {
        "id": "cp4aaxuCYsIL"
      },
      "source": [
        "## User-based Filtering\n",
        "\n",
        "- User-based Filtering: these systems recommend products to a user that __similar users__ have liked. \n",
        "- For example, let's say Alice and Bob have a similar interest in books \n",
        "    - that is, they largely like and dislike the same books). \n",
        "- Now, let's say a new book has been launched into the market and Alice has read and loved it. \n",
        "- It is therefore, highly likely that Bob will like it too and therefore, the system recommends this book to Bob.\n"
      ]
    },
    {
      "cell_type": "markdown",
      "metadata": {
        "id": "CLlLZweNYsIL"
      },
      "source": [
        "## Item-based Filtering\n",
        "\n",
        "- Item-based Filtering: these systems are somewhat similar to the content recommendation engine that you built. \n",
        "- These systems identify __similar items__ based on how people have rated it in the past. \n",
        "- For example, if Alice, Bob and Eve have given 5 stars to The Lord of the Rings and The Hobbit, the system identifies the items as similar. \n",
        "- Therefore, if someone buys The Lord of the Rings, the system also recommends The Hobbit to him or her.\n"
      ]
    },
    {
      "cell_type": "markdown",
      "metadata": {
        "id": "eo10tAAhYsIL"
      },
      "source": [
        "## Conclusion\n",
        "\n",
        "You will not be building these systems in this tutorial but you are already familiar with most of the ideas required to do so. A good place to start with collaborative filters is by examining the MovieLens dataset, which can be found [here](https://grouplens.org/datasets/movielens/).\n",
        "\n",
        "In this tutorial, you have covered how to build simple as well as content-based recommenders. Hopefully, you are now in a good position to make improvements on the basic systems you built and experiment with other kinds of recommenders (such as collaborative filters). I hope you had as much fun reading this as I had writing. Happy recommending!"
      ]
    }
  ]
}