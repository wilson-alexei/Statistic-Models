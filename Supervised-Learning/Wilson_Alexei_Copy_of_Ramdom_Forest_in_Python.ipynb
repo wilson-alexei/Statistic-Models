{
  "nbformat": 4,
  "nbformat_minor": 0,
  "metadata": {
    "kernelspec": {
      "display_name": "Python 3",
      "language": "python",
      "name": "python3"
    },
    "language_info": {
      "codemirror_mode": {
        "name": "ipython",
        "version": 3
      },
      "file_extension": ".py",
      "mimetype": "text/x-python",
      "name": "python",
      "nbconvert_exporter": "python",
      "pygments_lexer": "ipython3",
      "version": "3.5.5"
    },
    "colab": {
      "provenance": []
    }
  },
  "cells": [
    {
      "cell_type": "markdown",
      "metadata": {
        "id": "iz0tWZ69EZ1z"
      },
      "source": [
        "# Understanding Random Forests Classifiers in Python\n",
        "Learn about Random Forests and build your own model in Python, for both classification and regression.\n",
        "Random forests is a supervised learning algorithm. It can be used both for classification and regression. It is also the most flexible and easy to use algorithm. A forest is comprised of trees. It is said that the more trees it has, the more robust a forest is. Random forests creates decision trees on randomly selected data samples, gets prediction from each tree and selects the best solution by means of voting. It also provides a pretty good indicator of the feature importance.\n",
        "\n",
        "Random forests has a variety of applications, such as recommendation engines, image classification and feature selection. It can be used to classify loyal loan applicants, identify fraudulent activity and predict diseases. It lies at the base of the Boruta algorithm, which selects important features in a dataset.\n",
        "\n",
        "In this tutorial, you are going to learn about all of the following:\n",
        "- The random forests algorithm\n",
        "- How does the classifier work?\n",
        "- Its advantages and disadvantages\n",
        "- Finding important features\n",
        "- Comparision between random forests and decision trees\n",
        "- Building a classifier with scikit-learn\n",
        "- Finding important features with scikit-learn"
      ]
    },
    {
      "cell_type": "markdown",
      "metadata": {
        "id": "yfIkgDjKEZ15"
      },
      "source": [
        "## The Random Forests Algorithm\n",
        "Let’s understand the algorithm in layman’s terms. Suppose you want to go on a trip and you would like to travel to a place which you will enjoy.\n",
        "\n",
        "So what do you do to find a place that you will like? You can search online, read reviews on travel blogs and portals, or you can also ask your friends.\n",
        "\n",
        "Let’s suppose you have decided to ask your friends, and talked with them about their past travel experience to various places. You will get some recommendations from every friend. Now you have to make a list of those recommended places. Then, you ask them to vote (or select one best place for the trip) from the list of recommended places you made. The place with the highest number of votes will be your final choice for the trip.\n",
        "\n",
        "In the above decision process, there are two parts. \n",
        "\n",
        "- First, asking your friends about their **individual travel experience** and **getting one recommendation** out of multiple places they have visited. This part is like using the decision tree algorithm. Here, each friend makes a selection of the places he or she has visited so far.\n",
        "\n",
        "- The second part, after collecting all the recommendations, is the **voting procedure** for **selecting the best place** in the list of recommendations. This whole process of getting recommendations from friends and voting on them to find the best place is known as the **random forests algorithm**.\n",
        "\n",
        "It technically is an **ensemble** method (based on the divide-and-conquer approach) of decision trees generated on a randomly split dataset. This collection of decision tree classifiers is also known as the forest. The individual decision trees are generated using an attribute selection indicator such as **information gain**, **gain ratio**, and **Gini index** for each attribute. Each tree depends on an independent random sample. In a classification problem, each tree votes and the most popular class is chosen as the final result. In the case of regression, the average of all the tree outputs is considered as the final result. It is simpler and more powerful compared to the other non-linear classification algorithms."
      ]
    },
    {
      "cell_type": "markdown",
      "metadata": {
        "id": "ZzfYy0gjEZ16"
      },
      "source": [
        "## How does the classifier work?\n",
        "It works in four steps:\n",
        "\n",
        "1. Select random samples from a given dataset.\n",
        "2. Construct a decision tree for each sample and get a prediction result from each decision tree.\n",
        "3. Perform a vote for each predicted result.\n",
        "4. Select the prediction result with the most votes as the final prediction.\n",
        "\n",
        "<img src = 'http://res.cloudinary.com/dyd911kmh/image/upload/f_auto,q_auto:best/v1526467744/voting_dnjweq.jpg' />"
      ]
    },
    {
      "cell_type": "markdown",
      "metadata": {
        "id": "YT71WTNlEZ17"
      },
      "source": [
        "## Advantages:\n",
        "- Random forests is considered as a highly **accurate** and **robust** method because of the number of decision trees participating in the process.\n",
        "- It does not suffer from the **overfitting** problem. The main reason is that it takes the average of all the predictions, which cancels out the biases.\n",
        "- The algorithm can be used in both **classification** and **regression** problems.\n",
        "- Random forests can also handle **missing values**. There are two ways to handle these: using median values to replace continuous variables, and computing the proximity-weighted average of missing values.\n",
        "- You can get the relative feature importance, which helps in **selecting the most contributing features** for the classifier.\n",
        "\n",
        "## Disadvantages:\n",
        "- Random forests is **slow** in generating predictions because it has multiple decision trees. Whenever it makes a prediction, all the trees in the forest have to make a prediction for the same given input and then perform voting on it. This whole process is time-consuming.\n",
        "- The model is **difficult to interpret** compared to a decision tree, where you can easily make a decision by following the path in the tree.\n",
        "\n",
        "__NOTE__: In data science, we use RF a lot since we do not care as much as interpretation of the results."
      ]
    },
    {
      "cell_type": "markdown",
      "metadata": {
        "id": "SPZiPbdaEZ18"
      },
      "source": [
        "## Finding important features\n",
        "Random forests also offers a good **feature selection** indicator. `Scikit-learn` provides an extra variable with the model, which shows the relative importance or contribution of each feature in the prediction. It automatically computes the `relevance score` of each feature in the training phase. Then it scales the relevance down so that the sum of all scores is `1`. __Higher relevance score means more important feature__.\n",
        "\n",
        "This score will help you choose the most important features and drop the least important ones for model building.\n",
        "\n",
        "Random forest uses `gini importance` or `mean decrease in impurity` (MDI) to calculate the importance of each feature. Gini importance is also known as the total decrease in node impurity. This is how much the model fit or accuracy decreases when you drop a variable. The larger the decrease, the more significant the variable is. Here, the mean decrease is a significant parameter for variable selection. The Gini index can describe the **overall explanatory power** of the variables."
      ]
    },
    {
      "cell_type": "markdown",
      "metadata": {
        "id": "s-vG4ePDEZ19"
      },
      "source": [
        "## Random Forests vs Decision Trees\n",
        "- Random forests is a set of multiple decision trees.\n",
        "- Deep decision trees may suffer from overfitting, but random forests prevents overfitting by creating trees on random subsets.\n",
        "- Decision trees are computationally faster.\n",
        "- Random forests is difficult to interpret, while a decision tree is easily interpretable and can be converted to rules."
      ]
    },
    {
      "cell_type": "markdown",
      "metadata": {
        "id": "rIw8IjwKEZ19"
      },
      "source": [
        "## Building a Classifier using Scikit-learn\n",
        "You will be building a model on the `iris flower dataset`, which is a very famous classification set. It comprises the `sepal length`, `sepal width`, `petal length`, `petal width`, and `type of flowers`. There are three species or classes: setosa, versicolor, and virginia. You will build a model to classify the type of flower. The dataset is available in the scikit-learn library or you can download it from the UCI Machine Learning Repository.\n",
        "\n",
        "Start by importing the datasets library from scikit-learn, and load the iris dataset with `load_iris()`."
      ]
    },
    {
      "cell_type": "code",
      "metadata": {
        "id": "Y1Fd12xWEZ1-"
      },
      "source": [
        "#Import scikit-learn dataset library\n",
        "from sklearn import datasets\n",
        "\n",
        "#Load dataset\n",
        "iris = datasets.load_iris()"
      ],
      "execution_count": null,
      "outputs": []
    },
    {
      "cell_type": "markdown",
      "metadata": {
        "id": "fbKgi9CaEZ2D"
      },
      "source": [
        "You can print the target and feature names, to make sure you have the right dataset, as such:"
      ]
    },
    {
      "cell_type": "code",
      "metadata": {
        "id": "dBd__BeWEZ2D",
        "colab": {
          "base_uri": "https://localhost:8080/"
        },
        "outputId": "ae9a9de8-53d9-4f39-a417-519f793a722d"
      },
      "source": [
        "# print the label species(setosa, versicolor,virginica)\n",
        "print(iris.target_names)\n",
        "\n",
        "# print the names of the four features\n",
        "print(iris.feature_names)"
      ],
      "execution_count": null,
      "outputs": [
        {
          "output_type": "stream",
          "text": [
            "['setosa' 'versicolor' 'virginica']\n",
            "['sepal length (cm)', 'sepal width (cm)', 'petal length (cm)', 'petal width (cm)']\n"
          ],
          "name": "stdout"
        }
      ]
    },
    {
      "cell_type": "markdown",
      "metadata": {
        "id": "ZSzeXgCIEZ2H"
      },
      "source": [
        "It's a good idea to always explore your data a bit, so you know what you're working with. Here, you can see the first five rows of the dataset are printed, as well as the target variable for the whole dataset."
      ]
    },
    {
      "cell_type": "code",
      "metadata": {
        "id": "Drp8Bm1gEZ2I",
        "colab": {
          "base_uri": "https://localhost:8080/"
        },
        "outputId": "e854a937-b89d-4c62-d924-11a5e84b9941"
      },
      "source": [
        "# print the iris data (top 5 records)\n",
        "print(iris.data[0:5])\n",
        "\n",
        "# print the iris labels (0:setosa, 1:versicolor, 2:virginica)\n",
        "print(iris.target[0:5])"
      ],
      "execution_count": null,
      "outputs": [
        {
          "output_type": "stream",
          "text": [
            "[[5.1 3.5 1.4 0.2]\n",
            " [4.9 3.  1.4 0.2]\n",
            " [4.7 3.2 1.3 0.2]\n",
            " [4.6 3.1 1.5 0.2]\n",
            " [5.  3.6 1.4 0.2]]\n",
            "[0 0 0 0 0]\n"
          ],
          "name": "stdout"
        }
      ]
    },
    {
      "cell_type": "markdown",
      "metadata": {
        "id": "ROpxwLxzEZ2M"
      },
      "source": [
        "Here, you can create a `pandas` DataFrame of the iris dataset the following way."
      ]
    },
    {
      "cell_type": "code",
      "metadata": {
        "id": "A6X-4a3kEZ2N",
        "colab": {
          "base_uri": "https://localhost:8080/",
          "height": 204
        },
        "outputId": "6e194c0f-99f3-41a9-fc8e-4ed9cb4d4102"
      },
      "source": [
        "# Creating a DataFrame of given iris dataset.\n",
        "import pandas as pd\n",
        "data = pd.DataFrame({\n",
        "    'sepal length':iris.data[:,0],\n",
        "    'sepal width':iris.data[:,1],\n",
        "    'petal length':iris.data[:,2],\n",
        "    'petal width':iris.data[:,3],\n",
        "    'species':iris.target\n",
        "})\n",
        "data.head()"
      ],
      "execution_count": null,
      "outputs": [
        {
          "output_type": "execute_result",
          "data": {
            "text/html": [
              "<div>\n",
              "<style scoped>\n",
              "    .dataframe tbody tr th:only-of-type {\n",
              "        vertical-align: middle;\n",
              "    }\n",
              "\n",
              "    .dataframe tbody tr th {\n",
              "        vertical-align: top;\n",
              "    }\n",
              "\n",
              "    .dataframe thead th {\n",
              "        text-align: right;\n",
              "    }\n",
              "</style>\n",
              "<table border=\"1\" class=\"dataframe\">\n",
              "  <thead>\n",
              "    <tr style=\"text-align: right;\">\n",
              "      <th></th>\n",
              "      <th>sepal length</th>\n",
              "      <th>sepal width</th>\n",
              "      <th>petal length</th>\n",
              "      <th>petal width</th>\n",
              "      <th>species</th>\n",
              "    </tr>\n",
              "  </thead>\n",
              "  <tbody>\n",
              "    <tr>\n",
              "      <th>0</th>\n",
              "      <td>5.1</td>\n",
              "      <td>3.5</td>\n",
              "      <td>1.4</td>\n",
              "      <td>0.2</td>\n",
              "      <td>0</td>\n",
              "    </tr>\n",
              "    <tr>\n",
              "      <th>1</th>\n",
              "      <td>4.9</td>\n",
              "      <td>3.0</td>\n",
              "      <td>1.4</td>\n",
              "      <td>0.2</td>\n",
              "      <td>0</td>\n",
              "    </tr>\n",
              "    <tr>\n",
              "      <th>2</th>\n",
              "      <td>4.7</td>\n",
              "      <td>3.2</td>\n",
              "      <td>1.3</td>\n",
              "      <td>0.2</td>\n",
              "      <td>0</td>\n",
              "    </tr>\n",
              "    <tr>\n",
              "      <th>3</th>\n",
              "      <td>4.6</td>\n",
              "      <td>3.1</td>\n",
              "      <td>1.5</td>\n",
              "      <td>0.2</td>\n",
              "      <td>0</td>\n",
              "    </tr>\n",
              "    <tr>\n",
              "      <th>4</th>\n",
              "      <td>5.0</td>\n",
              "      <td>3.6</td>\n",
              "      <td>1.4</td>\n",
              "      <td>0.2</td>\n",
              "      <td>0</td>\n",
              "    </tr>\n",
              "  </tbody>\n",
              "</table>\n",
              "</div>"
            ],
            "text/plain": [
              "   sepal length  sepal width  petal length  petal width  species\n",
              "0           5.1          3.5           1.4          0.2        0\n",
              "1           4.9          3.0           1.4          0.2        0\n",
              "2           4.7          3.2           1.3          0.2        0\n",
              "3           4.6          3.1           1.5          0.2        0\n",
              "4           5.0          3.6           1.4          0.2        0"
            ]
          },
          "metadata": {
            "tags": []
          },
          "execution_count": 4
        }
      ]
    },
    {
      "cell_type": "markdown",
      "metadata": {
        "id": "5SIicVkeEZ2Q"
      },
      "source": [
        "Now we can start building our classifier. First, you separate the columns into predictor and target variables (or features and labels). Then you split those variables into a training and test set."
      ]
    },
    {
      "cell_type": "code",
      "metadata": {
        "id": "6yHdEeE4EZ2Q"
      },
      "source": [
        "# Import train_test_split function\n",
        "from sklearn.model_selection import train_test_split\n",
        "\n",
        "X=data[['sepal length', 'sepal width', 'petal length', 'petal width']]  # Features\n",
        "y=data['species']  # Labels\n",
        "\n",
        "# Split dataset into training set and test set\n",
        "X_train, X_test, y_train, y_test = train_test_split(X, y, test_size=0.3, random_state=2019) # 70% training and 30% test"
      ],
      "execution_count": null,
      "outputs": []
    },
    {
      "cell_type": "markdown",
      "metadata": {
        "id": "h_ZUy0aFEZ2U"
      },
      "source": [
        "After splitting, you will train the model on the training set and perform predictions on the test set."
      ]
    },
    {
      "cell_type": "code",
      "metadata": {
        "id": "iYa-mbwKEZ2V"
      },
      "source": [
        "#Import Random Forest Model\n",
        "from sklearn.ensemble import RandomForestClassifier\n",
        "\n",
        "#Create a Gaussian Classifier\n",
        "clf = RandomForestClassifier(n_estimators=100)\n",
        "\n",
        "#Train the model using the training sets y_pred=clf.predict(X_test)\n",
        "clf.fit(X_train,y_train)\n",
        "\n",
        "y_pred = clf.predict(X_test)"
      ],
      "execution_count": null,
      "outputs": []
    },
    {
      "cell_type": "markdown",
      "metadata": {
        "id": "bGq4oknmEZ2a"
      },
      "source": [
        "After training, check the predictive performance using actual and predicted values."
      ]
    },
    {
      "cell_type": "code",
      "metadata": {
        "id": "Gvwy4AV7EZ2a",
        "colab": {
          "base_uri": "https://localhost:8080/"
        },
        "outputId": "fab7d7ea-46f2-4855-ae7b-d3b7b1ed3cee"
      },
      "source": [
        "from sklearn.metrics import classification_report\n",
        "print(classification_report(y_test, y_pred))"
      ],
      "execution_count": null,
      "outputs": [
        {
          "output_type": "stream",
          "text": [
            "              precision    recall  f1-score   support\n",
            "\n",
            "           0       1.00      1.00      1.00        19\n",
            "           1       1.00      0.90      0.95        10\n",
            "           2       0.94      1.00      0.97        16\n",
            "\n",
            "    accuracy                           0.98        45\n",
            "   macro avg       0.98      0.97      0.97        45\n",
            "weighted avg       0.98      0.98      0.98        45\n",
            "\n"
          ],
          "name": "stdout"
        }
      ]
    },
    {
      "cell_type": "markdown",
      "metadata": {
        "id": "8hqK8w5iEZ2d"
      },
      "source": [
        "You can see that our model is well trained at a f1-score of `98%`.\n",
        "\n",
        "Let's try applying the trained model on a totally unseen item, for example:\n",
        "\n",
        "- sepal length = 3\n",
        "- sepal width = 5\n",
        "- petal length = 4\n",
        "- petal width = 2\n",
        "\n",
        "__NOTE__: this is called model deployment."
      ]
    },
    {
      "cell_type": "code",
      "metadata": {
        "id": "fjz-Y1s8EZ2e",
        "colab": {
          "base_uri": "https://localhost:8080/"
        },
        "outputId": "25ca59e6-a6c8-4634-fb8a-a2ee0189568f"
      },
      "source": [
        "clf.predict([[3, 5, 4, 2]])"
      ],
      "execution_count": null,
      "outputs": [
        {
          "output_type": "execute_result",
          "data": {
            "text/plain": [
              "array([2])"
            ]
          },
          "metadata": {
            "tags": []
          },
          "execution_count": 8
        }
      ]
    },
    {
      "cell_type": "markdown",
      "metadata": {
        "id": "S68rlGVcEZ2h"
      },
      "source": [
        "Here, 2 indicates the flower type Virginica.\n",
        "\n",
        "\n",
        "## Finding Important Features in Scikit-learn\n",
        "Here, you are finding important features or selecting features in the IRIS dataset. In scikit-learn, you can perform this task in the following steps:\n",
        "\n",
        "- First, you need to create a random forests model.\n",
        "- Second, use the feature importance variable to see feature importance scores.\n",
        "- Third, visualize these scores using the seaborn library."
      ]
    },
    {
      "cell_type": "code",
      "metadata": {
        "id": "FSfUmK3sEZ2h",
        "colab": {
          "base_uri": "https://localhost:8080/"
        },
        "outputId": "80504325-56a6-4212-f475-eec57b689d7c"
      },
      "source": [
        "from sklearn.ensemble import RandomForestClassifier\n",
        "\n",
        "#Create a Gaussian Classifier\n",
        "clf=RandomForestClassifier(n_estimators=100)\n",
        "\n",
        "#Train the model using the training sets y_pred=clf.predict(X_test)\n",
        "clf.fit(X_train,y_train)"
      ],
      "execution_count": null,
      "outputs": [
        {
          "output_type": "execute_result",
          "data": {
            "text/plain": [
              "RandomForestClassifier(bootstrap=True, ccp_alpha=0.0, class_weight=None,\n",
              "                       criterion='gini', max_depth=None, max_features='auto',\n",
              "                       max_leaf_nodes=None, max_samples=None,\n",
              "                       min_impurity_decrease=0.0, min_impurity_split=None,\n",
              "                       min_samples_leaf=1, min_samples_split=2,\n",
              "                       min_weight_fraction_leaf=0.0, n_estimators=100,\n",
              "                       n_jobs=None, oob_score=False, random_state=None,\n",
              "                       verbose=0, warm_start=False)"
            ]
          },
          "metadata": {
            "tags": []
          },
          "execution_count": 9
        }
      ]
    },
    {
      "cell_type": "code",
      "metadata": {
        "id": "emgJr1K4EZ2l",
        "colab": {
          "base_uri": "https://localhost:8080/"
        },
        "outputId": "04d2c211-b0d4-42d2-d4ee-c6621bb8d197"
      },
      "source": [
        "import pandas as pd\n",
        "feature_imp = pd.Series(clf.feature_importances_,index=iris.feature_names).sort_values(ascending=False)\n",
        "feature_imp"
      ],
      "execution_count": null,
      "outputs": [
        {
          "output_type": "execute_result",
          "data": {
            "text/plain": [
              "petal width (cm)     0.451554\n",
              "petal length (cm)    0.436185\n",
              "sepal length (cm)    0.071550\n",
              "sepal width (cm)     0.040712\n",
              "dtype: float64"
            ]
          },
          "metadata": {
            "tags": []
          },
          "execution_count": 10
        }
      ]
    },
    {
      "cell_type": "markdown",
      "metadata": {
        "id": "umR9fo87EZ2o"
      },
      "source": [
        "You can also visualize the feature importance. Visualizations are **easy to understand and interpretable**.\n",
        "\n",
        "For visualization, you can use a combination of `matplotlib` and `seaborn`. Because `seaborn` is built on top of `matplotlib`, it offers a number of customized themes and provides additional plot types. `Matplotlib` is a superset of `seaborn` and both are equally important for good visualizations.\n",
        "\n",
        "__NOTE__: Checking and displaying the feature importances, regardless of applying feature engineering, are always good practices. "
      ]
    },
    {
      "cell_type": "code",
      "metadata": {
        "id": "xsAcIBM4EZ2o",
        "colab": {
          "base_uri": "https://localhost:8080/",
          "height": 299
        },
        "outputId": "62257cda-f093-4997-cb72-0caa70ed4c40"
      },
      "source": [
        "import matplotlib.pyplot as plt\n",
        "import seaborn as sns\n",
        "%matplotlib inline\n",
        "plt.style.use('ggplot')\n",
        "# Creating a bar plot\n",
        "sns.barplot(x=feature_imp, y=feature_imp.index)\n",
        "# Add labels to your graph\n",
        "plt.xlabel('Feature Importance Score')\n",
        "plt.ylabel('Features')\n",
        "plt.title(\"Visualizing Important Features\")\n",
        "#plt.legend(iris.feature_names)\n",
        "plt.show()"
      ],
      "execution_count": null,
      "outputs": [
        {
          "output_type": "display_data",
          "data": {
            "image/png": "[encoded data removed]",
            "text/plain": [
              "<Figure size 432x288 with 1 Axes>"
            ]
          },
          "metadata": {
            "tags": []
          }
        }
      ]
    },
    {
      "cell_type": "markdown",
      "metadata": {
        "id": "STwNu63-EZ2s"
      },
      "source": [
        "## Generating the Model on Selected Features\n",
        "Here, you can remove the \"sepal width\" feature because it has very low importance, and select the 3 remaining features.\n",
        "\n",
        "__NOTE__: this is a feature selection step."
      ]
    },
    {
      "cell_type": "code",
      "metadata": {
        "id": "hy18Nh1pEZ2t"
      },
      "source": [
        "# Import train_test_split function\n",
        "from sklearn.model_selection import train_test_split\n",
        "# Split dataset into features and labels\n",
        "X=data[['petal length', 'petal width','sepal length']]  # Removed feature \"sepal length\"\n",
        "y=data['species']                                       \n",
        "# Split dataset into training set and test set\n",
        "X_train, X_test, y_train, y_test = train_test_split(X, y, test_size=0.30, random_state=2021) # 70% training and 30% test"
      ],
      "execution_count": null,
      "outputs": []
    },
    {
      "cell_type": "markdown",
      "metadata": {
        "id": "u9szwI9JEZ2x"
      },
      "source": [
        "After spliting, you will generate a model on the selected training set features, perform predictions on the selected test set features, and compare actual and predicted values. \n",
        "\n",
        "__NOTE__: We use the same `ramdom_state` so that we can compare model performances."
      ]
    },
    {
      "cell_type": "code",
      "metadata": {
        "id": "seMNImBNEZ2y",
        "colab": {
          "base_uri": "https://localhost:8080/"
        },
        "outputId": "778cc0b9-9ff5-4d49-8c67-82a372d64386"
      },
      "source": [
        "#from sklearn.ensemble import RandomForestClassifier\n",
        "\n",
        "#Create a Gaussian Classifier\n",
        "clf=RandomForestClassifier(n_estimators=100)\n",
        "\n",
        "#Train the model using the training sets y_pred=clf.predict(X_test)\n",
        "clf.fit(X_train,y_train)\n",
        "\n",
        "# prediction on test set\n",
        "y_pred=clf.predict(X_test)\n",
        "\n",
        "#Import scikit-learn metrics module for accuracy calculation\n",
        "#from sklearn import metrics\n",
        "# Model Accuracy, how often is the classifier correct?\n",
        "print(classification_report(y_test, y_pred))"
      ],
      "execution_count": null,
      "outputs": [
        {
          "output_type": "stream",
          "text": [
            "              precision    recall  f1-score   support\n",
            "\n",
            "           0       1.00      1.00      1.00        19\n",
            "           1       1.00      0.90      0.95        10\n",
            "           2       0.94      1.00      0.97        16\n",
            "\n",
            "    accuracy                           0.98        45\n",
            "   macro avg       0.98      0.97      0.97        45\n",
            "weighted avg       0.98      0.98      0.98        45\n",
            "\n"
          ],
          "name": "stdout"
        }
      ]
    },
    {
      "cell_type": "markdown",
      "metadata": {
        "id": "K0NFTaE0EZ21"
      },
      "source": [
        "You can see that after removing the least important features (sepal length), the accuracy did not decrease. This is because you removed misleading data and noise, resulting in a comparable performance. The main value in this step is that a lesser amount of features also reduces the training time.\n",
        "\n",
        "## Conclusion\n",
        "Congratulations, you have made it to the end of this tutorial!\n",
        "\n",
        "In this tutorial, you have learned what random forests is, how it works, finding important features, the comparison between random forests and decision trees, advantages and disadvantages. You have also learned model building, evaluation and finding important features in `scikit-learn`. "
      ]
    },
    {
      "cell_type": "code",
      "metadata": {
        "id": "R1fdzqy5EZ21"
      },
      "source": [],
      "execution_count": null,
      "outputs": []
    }
  ]
}