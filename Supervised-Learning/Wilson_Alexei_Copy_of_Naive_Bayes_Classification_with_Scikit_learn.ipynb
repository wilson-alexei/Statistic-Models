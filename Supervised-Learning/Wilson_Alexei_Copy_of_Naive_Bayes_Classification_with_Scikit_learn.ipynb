{
  "nbformat": 4,
  "nbformat_minor": 0,
  "metadata": {
    "kernelspec": {
      "display_name": "Python 3",
      "language": "python",
      "name": "python3"
    },
    "language_info": {
      "codemirror_mode": {
        "name": "ipython",
        "version": 3
      },
      "file_extension": ".py",
      "mimetype": "text/x-python",
      "name": "python",
      "nbconvert_exporter": "python",
      "pygments_lexer": "ipython3",
      "version": "3.5.5"
    },
    "colab": {
      "provenance": []
    }
  },
  "cells": [
    {
      "cell_type": "markdown",
      "metadata": {
        "id": "Ke6QOKEF4vQk"
      },
      "source": [
        "# Naive Bayes Classification using Scikit-learn\n",
        "Learn how to build and evaluate a Naive Bayes Classifier using Python's Scikit-learn package.\n",
        "Suppose you are a product manager, you want to classify customer reviews in positive and negative classes. Or As a loan manager, you want to identify which loan applicants are safe or risky? As a healthcare analyst, you want to predict which patients can suffer from diabetes disease. All the examples have the same kind of problem to classify reviews, loan applicants, and patients.\n",
        "\n",
        "Naive Bayes is the most straightforward and fast classification algorithm, which is suitable for a large chunk of data. Naive Bayes classifier is successfully used in various applications such as spam filtering, text classification, sentiment analysis, and recommender systems. It uses Bayes theorem of probability for prediction of unknown class.\n",
        "\n",
        "In this tutorial, you are going to learn about all of the following:\n",
        "\n",
        "- Classification Workflow\n",
        "- What is Naive Bayes classifier?\n",
        "- How Naive Bayes classifier works?\n",
        "- Classifier building in Scikit-learn\n",
        "- Zero Probability Problem\n",
        "- advantages and disadvantages"
      ]
    },
    {
      "cell_type": "markdown",
      "metadata": {
        "id": "T35VRlZn4vQl"
      },
      "source": [
        "## Classification Workflow\n",
        "Whenever you perform classification, the first step is to understand the problem and identify potential features and label. Features are those characteristics or attributes which affect the results of the label. For example, in the case of a loan distribution, bank manager's identify customer’s occupation, income, age, location, previous loan history, transaction history, and credit score. These characteristics are known as features which help the model classify customers.\n",
        "\n",
        "The classification has two phases, a learning phase, and the evaluation phase. In the learning phase, classifier trains its model on a given dataset and in the evaluation phase, it tests the classifier performance. Performance is evaluated on the basis of various parameters such as accuracy, error, precision, and recall.\n",
        "\n",
        "<img src = 'https://res.cloudinary.com/dyd911kmh/image/upload/f_auto,q_auto:best/v1543836883/image_2_rrxvol.png'/>"
      ]
    },
    {
      "cell_type": "markdown",
      "metadata": {
        "id": "GKOZSWNX4vQm"
      },
      "source": [
        "## What is Naive Bayes Classifier?\n",
        "Naive Bayes is a statistical classification technique based on Bayes Theorem. It is one of the simplest supervised learning algorithms. Naive Bayes classifier is the fast, accurate and reliable algorithm. Naive Bayes classifiers have high accuracy and speed on large datasets.\n",
        "\n",
        "Naive Bayes classifier assumes that the effect of a particular feature in a class is independent of other features. For example, a loan applicant is desirable or not depending on his/her income, previous loan and transaction history, age, and location. Even if these features are interdependent, these features are still considered independently. This assumption simplifies computation, and that's why it is considered as naive. This assumption is called class conditional independence.\n",
        "\n",
        "$$ P(h|D) = \\frac{P(D|h)P(h)}{P(D)} $$\n",
        "\n",
        "- $P(h)$: the probability of hypothesis h being true (regardless of the data). This is known as the **prior probability** of $h$.\n",
        "- $P(D)$: the probability of the data (regardless of the hypothesis). This is known as the **prior probability**.\n",
        "- $P(h|D)$: the probability of hypothesis h given the data $D$. This is known as **posterior probability**.\n",
        "- $P(D|h)$: the probability of data d given that the hypothesis h was true. This is known as **posterior probability**."
      ]
    },
    {
      "cell_type": "markdown",
      "metadata": {
        "id": "g8lm8lu24vQo"
      },
      "source": [
        "## How Naive Bayes classifier works?\n",
        "Let’s understand the working of Naive Bayes through an example. Given an example of weather conditions and playing sports. You need to calculate the probability of playing sports. Now, you need to classify whether players will play or not, based on the weather condition.\n",
        "\n",
        "### First Approach (In case of a single feature)\n",
        "Naive Bayes classifier calculates the probability of an event in the following steps:\n",
        "\n",
        "- Step 1: Calculate the prior probability for given class labels\n",
        "- Step 2: Find Likelihood probability with each attribute for each class\n",
        "- Step 3: Put these value in Bayes Formula and calculate posterior probability.\n",
        "- Step 4: See which class has a higher probability, given the input belongs to the higher probability class.\n",
        "For simplifying prior and posterior probability calculation you can use the two tables frequency and likelihood tables. Both of these tables will help you to calculate the prior and posterior probability. The Frequency table contains the occurrence of labels for all features. There are two likelihood tables. Likelihood Table 1 is showing prior probabilities of labels and Likelihood Table 2 is showing the posterior probability.\n",
        "\n",
        "<img src = 'https://res.cloudinary.com/dyd911kmh/image/upload/f_auto,q_auto:best/v1543836883/image_4_lyi0ob.png' />\n",
        "\n",
        "Now suppose you want to calculate the probability of playing when the weather is overcast.\n",
        "\n",
        "Probability of playing:\n",
        "\n",
        "$$ P(Yes|Overcast) = \\frac{P(Overcast|Yes)P(Yes)}{P(Overcast)}........(1)$$ \n",
        "\n",
        "1. Calculate Prior Probabilities:\n",
        "\n",
        "`P(Overcast) = 4/14 = 0.29`\n",
        "\n",
        "`P(Yes)= 9/14 = 0.64`\n",
        "\n",
        "2. Calculate Posterior Probabilities:\n",
        "\n",
        "`P(Overcast|Yes) = 4/9 = 0.44`\n",
        "\n",
        "3. Put Prior and Posterior probabilities in equation (1):\n",
        "\n",
        "`P(Yes|Overcast) = 0.44 * 0.64 / 0.29 = 0.98(Higher)`\n",
        "\n",
        "Similarly, you can calculate the probability of not playing:\n",
        "\n",
        "Probability of not playing:\n",
        "\n",
        "$$ P(No|Overcast) = \\frac{P(Overcast|No)P(No)}{P(Overcast)}..........(2)$$ \n",
        "\n",
        "1. Calculate Prior Probabilities:\n",
        "\n",
        "`P(Overcast) = 4/14 = 0.29`\n",
        "\n",
        "`P(No)= 5/14 = 0.36`\n",
        "\n",
        "2. Calculate Posterior Probabilities:\n",
        "\n",
        "`P(Overcast|No) = 0/9 = 0`\n",
        "\n",
        "3. Put Prior and Posterior probabilities in equation (2)\n",
        "\n",
        "`P(No|Overcast) = 0 * 0.36 / 0.29 = 0`\n",
        "\n",
        "The probability of a 'Yes' class is higher. So you can determine here if the weather is overcast than players will play the sport."
      ]
    },
    {
      "cell_type": "markdown",
      "metadata": {
        "id": "lacoqsZw4vQp"
      },
      "source": [
        "### Second Approach (In case of multiple features)\n",
        "<img src ='https://res.cloudinary.com/dyd911kmh/image/upload/f_auto,q_auto:best/v1543836884/image_5_uhsgzr.png'/>\n",
        "\n",
        "Now suppose you want to calculate the probability of playing when the weather is overcast, and the temperature is mild.\n",
        "\n",
        "Probability of playing:\n",
        "\n",
        "$$ P(Play=Yes|Weather=Overcast, Temp=Mild) = \\frac{P(Weather=Overcast, Temp=Mild|Play=Yes)}{P(Play=Yes)} ..........(3)$$\n",
        "\n",
        "$$ P(Weather=Overcast, Temp=Mild|Play=Yes)= \\frac{P(Overcast|Yes)}{P(Mild|Yes)} .........(4) $$\n",
        "\n",
        "1. Calculate Prior Probabilities: `P(Yes)= 9/14 = 0.64`\n",
        "\n",
        "2. Calculate Posterior Probabilities: `P(Overcast|Yes) = 4/9 = 0.44, P(Mild|Yes) = 4/9 = 0.44`\n",
        "\n",
        "3. Put Posterior probabilities in equation (4): `P(Weather=Overcast, Temp=Mild|Play= Yes) = 0.44 * 0.44 = 0.1936(Higher)`\n",
        "\n",
        "4. Put Prior and Posterior probabilities in equation (3): `P(Play=Yes|Weather=Overcast, Temp=Mild) = 0.1936*0.64 = 0.124`\n",
        "\n",
        "Probability of not playing:\n",
        "\n",
        "$$ P(Play=No|Weather=Overcast, Temp=Mild) = \\frac{P(Weather=Overcast, Temp=Mild|Play=no)}{P(Play=No)} ..........(5)$$\n",
        "\n",
        "$$ P(Weather=Overcast, Temp=Mild|Play=No)= \\frac{P(Overcast|No)}{P(Mild|No)} .........(6) $$\n",
        "\n",
        "1. Calculate Prior Probabilities: `P(No)= 5/14 = 0.36`\n",
        "\n",
        "2. Calculate Posterior Probabilities: `P(Weather=Overcast|Play=No) = 0/9 = 0, P(Temp=Mild|Play=No)=2/5=0.4`\n",
        "\n",
        "3. Put posterior probabilities in equation (6): `P(Weather=Overcast, Temp=Mild|Play= No) = 0 * 0.4= 0`\n",
        "\n",
        "4. Put prior and posterior probabilities in equation (5): `P(Play= No|Weather=Overcast, Temp=Mild) = 0*0.36=0`\n",
        "\n",
        "The probability of a 'Yes' class is higher. So you can say here that if the weather is overcast than players will play the sport."
      ]
    },
    {
      "cell_type": "markdown",
      "metadata": {
        "id": "bKuSUmdC4vQr"
      },
      "source": [
        "## Classifier Building in Scikit-learn\n",
        "### Naive Bayes Classifier\n",
        "#### Defining Dataset\n",
        "In this example, you can use the dummy dataset with three columns: weather, temperature, and play. The first two are features(weather, temperature) and the other is the label."
      ]
    },
    {
      "cell_type": "code",
      "metadata": {
        "id": "FwdAw5aR4vQs"
      },
      "source": [
        "# Assigning features and label variables\n",
        "weather=['Sunny','Sunny','Overcast','Rainy','Rainy','Rainy','Overcast','Sunny','Sunny',\n",
        "'Rainy','Sunny','Overcast','Overcast','Rainy']\n",
        "temp=['Hot','Hot','Hot','Mild','Cool','Cool','Cool','Mild','Cool','Mild','Mild','Mild','Hot','Mild']\n",
        "\n",
        "play=['No','No','Yes','Yes','Yes','No','Yes','No','Yes','Yes','Yes','Yes','Yes','No']"
      ],
      "execution_count": null,
      "outputs": []
    },
    {
      "cell_type": "markdown",
      "metadata": {
        "id": "NsBXl42d4vQx"
      },
      "source": [
        "#### Encoding Features\n",
        "First, you need to convert these string labels into numbers. for example: 'Overcast', 'Rainy', 'Sunny' as `0`, `1`, `2`. This is known as label encoding. Scikit-learn provides LabelEncoder library for encoding labels with a value between `0` and one less than the number of discrete classes."
      ]
    },
    {
      "cell_type": "code",
      "metadata": {
        "id": "pAqlm_iS4vQx",
        "colab": {
          "base_uri": "https://localhost:8080/"
        },
        "outputId": "472daf1b-ebac-4b98-a05c-3ca948069a14"
      },
      "source": [
        "# Import LabelEncoder\n",
        "from sklearn import preprocessing\n",
        "#creating labelEncoder\n",
        "le = preprocessing.LabelEncoder()\n",
        "# Converting string labels into numbers.\n",
        "weather_encoded=le.fit_transform(weather)\n",
        "print(weather_encoded)"
      ],
      "execution_count": null,
      "outputs": [
        {
          "output_type": "stream",
          "name": "stdout",
          "text": [
            "[2 2 0 1 1 1 0 2 2 1 2 0 0 1]\n"
          ]
        }
      ]
    },
    {
      "cell_type": "markdown",
      "metadata": {
        "id": "fdtMYD-M4vQ1"
      },
      "source": [
        "Similarly, you can also encode `temp` and `play` columns."
      ]
    },
    {
      "cell_type": "code",
      "metadata": {
        "id": "FdSAztGV4vQ2",
        "colab": {
          "base_uri": "https://localhost:8080/"
        },
        "outputId": "50e48648-7f6b-4103-cdd4-062e8b98d151"
      },
      "source": [
        "# Converting string labels into numbers\n",
        "temp_encoded=le.fit_transform(temp)\n",
        "label=le.fit_transform(play)\n",
        "print(\"Temp:\",temp_encoded)\n",
        "print(\"Play:\",label)\n"
      ],
      "execution_count": null,
      "outputs": [
        {
          "output_type": "stream",
          "name": "stdout",
          "text": [
            "Temp: [1 1 1 2 0 0 0 2 0 2 2 2 1 2]\n",
            "Play: [0 0 1 1 1 0 1 0 1 1 1 1 1 0]\n"
          ]
        }
      ]
    },
    {
      "cell_type": "markdown",
      "metadata": {
        "id": "771sx-IR4vQ7"
      },
      "source": [
        "Now combine both the features (weather and temp) in a single variable (list of tuples)."
      ]
    },
    {
      "cell_type": "code",
      "metadata": {
        "id": "lqmQpU8H4vQ7",
        "colab": {
          "base_uri": "https://localhost:8080/"
        },
        "outputId": "03fab15f-fd57-4392-a0b7-f3d88f077de0"
      },
      "source": [
        "#Combinig weather and temp into single listof tuples\n",
        "features=list(zip(weather_encoded,temp_encoded))\n",
        "print(features)"
      ],
      "execution_count": null,
      "outputs": [
        {
          "output_type": "stream",
          "name": "stdout",
          "text": [
            "[(2, 1), (2, 1), (0, 1), (1, 2), (1, 0), (1, 0), (0, 0), (2, 2), (2, 0), (1, 2), (2, 2), (0, 2), (0, 1), (1, 2)]\n"
          ]
        }
      ]
    },
    {
      "cell_type": "markdown",
      "metadata": {
        "id": "stM42BV14vQ-"
      },
      "source": [
        "#### Generating Model\n",
        "Generate a model using naive bayes classifier in the following steps:\n",
        "\n",
        "- Create naive bayes classifier\n",
        "- Fit the dataset on classifier\n",
        "- Perform prediction\n"
      ]
    },
    {
      "cell_type": "code",
      "metadata": {
        "id": "PK5H--4s4vQ_",
        "colab": {
          "base_uri": "https://localhost:8080/"
        },
        "outputId": "b736eca1-b9f9-49c1-8b09-04e1d6646ed2"
      },
      "source": [
        "#Import Gaussian Naive Bayes model\n",
        "from sklearn.naive_bayes import GaussianNB\n",
        "\n",
        "#Create a Gaussian Classifier\n",
        "model = GaussianNB()\n",
        "\n",
        "# Train the model using the training sets\n",
        "model.fit(features,label)\n",
        "\n",
        "#Predict Output\n",
        "predicted= model.predict([[0,2]]) # 0:Overcast, 2:Mild\n",
        "print(\"Predicted Value:\", predicted)"
      ],
      "execution_count": null,
      "outputs": [
        {
          "output_type": "stream",
          "name": "stdout",
          "text": [
            "Predicted Value: [1]\n"
          ]
        }
      ]
    },
    {
      "cell_type": "markdown",
      "metadata": {
        "id": "cf3prMcC4vRC"
      },
      "source": [
        "Here, `1` indicates that players can 'play'."
      ]
    },
    {
      "cell_type": "markdown",
      "metadata": {
        "id": "mjQMNl1h4vRD"
      },
      "source": [
        "### Naive Bayes with Multiple Labels\n",
        "Till now you have learned Naive Bayes classification with binary labels. Now you will learn about **multiple class** classification in Naive Bayes. Which is known as multinomial Naive Bayes classification. For example, if you want to classify a news article about technology, entertainment, politics, or sports.\n",
        "\n",
        "In model building part, you can use wine dataset which is a very famous multi-class classification problem. \"This dataset is the result of a chemical analysis of wines grown in the same region in Italy but derived from three different cultivars.\" [UC Irvine](https://archive.ics.uci.edu/ml/datasets/wine)\n",
        "\n",
        "Dataset comprises of 13 features (alcohol, malic_acid, ash, alcalinity_of_ash, magnesium, total_phenols, flavanoids, nonflavanoid_phenols, proanthocyanins, color_intensity, hue, od280/od315_of_diluted_wines, proline) and type of wine cultivar. This data has three type of wine Class_0, Class_1, and Class_3. Here you can build a model to classify the type of wine.\n",
        "\n",
        "The dataset is available in the `scikit-learn` library.\n",
        "\n",
        "#### Loading Data\n",
        "Let's first load the required wine dataset from scikit-learn datasets."
      ]
    },
    {
      "cell_type": "code",
      "metadata": {
        "id": "jGRXs_r14vRE"
      },
      "source": [
        "#Import scikit-learn dataset library\n",
        "from sklearn import datasets\n",
        "\n",
        "#Load dataset\n",
        "wine = datasets.load_wine()"
      ],
      "execution_count": null,
      "outputs": []
    },
    {
      "cell_type": "markdown",
      "metadata": {
        "id": "b16PR0KJ4vRJ"
      },
      "source": [
        "#### Exploring Data\n",
        "You can print the target and feature names, to make sure you have the right dataset, as such:"
      ]
    },
    {
      "cell_type": "code",
      "metadata": {
        "id": "F3PpMG3r4vRJ",
        "colab": {
          "base_uri": "https://localhost:8080/"
        },
        "outputId": "12c4fb8b-51a9-4c15-d194-14fa6c1adcae"
      },
      "source": [
        "# print the names of the 13 features\n",
        "print(\"Features: \", wine.feature_names)\n",
        "\n",
        "# print the label type of wine(class_0, class_1, class_2)\n",
        "print(\"Labels: \", wine.target_names)"
      ],
      "execution_count": null,
      "outputs": [
        {
          "output_type": "stream",
          "name": "stdout",
          "text": [
            "Features:  ['alcohol', 'malic_acid', 'ash', 'alcalinity_of_ash', 'magnesium', 'total_phenols', 'flavanoids', 'nonflavanoid_phenols', 'proanthocyanins', 'color_intensity', 'hue', 'od280/od315_of_diluted_wines', 'proline']\n",
            "Labels:  ['class_0' 'class_1' 'class_2']\n"
          ]
        }
      ]
    },
    {
      "cell_type": "markdown",
      "metadata": {
        "id": "muJUT4M04vRN"
      },
      "source": [
        "It's a good idea to always explore your data a bit, so you know what you're working with. After exploring the numbers of features and observations, you can see the first five rows of the dataset are printed, as well as the target variable for the whole dataset."
      ]
    },
    {
      "cell_type": "code",
      "metadata": {
        "id": "-OFT_1ow4vRO",
        "colab": {
          "base_uri": "https://localhost:8080/"
        },
        "outputId": "04735cf3-7c65-4c18-ed71-5dde8a9ad364"
      },
      "source": [
        "# print data(feature)shape\n",
        "wine.data.shape"
      ],
      "execution_count": null,
      "outputs": [
        {
          "output_type": "execute_result",
          "data": {
            "text/plain": [
              "(178, 13)"
            ]
          },
          "metadata": {},
          "execution_count": 8
        }
      ]
    },
    {
      "cell_type": "code",
      "metadata": {
        "id": "Yknlb7dj4vRR",
        "colab": {
          "base_uri": "https://localhost:8080/"
        },
        "outputId": "627218e1-e287-4be7-8b72-69a595facd82"
      },
      "source": [
        "# print the wine data features (top 5 records)\n",
        "print(wine.data[0:5])"
      ],
      "execution_count": null,
      "outputs": [
        {
          "output_type": "stream",
          "name": "stdout",
          "text": [
            "[[1.423e+01 1.710e+00 2.430e+00 1.560e+01 1.270e+02 2.800e+00 3.060e+00\n",
            "  2.800e-01 2.290e+00 5.640e+00 1.040e+00 3.920e+00 1.065e+03]\n",
            " [1.320e+01 1.780e+00 2.140e+00 1.120e+01 1.000e+02 2.650e+00 2.760e+00\n",
            "  2.600e-01 1.280e+00 4.380e+00 1.050e+00 3.400e+00 1.050e+03]\n",
            " [1.316e+01 2.360e+00 2.670e+00 1.860e+01 1.010e+02 2.800e+00 3.240e+00\n",
            "  3.000e-01 2.810e+00 5.680e+00 1.030e+00 3.170e+00 1.185e+03]\n",
            " [1.437e+01 1.950e+00 2.500e+00 1.680e+01 1.130e+02 3.850e+00 3.490e+00\n",
            "  2.400e-01 2.180e+00 7.800e+00 8.600e-01 3.450e+00 1.480e+03]\n",
            " [1.324e+01 2.590e+00 2.870e+00 2.100e+01 1.180e+02 2.800e+00 2.690e+00\n",
            "  3.900e-01 1.820e+00 4.320e+00 1.040e+00 2.930e+00 7.350e+02]]\n"
          ]
        }
      ]
    },
    {
      "cell_type": "code",
      "metadata": {
        "id": "p0PRx2nd4vRV",
        "colab": {
          "base_uri": "https://localhost:8080/"
        },
        "outputId": "90032a6a-1dae-424e-be6e-10884576df9e"
      },
      "source": [
        "# print the wine labels (0:Class_0, 1:class_2, 2:class_2)\n",
        "print(wine.target)"
      ],
      "execution_count": null,
      "outputs": [
        {
          "output_type": "stream",
          "name": "stdout",
          "text": [
            "[0 0 0 0 0 0 0 0 0 0 0 0 0 0 0 0 0 0 0 0 0 0 0 0 0 0 0 0 0 0 0 0 0 0 0 0 0\n",
            " 0 0 0 0 0 0 0 0 0 0 0 0 0 0 0 0 0 0 0 0 0 0 1 1 1 1 1 1 1 1 1 1 1 1 1 1 1\n",
            " 1 1 1 1 1 1 1 1 1 1 1 1 1 1 1 1 1 1 1 1 1 1 1 1 1 1 1 1 1 1 1 1 1 1 1 1 1\n",
            " 1 1 1 1 1 1 1 1 1 1 1 1 1 1 1 1 1 1 1 2 2 2 2 2 2 2 2 2 2 2 2 2 2 2 2 2 2\n",
            " 2 2 2 2 2 2 2 2 2 2 2 2 2 2 2 2 2 2 2 2 2 2 2 2 2 2 2 2 2 2]\n"
          ]
        }
      ]
    },
    {
      "cell_type": "markdown",
      "metadata": {
        "id": "I9M_y7el4vRZ"
      },
      "source": [
        "#### Splitting Data\n",
        "First, you separate the columns into dependent and independent variables(or features and label). Then you split those variables into train and test set.\n",
        "\n",
        "<img src = 'https://res.cloudinary.com/dyd911kmh/image/upload/f_auto,q_auto:best/v1543836883/image_6_cfpjpr.png' />"
      ]
    },
    {
      "cell_type": "code",
      "metadata": {
        "id": "wn_wbOtm4vRa"
      },
      "source": [
        "# Import train_test_split function\n",
        "from sklearn.model_selection import train_test_split\n",
        "\n",
        "# Split dataset into training set and test set \n",
        "# 70% training and 30% test\n",
        "X_train, X_test, y_train, y_test = train_test_split(wine.data, wine.target, test_size=0.3,random_state=2019) "
      ],
      "execution_count": null,
      "outputs": []
    },
    {
      "cell_type": "markdown",
      "metadata": {
        "id": "5BQErW2U4vRh"
      },
      "source": [
        "#### Model Generation\n",
        "After splitting, you will generate a random forest model on the training set and perform prediction on test set features."
      ]
    },
    {
      "cell_type": "code",
      "metadata": {
        "id": "Kf30T19S4vRh"
      },
      "source": [
        "#Import Gaussian Naive Bayes model\n",
        "from sklearn.naive_bayes import GaussianNB\n",
        "\n",
        "#Create a Gaussian Classifier\n",
        "gnb = GaussianNB()\n",
        "\n",
        "#Train the model using the training sets\n",
        "gnb.fit(X_train, y_train)\n",
        "\n",
        "#Predict the response for test dataset\n",
        "y_pred = gnb.predict(X_test)"
      ],
      "execution_count": null,
      "outputs": []
    },
    {
      "cell_type": "markdown",
      "metadata": {
        "id": "8AwhNGTN4vRk"
      },
      "source": [
        "#### Evaluating Model\n",
        "After model generation, check the accuracy using actual and predicted values."
      ]
    },
    {
      "cell_type": "code",
      "metadata": {
        "id": "nI6Sd5_74vRl",
        "colab": {
          "base_uri": "https://localhost:8080/"
        },
        "outputId": "971e0fda-2b38-4c5c-afa0-fe1ba80ac1b2"
      },
      "source": [
        "#Import scikit-learn metrics module for accuracy calculation\n",
        "from sklearn import metrics\n",
        "\n",
        "# Model Accuracy, how often is the classifier correct?\n",
        "print(\"Accuracy:\",metrics.accuracy_score(y_test, y_pred))"
      ],
      "execution_count": null,
      "outputs": [
        {
          "output_type": "stream",
          "name": "stdout",
          "text": [
            "Accuracy: 0.9629629629629629\n"
          ]
        }
      ]
    },
    {
      "cell_type": "markdown",
      "metadata": {
        "id": "aizzYgZR4vRo"
      },
      "source": [
        "## Advantages\n",
        "- It is not only a simple approach but also a fast and accurate method for prediction.\n",
        "- Naive Bayes has very low computation cost.\n",
        "- It can efficiently work on a large dataset.\n",
        "- It performs well in case of discrete response variable compared to the continuous variable.\n",
        "- It can be used with multiple class prediction problems.\n",
        "- It also performs well in the case of text analytics problems.\n",
        "- When the assumption of independence holds, a Naive Bayes classifier performs better compared to other models like logistic regression.\n",
        "\n",
        "## Disadvantages\n",
        "- The assumption of independent features. In practice, it is almost impossible that model will get a set of predictors which are entirely independent.\n",
        "- If there is no training tuple of a particular class, this causes zero posterior probability. In this case, the model is unable to make predictions. This problem is known as Zero Probability/Frequency Problem.\n",
        "\n",
        "## Conclusion\n",
        "Congratulations, you have made it to the end of this tutorial!\n",
        "\n",
        "In this tutorial, you learned about Naïve Bayes algorithm, it's working, Naive Bayes assumption, issues, implementation, advantages, and disadvantages. Along the road, you have also learned model building and evaluation in scikit-learn for binary and multinomial classes.\n",
        "\n",
        "Naive Bayes is the most straightforward and most potent algorithm. In spite of the significant advances of Machine Learning in the last couple of years, it has proved its worth. It has been successfully deployed in many applications from text analytics to recommendation engines"
      ]
    },
    {
      "cell_type": "code",
      "metadata": {
        "id": "ZyZ9o2v44vRp"
      },
      "source": [],
      "execution_count": null,
      "outputs": []
    }
  ]
}